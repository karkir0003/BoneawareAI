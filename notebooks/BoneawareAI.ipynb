{
 "cells": [
  {
   "cell_type": "markdown",
   "metadata": {
    "id": "5CHWhyuzyfvZ"
   },
   "source": [
    "# BoneawareAI\n",
    "\n",
    "By: Karthik Subramanian, Charles Green, Sai Anurag Pichika, Saarang Prabhuram\n"
   ]
  },
  {
   "cell_type": "markdown",
   "metadata": {
    "id": "ZFJ0ozK8yp3V"
   },
   "source": [
    "## Setup"
   ]
  },
  {
   "cell_type": "markdown",
   "metadata": {},
   "source": [
    "### Load Extensions\n",
    "\n",
    "Before getting started we need to run some standard code to set up our environment. You'll need to execute this code again each time you start the notebook.\n",
    "\n",
    "First, run this cell to load the [autoreload](https://ipython.readthedocs.io/en/stable/config/extensions/autoreload.html?highlight=autoreload) extension. This enables us to modify `.py` source files and reintegrate them into the notebook, ensuring a smooth editing and debugging experience."
   ]
  },
  {
   "cell_type": "code",
   "execution_count": 1,
   "metadata": {},
   "outputs": [],
   "source": [
    "%load_ext autoreload\n",
    "%autoreload 2"
   ]
  },
  {
   "cell_type": "markdown",
   "metadata": {},
   "source": [
    "### Google Colab Setup\n",
    "Next we need to run a few commands to set up our environment on Google Colab. If you are running this notebook on a local machine you can skip this section.\n",
    "\n",
    "Run the following cell to mount your Google Drive. Follow the link, sign in to your Google account (the same account you used to store this notebook!)."
   ]
  },
  {
   "cell_type": "code",
   "execution_count": 2,
   "metadata": {
    "colab": {
     "base_uri": "https://localhost:8080/"
    },
    "executionInfo": {
     "elapsed": 17962,
     "status": "ok",
     "timestamp": 1731635628220,
     "user": {
      "displayName": "Karthik Subramanian",
      "userId": "06529395952522016450"
     },
     "user_tz": 300
    },
    "id": "8fFVquhuCVrq",
    "outputId": "f97e5b79-8387-45ca-acbd-b07fe4a2d5df"
   },
   "outputs": [
    {
     "ename": "ModuleNotFoundError",
     "evalue": "No module named 'google.colab'",
     "output_type": "error",
     "traceback": [
      "\u001b[1;31m---------------------------------------------------------------------------\u001b[0m",
      "\u001b[1;31mModuleNotFoundError\u001b[0m                       Traceback (most recent call last)",
      "Cell \u001b[1;32mIn[2], line 1\u001b[0m\n\u001b[1;32m----> 1\u001b[0m \u001b[38;5;28;01mfrom\u001b[39;00m \u001b[38;5;21;01mgoogle\u001b[39;00m\u001b[38;5;21;01m.\u001b[39;00m\u001b[38;5;21;01mcolab\u001b[39;00m \u001b[38;5;28;01mimport\u001b[39;00m drive\n\u001b[0;32m      2\u001b[0m drive\u001b[38;5;241m.\u001b[39mmount(\u001b[38;5;124m'\u001b[39m\u001b[38;5;124m/content/drive\u001b[39m\u001b[38;5;124m'\u001b[39m)\n",
      "\u001b[1;31mModuleNotFoundError\u001b[0m: No module named 'google.colab'"
     ]
    }
   ],
   "source": [
    "from google.colab import drive\n",
    "drive.mount('/content/drive')"
   ]
  },
  {
   "cell_type": "code",
   "execution_count": 3,
   "metadata": {
    "colab": {
     "base_uri": "https://localhost:8080/",
     "height": 36
    },
    "executionInfo": {
     "elapsed": 165,
     "status": "ok",
     "timestamp": 1731635709019,
     "user": {
      "displayName": "Karthik Subramanian",
      "userId": "06529395952522016450"
     },
     "user_tz": 300
    },
    "id": "It7_Rq3X4g3z",
    "outputId": "417d2803-8efb-41ed-9e90-851c04ab634e"
   },
   "outputs": [
    {
     "ename": "FileNotFoundError",
     "evalue": "[WinError 3] The system cannot find the path specified: '/content/drive/MyDrive/BoneawareAI'",
     "output_type": "error",
     "traceback": [
      "\u001b[1;31m---------------------------------------------------------------------------\u001b[0m",
      "\u001b[1;31mFileNotFoundError\u001b[0m                         Traceback (most recent call last)",
      "Cell \u001b[1;32mIn[3], line 4\u001b[0m\n\u001b[0;32m      2\u001b[0m PROJECT_PATH \u001b[38;5;241m=\u001b[39m \u001b[38;5;124m'\u001b[39m\u001b[38;5;124mBoneawareAI\u001b[39m\u001b[38;5;124m'\u001b[39m\n\u001b[0;32m      3\u001b[0m GOOGLE_DRIVE_PATH \u001b[38;5;241m=\u001b[39m \u001b[38;5;124mf\u001b[39m\u001b[38;5;124m'\u001b[39m\u001b[38;5;124m/content/drive/MyDrive/\u001b[39m\u001b[38;5;132;01m{\u001b[39;00mPROJECT_PATH\u001b[38;5;132;01m}\u001b[39;00m\u001b[38;5;124m'\u001b[39m\n\u001b[1;32m----> 4\u001b[0m \u001b[43mos\u001b[49m\u001b[38;5;241;43m.\u001b[39;49m\u001b[43mchdir\u001b[49m\u001b[43m(\u001b[49m\u001b[43mGOOGLE_DRIVE_PATH\u001b[49m\u001b[43m)\u001b[49m\n\u001b[0;32m      5\u001b[0m os\u001b[38;5;241m.\u001b[39mgetcwd()\n",
      "\u001b[1;31mFileNotFoundError\u001b[0m: [WinError 3] The system cannot find the path specified: '/content/drive/MyDrive/BoneawareAI'"
     ]
    }
   ],
   "source": [
    "import os\n",
    "PROJECT_PATH = 'BoneawareAI'\n",
    "GOOGLE_DRIVE_PATH = f'/content/drive/MyDrive/{PROJECT_PATH}'\n",
    "os.chdir(GOOGLE_DRIVE_PATH)\n",
    "os.getcwd()"
   ]
  },
  {
   "cell_type": "code",
   "execution_count": 4,
   "metadata": {
    "executionInfo": {
     "elapsed": 184,
     "status": "ok",
     "timestamp": 1731636108951,
     "user": {
      "displayName": "Karthik Subramanian",
      "userId": "06529395952522016450"
     },
     "user_tz": 300
    },
    "id": "1w70X5avjfR1"
   },
   "outputs": [],
   "source": [
    "import sys\n",
    "sys.path.append(GOOGLE_DRIVE_PATH) # this is important for the imports in the .py files to work"
   ]
  },
  {
   "cell_type": "code",
   "execution_count": 5,
   "metadata": {
    "colab": {
     "base_uri": "https://localhost:8080/"
    },
    "executionInfo": {
     "elapsed": 21568,
     "status": "ok",
     "timestamp": 1731635706314,
     "user": {
      "displayName": "Karthik Subramanian",
      "userId": "06529395952522016450"
     },
     "user_tz": 300
    },
    "id": "TkDj-6n-EMYa",
    "outputId": "406f0642-1aaf-40e7-9eac-79c5aa12fa97"
   },
   "outputs": [
    {
     "name": "stdout",
     "output_type": "stream",
     "text": [
      "Requirement already satisfied: pyyaml==5.4.1 in c:\\users\\charl\\anaconda3\\envs\\boneaware-ai\\lib\\site-packages (5.4.1)\n",
      "Requirement already satisfied: boto3 in c:\\users\\charl\\anaconda3\\envs\\boneaware-ai\\lib\\site-packages (1.34.154)\n",
      "Requirement already satisfied: botocore<1.35.0,>=1.34.154 in c:\\users\\charl\\anaconda3\\envs\\boneaware-ai\\lib\\site-packages (from boto3) (1.34.154)\n",
      "Requirement already satisfied: jmespath<2.0.0,>=0.7.1 in c:\\users\\charl\\anaconda3\\envs\\boneaware-ai\\lib\\site-packages (from boto3) (1.0.1)\n",
      "Requirement already satisfied: s3transfer<0.11.0,>=0.10.0 in c:\\users\\charl\\anaconda3\\envs\\boneaware-ai\\lib\\site-packages (from boto3) (0.10.1)\n",
      "Requirement already satisfied: python-dateutil<3.0.0,>=2.1 in c:\\users\\charl\\anaconda3\\envs\\boneaware-ai\\lib\\site-packages (from botocore<1.35.0,>=1.34.154->boto3) (2.9.0.post0)\n",
      "Requirement already satisfied: urllib3!=2.2.0,<3,>=1.25.4 in c:\\users\\charl\\anaconda3\\envs\\boneaware-ai\\lib\\site-packages (from botocore<1.35.0,>=1.34.154->boto3) (2.2.3)\n",
      "Requirement already satisfied: six>=1.5 in c:\\users\\charl\\anaconda3\\envs\\boneaware-ai\\lib\\site-packages (from python-dateutil<3.0.0,>=2.1->botocore<1.35.0,>=1.34.154->boto3) (1.16.0)\n",
      "Requirement already satisfied: configparser in c:\\users\\charl\\anaconda3\\envs\\boneaware-ai\\lib\\site-packages (5.0.2)\n",
      "Requirement already satisfied: torch in c:\\users\\charl\\anaconda3\\envs\\boneaware-ai\\lib\\site-packages (1.13.1)\n",
      "Requirement already satisfied: typing-extensions in c:\\users\\charl\\anaconda3\\envs\\boneaware-ai\\lib\\site-packages (from torch) (4.11.0)\n"
     ]
    }
   ],
   "source": [
    "!pip install pyyaml==5.4.1\n",
    "!pip install boto3\n",
    "!pip install configparser\n",
    "!pip install torch"
   ]
  },
  {
   "cell_type": "markdown",
   "metadata": {},
   "source": [
    "### Local Setup OR Google Drive\n",
    "Run the cell below regardless of whether you are using google drive or local setup."
   ]
  },
  {
   "cell_type": "code",
   "execution_count": 6,
   "metadata": {},
   "outputs": [
    {
     "name": "stdout",
     "output_type": "stream",
     "text": [
      "Running locally.\n"
     ]
    }
   ],
   "source": [
    "# if running locally set GOOGLE PATH\n",
    "import sys\n",
    "if 'google.colab' in sys.modules:\n",
    "  print(f'Running in google colab. Our path is `{GOOGLE_DRIVE_PATH}`')\n",
    "else:\n",
    "  GOOGLE_DRIVE_PATH = '.'\n",
    "  print('Running locally.')"
   ]
  },
  {
   "cell_type": "markdown",
   "metadata": {},
   "source": [
    "### Imports"
   ]
  },
  {
   "cell_type": "code",
   "execution_count": 7,
   "metadata": {},
   "outputs": [],
   "source": [
    "import sys\n",
    "sys.path.append('../src')  # Add the 'src' folder to Python's module search path\n",
    "sys.path.append('../datasets')  # Add the 'datasets' folder to Python's module search path\n",
    "sys.path.append('../notebooks')  # Add the 'notebooks' folder to Python's module search path"
   ]
  },
  {
   "cell_type": "code",
   "execution_count": null,
   "metadata": {},
   "outputs": [],
   "source": []
  },
  {
   "cell_type": "markdown",
   "metadata": {
    "id": "NGVUtueX353J"
   },
   "source": [
    "## Data Preprocessing\n",
    "Get the dataset, perform data augmentation to get finalized MURA dataset"
   ]
  },
  {
   "cell_type": "code",
   "execution_count": 16,
   "metadata": {
    "colab": {
     "base_uri": "https://localhost:8080/"
    },
    "executionInfo": {
     "elapsed": 728944,
     "status": "ok",
     "timestamp": 1731639512514,
     "user": {
      "displayName": "Karthik Subramanian",
      "userId": "06529395952522016450"
     },
     "user_tz": 300
    },
    "id": "sIU_T5hM3-YD",
    "outputId": "f7e6ae30-f070-4587-e02f-f09732ead1eb"
   },
   "outputs": [
    {
     "name": "stdout",
     "output_type": "stream",
     "text": [
      "File downloaded successfully to datasets\\MURA-v1.1.zip\n",
      "successfully unzipped the file at path c:\\code\\BoneawareAI\\datasets\\MURA-v1.1.zip\n"
     ]
    }
   ],
   "source": [
    "# Downloading MURA dataset and unzipping the file (this one takes time)\n",
    "from src.data_loader import download_dataset\n",
    "from src.constants import DATASETS_FOLDER, MURA_DATASET\n",
    "from src.helpers.utils import unzip_file\n",
    "download_dataset(MURA_DATASET, DATASETS_FOLDER)\n",
    "unzip_file(os.path.join(os.getcwd(), DATASETS_FOLDER, MURA_DATASET))"
   ]
  },
  {
   "cell_type": "code",
   "execution_count": 8,
   "metadata": {},
   "outputs": [],
   "source": [
    "from image_utils import MURADataset, get_transforms, load_data"
   ]
  },
  {
   "cell_type": "code",
   "execution_count": 21,
   "metadata": {},
   "outputs": [
    {
     "name": "stdout",
     "output_type": "stream",
     "text": [
      "Found 36808 validated image filenames belonging to 1 classes in the training set.\n",
      "Found 3197 validated image filenames belonging to 1 classes in the validation set.\n",
      "Batch size: 32, Labels: tensor([-1, -1, -1, -1, -1, -1, -1, -1, -1, -1, -1, -1, -1, -1, -1, -1, -1, -1,\n",
      "        -1, -1, -1, -1, -1, -1, -1, -1, -1, -1, -1, -1, -1, -1])\n"
     ]
    }
   ],
   "source": [
    "# Set paths\n",
    "data_dir = \"../datasets/MURA-v1.1\"\n",
    "batch_size = 32\n",
    "\n",
    "# Load Data\n",
    "train_loader, valid_loader = load_data(data_dir, batch_size=batch_size)\n",
    "\n",
    "# Test the DataLoader\n",
    "for images, labels in train_loader:\n",
    "    print(f\"Batch size: {len(images)}, Labels: {labels}\")\n",
    "    break"
   ]
  },
  {
   "cell_type": "code",
   "execution_count": 19,
   "metadata": {},
   "outputs": [
    {
     "name": "stdout",
     "output_type": "stream",
     "text": [
      "Training Data:\n",
      "Raw img_path from CSV: MURA-v1.1/train/XR_ELBOW/patient05171/study1_positive/image2.png\n",
      "Adjusted img_path: XR_ELBOW/patient05171/study1_positive/image2.png\n",
      "Constructed full_img_path: ..\\datasets\\MURA-v1.1\\train\\XR_ELBOW\\patient05171\\study1_positive\\image2.png\n",
      "Raw img_path from CSV: MURA-v1.1/train/XR_HAND/patient06561/study1_positive/image1.png\n",
      "Adjusted img_path: XR_HAND/patient06561/study1_positive/image1.png\n",
      "Constructed full_img_path: ..\\datasets\\MURA-v1.1\\train\\XR_HAND\\patient06561\\study1_positive\\image1.png\n",
      "Raw img_path from CSV: MURA-v1.1/train/XR_WRIST/patient06448/study1_positive/image1.png\n",
      "Adjusted img_path: XR_WRIST/patient06448/study1_positive/image1.png\n",
      "Constructed full_img_path: ..\\datasets\\MURA-v1.1\\train\\XR_WRIST\\patient06448\\study1_positive\\image1.png\n",
      "Raw img_path from CSV: MURA-v1.1/train/XR_ELBOW/patient05395/study1_positive/image1.png\n",
      "Adjusted img_path: XR_ELBOW/patient05395/study1_positive/image1.png\n",
      "Constructed full_img_path: ..\\datasets\\MURA-v1.1\\train\\XR_ELBOW\\patient05395\\study1_positive\\image1.png\n",
      "Raw img_path from CSV: MURA-v1.1/train/XR_SHOULDER/patient01886/study1_negative/image3.png\n",
      "Adjusted img_path: XR_SHOULDER/patient01886/study1_negative/image3.png\n",
      "Constructed full_img_path: ..\\datasets\\MURA-v1.1\\train\\XR_SHOULDER\\patient01886\\study1_negative\\image3.png\n",
      "Raw img_path from CSV: MURA-v1.1/train/XR_WRIST/patient07206/study1_positive/image1.png\n",
      "Adjusted img_path: XR_WRIST/patient07206/study1_positive/image1.png\n",
      "Constructed full_img_path: ..\\datasets\\MURA-v1.1\\train\\XR_WRIST\\patient07206\\study1_positive\\image1.png\n",
      "Raw img_path from CSV: MURA-v1.1/train/XR_WRIST/patient07772/study1_negative/image2.png\n",
      "Adjusted img_path: XR_WRIST/patient07772/study1_negative/image2.png\n",
      "Constructed full_img_path: ..\\datasets\\MURA-v1.1\\train\\XR_WRIST\\patient07772\\study1_negative\\image2.png\n",
      "Raw img_path from CSV: MURA-v1.1/train/XR_FINGER/patient04004/study1_negative/image1.png\n",
      "Adjusted img_path: XR_FINGER/patient04004/study1_negative/image1.png\n",
      "Constructed full_img_path: ..\\datasets\\MURA-v1.1\\train\\XR_FINGER\\patient04004\\study1_negative\\image1.png\n",
      "Raw img_path from CSV: MURA-v1.1/train/XR_WRIST/patient08769/study1_negative/image1.png\n",
      "Adjusted img_path: XR_WRIST/patient08769/study1_negative/image1.png\n",
      "Constructed full_img_path: ..\\datasets\\MURA-v1.1\\train\\XR_WRIST\\patient08769\\study1_negative\\image1.png\n",
      "Raw img_path from CSV: MURA-v1.1/train/XR_ELBOW/patient06075/study1_negative/image2.png\n",
      "Adjusted img_path: XR_ELBOW/patient06075/study1_negative/image2.png\n",
      "Constructed full_img_path: ..\\datasets\\MURA-v1.1\\train\\XR_ELBOW\\patient06075\\study1_negative\\image2.png\n",
      "Raw img_path from CSV: MURA-v1.1/train/XR_HAND/patient10892/study1_negative/image2.png\n",
      "Adjusted img_path: XR_HAND/patient10892/study1_negative/image2.png\n",
      "Constructed full_img_path: ..\\datasets\\MURA-v1.1\\train\\XR_HAND\\patient10892\\study1_negative\\image2.png\n",
      "Raw img_path from CSV: MURA-v1.1/train/XR_WRIST/patient08852/study1_negative/image1.png\n",
      "Adjusted img_path: XR_WRIST/patient08852/study1_negative/image1.png\n",
      "Constructed full_img_path: ..\\datasets\\MURA-v1.1\\train\\XR_WRIST\\patient08852\\study1_negative\\image1.png\n",
      "Raw img_path from CSV: MURA-v1.1/train/XR_SHOULDER/patient00204/study1_positive/image1.png\n",
      "Adjusted img_path: XR_SHOULDER/patient00204/study1_positive/image1.png\n",
      "Constructed full_img_path: ..\\datasets\\MURA-v1.1\\train\\XR_SHOULDER\\patient00204\\study1_positive\\image1.png\n",
      "Raw img_path from CSV: MURA-v1.1/train/XR_FOREARM/patient09403/study1_negative/image1.png\n",
      "Adjusted img_path: XR_FOREARM/patient09403/study1_negative/image1.png\n",
      "Constructed full_img_path: ..\\datasets\\MURA-v1.1\\train\\XR_FOREARM\\patient09403\\study1_negative\\image1.png\n",
      "Raw img_path from CSV: MURA-v1.1/train/XR_FINGER/patient03245/study1_positive/image3.png\n",
      "Adjusted img_path: XR_FINGER/patient03245/study1_positive/image3.png\n",
      "Constructed full_img_path: ..\\datasets\\MURA-v1.1\\train\\XR_FINGER\\patient03245\\study1_positive\\image3.png\n",
      "Raw img_path from CSV: MURA-v1.1/train/XR_SHOULDER/patient00536/study1_positive/image3.png\n",
      "Adjusted img_path: XR_SHOULDER/patient00536/study1_positive/image3.png\n",
      "Constructed full_img_path: ..\\datasets\\MURA-v1.1\\train\\XR_SHOULDER\\patient00536\\study1_positive\\image3.png\n",
      "Raw img_path from CSV: MURA-v1.1/train/XR_SHOULDER/patient00439/study1_positive/image1.png\n",
      "Adjusted img_path: XR_SHOULDER/patient00439/study1_positive/image1.png\n",
      "Constructed full_img_path: ..\\datasets\\MURA-v1.1\\train\\XR_SHOULDER\\patient00439\\study1_positive\\image1.png\n",
      "Raw img_path from CSV: MURA-v1.1/train/XR_WRIST/patient07879/study1_negative/image3.png\n",
      "Adjusted img_path: XR_WRIST/patient07879/study1_negative/image3.png\n",
      "Constructed full_img_path: ..\\datasets\\MURA-v1.1\\train\\XR_WRIST\\patient07879\\study1_negative\\image3.png\n",
      "Raw img_path from CSV: MURA-v1.1/train/XR_SHOULDER/patient00913/study1_positive/image2.png\n",
      "Adjusted img_path: XR_SHOULDER/patient00913/study1_positive/image2.png\n",
      "Constructed full_img_path: ..\\datasets\\MURA-v1.1\\train\\XR_SHOULDER\\patient00913\\study1_positive\\image2.png\n",
      "Raw img_path from CSV: MURA-v1.1/train/XR_HAND/patient06235/study1_positive/image1.png\n",
      "Adjusted img_path: XR_HAND/patient06235/study1_positive/image1.png\n",
      "Constructed full_img_path: ..\\datasets\\MURA-v1.1\\train\\XR_HAND\\patient06235\\study1_positive\\image1.png\n",
      "Raw img_path from CSV: MURA-v1.1/train/XR_FINGER/patient04431/study1_negative/image2.png\n",
      "Adjusted img_path: XR_FINGER/patient04431/study1_negative/image2.png\n",
      "Constructed full_img_path: ..\\datasets\\MURA-v1.1\\train\\XR_FINGER\\patient04431\\study1_negative\\image2.png\n",
      "Raw img_path from CSV: MURA-v1.1/train/XR_SHOULDER/patient02321/study1_negative/image3.png\n",
      "Adjusted img_path: XR_SHOULDER/patient02321/study1_negative/image3.png\n",
      "Constructed full_img_path: ..\\datasets\\MURA-v1.1\\train\\XR_SHOULDER\\patient02321\\study1_negative\\image3.png\n",
      "Raw img_path from CSV: MURA-v1.1/train/XR_HUMERUS/patient03027/study1_negative/image1.png\n",
      "Adjusted img_path: XR_HUMERUS/patient03027/study1_negative/image1.png\n",
      "Constructed full_img_path: ..\\datasets\\MURA-v1.1\\train\\XR_HUMERUS\\patient03027\\study1_negative\\image1.png\n",
      "Raw img_path from CSV: MURA-v1.1/train/XR_HAND/patient05468/study1_negative/image3.png\n",
      "Adjusted img_path: XR_HAND/patient05468/study1_negative/image3.png\n",
      "Constructed full_img_path: ..\\datasets\\MURA-v1.1\\train\\XR_HAND\\patient05468\\study1_negative\\image3.png\n",
      "Raw img_path from CSV: MURA-v1.1/train/XR_FOREARM/patient09158/study1_positive/image2.png\n",
      "Adjusted img_path: XR_FOREARM/patient09158/study1_positive/image2.png\n",
      "Constructed full_img_path: ..\\datasets\\MURA-v1.1\\train\\XR_FOREARM\\patient09158\\study1_positive\\image2.png\n",
      "Raw img_path from CSV: MURA-v1.1/train/XR_WRIST/patient07327/study1_positive/image2.png\n",
      "Adjusted img_path: XR_WRIST/patient07327/study1_positive/image2.png\n",
      "Constructed full_img_path: ..\\datasets\\MURA-v1.1\\train\\XR_WRIST\\patient07327\\study1_positive\\image2.png\n",
      "Raw img_path from CSV: MURA-v1.1/train/XR_ELBOW/patient05042/study1_positive/image2.png\n",
      "Adjusted img_path: XR_ELBOW/patient05042/study1_positive/image2.png\n",
      "Constructed full_img_path: ..\\datasets\\MURA-v1.1\\train\\XR_ELBOW\\patient05042\\study1_positive\\image2.png\n",
      "Raw img_path from CSV: MURA-v1.1/train/XR_WRIST/patient07298/study1_positive/image1.png\n",
      "Adjusted img_path: XR_WRIST/patient07298/study1_positive/image1.png\n",
      "Constructed full_img_path: ..\\datasets\\MURA-v1.1\\train\\XR_WRIST\\patient07298\\study1_positive\\image1.png\n",
      "Raw img_path from CSV: MURA-v1.1/train/XR_WRIST/patient07412/study1_positive/image1.png\n",
      "Adjusted img_path: XR_WRIST/patient07412/study1_positive/image1.png\n",
      "Constructed full_img_path: ..\\datasets\\MURA-v1.1\\train\\XR_WRIST\\patient07412\\study1_positive\\image1.png\n",
      "Raw img_path from CSV: MURA-v1.1/train/XR_HAND/patient01344/study1_negative/image2.png\n",
      "Adjusted img_path: XR_HAND/patient01344/study1_negative/image2.png\n",
      "Constructed full_img_path: ..\\datasets\\MURA-v1.1\\train\\XR_HAND\\patient01344\\study1_negative\\image2.png\n",
      "Raw img_path from CSV: MURA-v1.1/train/XR_FINGER/patient04380/study1_negative/image1.png\n",
      "Adjusted img_path: XR_FINGER/patient04380/study1_negative/image1.png\n",
      "Constructed full_img_path: ..\\datasets\\MURA-v1.1\\train\\XR_FINGER\\patient04380\\study1_negative\\image1.png\n",
      "Raw img_path from CSV: MURA-v1.1/train/XR_FINGER/patient03606/study1_positive/image4.png\n",
      "Adjusted img_path: XR_FINGER/patient03606/study1_positive/image4.png\n",
      "Constructed full_img_path: ..\\datasets\\MURA-v1.1\\train\\XR_FINGER\\patient03606\\study1_positive\\image4.png\n",
      "Batch size: 32, Labels: tensor([-1, -1, -1, -1, -1, -1, -1, -1, -1, -1, -1, -1, -1, -1, -1, -1, -1, -1,\n",
      "        -1, -1, -1, -1, -1, -1, -1, -1, -1, -1, -1, -1, -1, -1])\n",
      "Validation Data:\n",
      "Raw img_path from CSV: MURA-v1.1/valid/XR_WRIST/patient11185/study1_positive/image1.png\n",
      "Adjusted img_path: XR_WRIST/patient11185/study1_positive/image1.png\n",
      "Constructed full_img_path: ..\\datasets\\MURA-v1.1\\valid\\XR_WRIST\\patient11185\\study1_positive\\image1.png\n",
      "Raw img_path from CSV: MURA-v1.1/valid/XR_WRIST/patient11185/study1_positive/image2.png\n",
      "Adjusted img_path: XR_WRIST/patient11185/study1_positive/image2.png\n",
      "Constructed full_img_path: ..\\datasets\\MURA-v1.1\\valid\\XR_WRIST\\patient11185\\study1_positive\\image2.png\n",
      "Raw img_path from CSV: MURA-v1.1/valid/XR_WRIST/patient11185/study1_positive/image3.png\n",
      "Adjusted img_path: XR_WRIST/patient11185/study1_positive/image3.png\n",
      "Constructed full_img_path: ..\\datasets\\MURA-v1.1\\valid\\XR_WRIST\\patient11185\\study1_positive\\image3.png\n",
      "Raw img_path from CSV: MURA-v1.1/valid/XR_WRIST/patient11185/study1_positive/image4.png\n",
      "Adjusted img_path: XR_WRIST/patient11185/study1_positive/image4.png\n",
      "Constructed full_img_path: ..\\datasets\\MURA-v1.1\\valid\\XR_WRIST\\patient11185\\study1_positive\\image4.png\n",
      "Raw img_path from CSV: MURA-v1.1/valid/XR_WRIST/patient11186/study1_positive/image1.png\n",
      "Adjusted img_path: XR_WRIST/patient11186/study1_positive/image1.png\n",
      "Constructed full_img_path: ..\\datasets\\MURA-v1.1\\valid\\XR_WRIST\\patient11186\\study1_positive\\image1.png\n",
      "Raw img_path from CSV: MURA-v1.1/valid/XR_WRIST/patient11186/study1_positive/image2.png\n",
      "Adjusted img_path: XR_WRIST/patient11186/study1_positive/image2.png\n",
      "Constructed full_img_path: ..\\datasets\\MURA-v1.1\\valid\\XR_WRIST\\patient11186\\study1_positive\\image2.png\n",
      "Raw img_path from CSV: MURA-v1.1/valid/XR_WRIST/patient11186/study2_positive/image1.png\n",
      "Adjusted img_path: XR_WRIST/patient11186/study2_positive/image1.png\n",
      "Constructed full_img_path: ..\\datasets\\MURA-v1.1\\valid\\XR_WRIST\\patient11186\\study2_positive\\image1.png\n",
      "Raw img_path from CSV: MURA-v1.1/valid/XR_WRIST/patient11186/study2_positive/image2.png\n",
      "Adjusted img_path: XR_WRIST/patient11186/study2_positive/image2.png\n",
      "Constructed full_img_path: ..\\datasets\\MURA-v1.1\\valid\\XR_WRIST\\patient11186\\study2_positive\\image2.png\n",
      "Raw img_path from CSV: MURA-v1.1/valid/XR_WRIST/patient11186/study2_positive/image3.png\n",
      "Adjusted img_path: XR_WRIST/patient11186/study2_positive/image3.png\n",
      "Constructed full_img_path: ..\\datasets\\MURA-v1.1\\valid\\XR_WRIST\\patient11186\\study2_positive\\image3.png\n",
      "Raw img_path from CSV: MURA-v1.1/valid/XR_WRIST/patient11186/study3_positive/image1.png\n",
      "Adjusted img_path: XR_WRIST/patient11186/study3_positive/image1.png\n",
      "Constructed full_img_path: ..\\datasets\\MURA-v1.1\\valid\\XR_WRIST\\patient11186\\study3_positive\\image1.png\n",
      "Raw img_path from CSV: MURA-v1.1/valid/XR_WRIST/patient11186/study3_positive/image2.png\n",
      "Adjusted img_path: XR_WRIST/patient11186/study3_positive/image2.png\n",
      "Constructed full_img_path: ..\\datasets\\MURA-v1.1\\valid\\XR_WRIST\\patient11186\\study3_positive\\image2.png\n",
      "Raw img_path from CSV: MURA-v1.1/valid/XR_WRIST/patient11186/study3_positive/image3.png\n",
      "Adjusted img_path: XR_WRIST/patient11186/study3_positive/image3.png\n",
      "Constructed full_img_path: ..\\datasets\\MURA-v1.1\\valid\\XR_WRIST\\patient11186\\study3_positive\\image3.png\n",
      "Raw img_path from CSV: MURA-v1.1/valid/XR_WRIST/patient11187/study1_positive/image1.png\n",
      "Adjusted img_path: XR_WRIST/patient11187/study1_positive/image1.png\n",
      "Constructed full_img_path: ..\\datasets\\MURA-v1.1\\valid\\XR_WRIST\\patient11187\\study1_positive\\image1.png\n",
      "Raw img_path from CSV: MURA-v1.1/valid/XR_WRIST/patient11188/study1_positive/image1.png\n",
      "Adjusted img_path: XR_WRIST/patient11188/study1_positive/image1.png\n",
      "Constructed full_img_path: ..\\datasets\\MURA-v1.1\\valid\\XR_WRIST\\patient11188\\study1_positive\\image1.png\n",
      "Raw img_path from CSV: MURA-v1.1/valid/XR_WRIST/patient11188/study1_positive/image2.png\n",
      "Adjusted img_path: XR_WRIST/patient11188/study1_positive/image2.png\n",
      "Constructed full_img_path: ..\\datasets\\MURA-v1.1\\valid\\XR_WRIST\\patient11188\\study1_positive\\image2.png\n",
      "Raw img_path from CSV: MURA-v1.1/valid/XR_WRIST/patient11188/study1_positive/image3.png\n",
      "Adjusted img_path: XR_WRIST/patient11188/study1_positive/image3.png\n",
      "Constructed full_img_path: ..\\datasets\\MURA-v1.1\\valid\\XR_WRIST\\patient11188\\study1_positive\\image3.png\n",
      "Raw img_path from CSV: MURA-v1.1/valid/XR_WRIST/patient11188/study1_positive/image4.png\n",
      "Adjusted img_path: XR_WRIST/patient11188/study1_positive/image4.png\n",
      "Constructed full_img_path: ..\\datasets\\MURA-v1.1\\valid\\XR_WRIST\\patient11188\\study1_positive\\image4.png\n",
      "Raw img_path from CSV: MURA-v1.1/valid/XR_WRIST/patient11189/study1_positive/image1.png\n",
      "Adjusted img_path: XR_WRIST/patient11189/study1_positive/image1.png\n",
      "Constructed full_img_path: ..\\datasets\\MURA-v1.1\\valid\\XR_WRIST\\patient11189\\study1_positive\\image1.png\n",
      "Raw img_path from CSV: MURA-v1.1/valid/XR_WRIST/patient11189/study1_positive/image2.png\n",
      "Adjusted img_path: XR_WRIST/patient11189/study1_positive/image2.png\n",
      "Constructed full_img_path: ..\\datasets\\MURA-v1.1\\valid\\XR_WRIST\\patient11189\\study1_positive\\image2.png\n",
      "Raw img_path from CSV: MURA-v1.1/valid/XR_WRIST/patient11190/study1_positive/image1.png\n",
      "Adjusted img_path: XR_WRIST/patient11190/study1_positive/image1.png\n",
      "Constructed full_img_path: ..\\datasets\\MURA-v1.1\\valid\\XR_WRIST\\patient11190\\study1_positive\\image1.png\n",
      "Raw img_path from CSV: MURA-v1.1/valid/XR_WRIST/patient11190/study1_positive/image2.png\n",
      "Adjusted img_path: XR_WRIST/patient11190/study1_positive/image2.png\n",
      "Constructed full_img_path: ..\\datasets\\MURA-v1.1\\valid\\XR_WRIST\\patient11190\\study1_positive\\image2.png\n",
      "Raw img_path from CSV: MURA-v1.1/valid/XR_WRIST/patient11191/study1_positive/image1.png\n",
      "Adjusted img_path: XR_WRIST/patient11191/study1_positive/image1.png\n",
      "Constructed full_img_path: ..\\datasets\\MURA-v1.1\\valid\\XR_WRIST\\patient11191\\study1_positive\\image1.png\n",
      "Raw img_path from CSV: MURA-v1.1/valid/XR_WRIST/patient11191/study1_positive/image2.png\n",
      "Adjusted img_path: XR_WRIST/patient11191/study1_positive/image2.png\n",
      "Constructed full_img_path: ..\\datasets\\MURA-v1.1\\valid\\XR_WRIST\\patient11191\\study1_positive\\image2.png\n",
      "Raw img_path from CSV: MURA-v1.1/valid/XR_WRIST/patient11191/study1_positive/image3.png\n",
      "Adjusted img_path: XR_WRIST/patient11191/study1_positive/image3.png\n",
      "Constructed full_img_path: ..\\datasets\\MURA-v1.1\\valid\\XR_WRIST\\patient11191\\study1_positive\\image3.png\n",
      "Raw img_path from CSV: MURA-v1.1/valid/XR_WRIST/patient11192/study1_positive/image1.png\n",
      "Adjusted img_path: XR_WRIST/patient11192/study1_positive/image1.png\n",
      "Constructed full_img_path: ..\\datasets\\MURA-v1.1\\valid\\XR_WRIST\\patient11192\\study1_positive\\image1.png\n",
      "Raw img_path from CSV: MURA-v1.1/valid/XR_WRIST/patient11192/study1_positive/image2.png\n",
      "Adjusted img_path: XR_WRIST/patient11192/study1_positive/image2.png\n",
      "Constructed full_img_path: ..\\datasets\\MURA-v1.1\\valid\\XR_WRIST\\patient11192\\study1_positive\\image2.png\n",
      "Raw img_path from CSV: MURA-v1.1/valid/XR_WRIST/patient11192/study1_positive/image3.png\n",
      "Adjusted img_path: XR_WRIST/patient11192/study1_positive/image3.png\n",
      "Constructed full_img_path: ..\\datasets\\MURA-v1.1\\valid\\XR_WRIST\\patient11192\\study1_positive\\image3.png\n",
      "Raw img_path from CSV: MURA-v1.1/valid/XR_WRIST/patient11193/study1_positive/image1.png\n",
      "Adjusted img_path: XR_WRIST/patient11193/study1_positive/image1.png\n",
      "Constructed full_img_path: ..\\datasets\\MURA-v1.1\\valid\\XR_WRIST\\patient11193\\study1_positive\\image1.png\n",
      "Raw img_path from CSV: MURA-v1.1/valid/XR_WRIST/patient11193/study1_positive/image2.png\n",
      "Adjusted img_path: XR_WRIST/patient11193/study1_positive/image2.png\n",
      "Constructed full_img_path: ..\\datasets\\MURA-v1.1\\valid\\XR_WRIST\\patient11193\\study1_positive\\image2.png\n",
      "Raw img_path from CSV: MURA-v1.1/valid/XR_WRIST/patient11193/study1_positive/image3.png\n",
      "Adjusted img_path: XR_WRIST/patient11193/study1_positive/image3.png\n",
      "Constructed full_img_path: ..\\datasets\\MURA-v1.1\\valid\\XR_WRIST\\patient11193\\study1_positive\\image3.png\n",
      "Raw img_path from CSV: MURA-v1.1/valid/XR_WRIST/patient11194/study1_positive/image1.png\n",
      "Adjusted img_path: XR_WRIST/patient11194/study1_positive/image1.png\n",
      "Constructed full_img_path: ..\\datasets\\MURA-v1.1\\valid\\XR_WRIST\\patient11194\\study1_positive\\image1.png\n",
      "Raw img_path from CSV: MURA-v1.1/valid/XR_WRIST/patient11194/study1_positive/image2.png\n",
      "Adjusted img_path: XR_WRIST/patient11194/study1_positive/image2.png\n",
      "Constructed full_img_path: ..\\datasets\\MURA-v1.1\\valid\\XR_WRIST\\patient11194\\study1_positive\\image2.png\n",
      "Batch size: 32, Labels: tensor([-1, -1, -1, -1, -1, -1, -1, -1, -1, -1, -1, -1, -1, -1, -1, -1, -1, -1,\n",
      "        -1, -1, -1, -1, -1, -1, -1, -1, -1, -1, -1, -1, -1, -1])\n"
     ]
    }
   ],
   "source": [
    "data_dir = \"../datasets/MURA-v1.1\"\n",
    "batch_size = 32\n",
    "\n",
    "# Load training and validation data\n",
    "train_loader, valid_loader = load_data(data_dir, batch_size=batch_size)\n",
    "\n",
    "# Test the training DataLoader\n",
    "print(\"Training Data:\")\n",
    "for images, labels in train_loader:\n",
    "    print(f\"Batch size: {len(images)}, Labels: {labels}\")\n",
    "    break\n",
    "\n",
    "# Test the validation DataLoader\n",
    "print(\"Validation Data:\")\n",
    "for images, labels in valid_loader:\n",
    "    print(f\"Batch size: {len(images)}, Labels: {labels}\")\n",
    "    break"
   ]
  }
 ],
 "metadata": {
  "colab": {
   "provenance": []
  },
  "kernelspec": {
   "display_name": "boneaware-ai",
   "language": "python",
   "name": "python3"
  },
  "language_info": {
   "codemirror_mode": {
    "name": "ipython",
    "version": 3
   },
   "file_extension": ".py",
   "mimetype": "text/x-python",
   "name": "python",
   "nbconvert_exporter": "python",
   "pygments_lexer": "ipython3",
   "version": "3.10.13"
  }
 },
 "nbformat": 4,
 "nbformat_minor": 4
}
