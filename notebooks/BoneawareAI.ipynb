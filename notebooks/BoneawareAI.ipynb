{
 "cells": [
  {
   "cell_type": "markdown",
   "metadata": {
    "id": "5CHWhyuzyfvZ"
   },
   "source": [
    "# BoneawareAI\n",
    "\n",
    "Authors: Karthik Subramanian, Charles Green, Sai Anurag Pichika, Saarang Prabhuram\n"
   ]
  },
  {
   "cell_type": "markdown",
   "metadata": {
    "id": "ZFJ0ozK8yp3V"
   },
   "source": [
    "## Setup"
   ]
  },
  {
   "cell_type": "markdown",
   "metadata": {
    "id": "s0qyiSEXMe7v"
   },
   "source": [
    "### Load Extensions\n",
    "\n",
    "Before getting started we need to run some standard code to set up our environment. You'll need to execute this code again each time you start the notebook.\n",
    "\n",
    "First, run this cell to load the [autoreload](https://ipython.readthedocs.io/en/stable/config/extensions/autoreload.html?highlight=autoreload) extension. This enables us to modify `.py` source files and reintegrate them into the notebook, ensuring a smooth editing and debugging experience."
   ]
  },
  {
   "cell_type": "code",
   "execution_count": 45,
   "metadata": {
    "id": "HMh6Xv7hMe7w"
   },
   "outputs": [
    {
     "name": "stdout",
     "output_type": "stream",
     "text": [
      "The autoreload extension is already loaded. To reload it, use:\n",
      "  %reload_ext autoreload\n"
     ]
    }
   ],
   "source": [
    "%load_ext autoreload\n",
    "%autoreload 2"
   ]
  },
  {
   "cell_type": "code",
   "execution_count": 46,
   "metadata": {
    "colab": {
     "base_uri": "https://localhost:8080/"
    },
    "id": "HZpy-YIghhL_",
    "outputId": "4e767887-5b95-41ce-9180-1f480661900d"
   },
   "outputs": [
    {
     "name": "stdout",
     "output_type": "stream",
     "text": [
      "Sun Nov 24 18:20:14 2024       \n",
      "+-----------------------------------------------------------------------------------------+\n",
      "| NVIDIA-SMI 561.17                 Driver Version: 561.17         CUDA Version: 12.6     |\n",
      "|-----------------------------------------+------------------------+----------------------+\n",
      "| GPU  Name                  Driver-Model | Bus-Id          Disp.A | Volatile Uncorr. ECC |\n",
      "| Fan  Temp   Perf          Pwr:Usage/Cap |           Memory-Usage | GPU-Util  Compute M. |\n",
      "|                                         |                        |               MIG M. |\n",
      "|=========================================+========================+======================|\n",
      "|   0  NVIDIA GeForce GTX 1060      WDDM  |   00000000:01:00.0  On |                  N/A |\n",
      "| N/A   49C    P8              4W /   78W |     715MiB /   6144MiB |     19%      Default |\n",
      "|                                         |                        |                  N/A |\n",
      "+-----------------------------------------+------------------------+----------------------+\n",
      "                                                                                         \n",
      "+-----------------------------------------------------------------------------------------+\n",
      "| Processes:                                                                              |\n",
      "|  GPU   GI   CI        PID   Type   Process name                              GPU Memory |\n",
      "|        ID   ID                                                               Usage      |\n",
      "|=========================================================================================|\n",
      "|    0   N/A  N/A      3172    C+G   ...ience\\NVIDIA GeForce Experience.exe      N/A      |\n",
      "|    0   N/A  N/A     18416    C+G   ...les\\Proton\\VPN\\v3.3.2\\ProtonVPN.exe      N/A      |\n",
      "|    0   N/A  N/A     29132      C   ...conda3\\envs\\boneaware-ai\\python.exe      N/A      |\n",
      "+-----------------------------------------------------------------------------------------+\n"
     ]
    }
   ],
   "source": [
    "gpu_info = !nvidia-smi\n",
    "gpu_info = '\\n'.join(gpu_info)\n",
    "if gpu_info.find('failed') >= 0:\n",
    "  print('Not connected to a GPU')\n",
    "else:\n",
    "  print(gpu_info)"
   ]
  },
  {
   "cell_type": "code",
   "execution_count": 47,
   "metadata": {
    "colab": {
     "base_uri": "https://localhost:8080/"
    },
    "id": "3pTbT7j1kM5Z",
    "outputId": "ff6c31e6-ee42-4b26-9bbd-244f8268a4ae"
   },
   "outputs": [
    {
     "name": "stdout",
     "output_type": "stream",
     "text": [
      "Your runtime has 17.0 gigabytes of available RAM\n",
      "\n",
      "Not using a high-RAM runtime\n"
     ]
    }
   ],
   "source": [
    "from psutil import virtual_memory\n",
    "ram_gb = virtual_memory().total / 1e9\n",
    "print('Your runtime has {:.1f} gigabytes of available RAM\\n'.format(ram_gb))\n",
    "\n",
    "if ram_gb < 20:\n",
    "  print('Not using a high-RAM runtime')\n",
    "else:\n",
    "  print('You are using a high-RAM runtime!')"
   ]
  },
  {
   "cell_type": "markdown",
   "metadata": {
    "id": "Sopx83pHMe7w"
   },
   "source": [
    "### Google Colab Setup\n",
    "Next we need to run a few commands to set up our environment on Google Colab. If you are running this notebook on a local machine you can skip this section.\n",
    "\n",
    "Run the following cell to mount your Google Drive. Follow the link, sign in to your Google account (the same account you used to store this notebook!)."
   ]
  },
  {
   "cell_type": "code",
   "execution_count": 422,
   "metadata": {
    "colab": {
     "base_uri": "https://localhost:8080/"
    },
    "id": "8fFVquhuCVrq",
    "outputId": "c3d94a05-be93-455e-c722-a094f7d7b9c7"
   },
   "outputs": [
    {
     "ename": "ModuleNotFoundError",
     "evalue": "No module named 'google'",
     "output_type": "error",
     "traceback": [
      "\u001b[1;31m---------------------------------------------------------------------------\u001b[0m",
      "\u001b[1;31mModuleNotFoundError\u001b[0m                       Traceback (most recent call last)",
      "Cell \u001b[1;32mIn[422], line 1\u001b[0m\n\u001b[1;32m----> 1\u001b[0m \u001b[38;5;28;01mfrom\u001b[39;00m \u001b[38;5;21;01mgoogle\u001b[39;00m\u001b[38;5;21;01m.\u001b[39;00m\u001b[38;5;21;01mcolab\u001b[39;00m \u001b[38;5;28;01mimport\u001b[39;00m drive\n\u001b[0;32m      2\u001b[0m drive\u001b[38;5;241m.\u001b[39mmount(\u001b[38;5;124m'\u001b[39m\u001b[38;5;124m/content/drive\u001b[39m\u001b[38;5;124m'\u001b[39m)\n",
      "\u001b[1;31mModuleNotFoundError\u001b[0m: No module named 'google'"
     ]
    }
   ],
   "source": [
    "from google.colab import drive\n",
    "drive.mount('/content/drive')"
   ]
  },
  {
   "cell_type": "code",
   "execution_count": 423,
   "metadata": {
    "colab": {
     "base_uri": "https://localhost:8080/",
     "height": 35
    },
    "id": "It7_Rq3X4g3z",
    "outputId": "34600eb5-1758-4378-eff8-1364fd787abb"
   },
   "outputs": [
    {
     "ename": "FileNotFoundError",
     "evalue": "[WinError 3] The system cannot find the path specified: '/content/drive/MyDrive/BoneawareAI'",
     "output_type": "error",
     "traceback": [
      "\u001b[1;31m---------------------------------------------------------------------------\u001b[0m",
      "\u001b[1;31mFileNotFoundError\u001b[0m                         Traceback (most recent call last)",
      "Cell \u001b[1;32mIn[423], line 4\u001b[0m\n\u001b[0;32m      2\u001b[0m PROJECT_PATH \u001b[38;5;241m=\u001b[39m \u001b[38;5;124m'\u001b[39m\u001b[38;5;124mBoneawareAI\u001b[39m\u001b[38;5;124m'\u001b[39m\n\u001b[0;32m      3\u001b[0m GOOGLE_DRIVE_PATH \u001b[38;5;241m=\u001b[39m \u001b[38;5;124mf\u001b[39m\u001b[38;5;124m'\u001b[39m\u001b[38;5;124m/content/drive/MyDrive/\u001b[39m\u001b[38;5;132;01m{\u001b[39;00mPROJECT_PATH\u001b[38;5;132;01m}\u001b[39;00m\u001b[38;5;124m'\u001b[39m\n\u001b[1;32m----> 4\u001b[0m \u001b[43mos\u001b[49m\u001b[38;5;241;43m.\u001b[39;49m\u001b[43mchdir\u001b[49m\u001b[43m(\u001b[49m\u001b[43mGOOGLE_DRIVE_PATH\u001b[49m\u001b[43m)\u001b[49m\n\u001b[0;32m      5\u001b[0m os\u001b[38;5;241m.\u001b[39mgetcwd()\n",
      "\u001b[1;31mFileNotFoundError\u001b[0m: [WinError 3] The system cannot find the path specified: '/content/drive/MyDrive/BoneawareAI'"
     ]
    }
   ],
   "source": [
    "import os\n",
    "PROJECT_PATH = 'BoneawareAI'\n",
    "GOOGLE_DRIVE_PATH = f'/content/drive/MyDrive/{PROJECT_PATH}'\n",
    "os.chdir(GOOGLE_DRIVE_PATH)\n",
    "os.getcwd()"
   ]
  },
  {
   "cell_type": "code",
   "execution_count": 424,
   "metadata": {
    "id": "1w70X5avjfR1"
   },
   "outputs": [],
   "source": [
    "import sys\n",
    "sys.path.append(GOOGLE_DRIVE_PATH) # this is important for the imports in the .py files to work"
   ]
  },
  {
   "cell_type": "code",
   "execution_count": 69,
   "metadata": {
    "colab": {
     "base_uri": "https://localhost:8080/"
    },
    "id": "TkDj-6n-EMYa",
    "outputId": "3a53de82-04f3-4a2b-8653-da5db9c037a6"
   },
   "outputs": [
    {
     "name": "stdout",
     "output_type": "stream",
     "text": [
      "Requirement already satisfied: pyyaml==5.4.1 in c:\\users\\charl\\anaconda3\\envs\\boneaware-ai\\lib\\site-packages (5.4.1)\n",
      "Note: you may need to restart the kernel to use updated packages.\n",
      "Requirement already satisfied: boto3 in c:\\users\\charl\\anaconda3\\envs\\boneaware-ai\\lib\\site-packages (1.34.154)\n",
      "Requirement already satisfied: botocore<1.35.0,>=1.34.154 in c:\\users\\charl\\anaconda3\\envs\\boneaware-ai\\lib\\site-packages (from boto3) (1.34.154)\n",
      "Requirement already satisfied: jmespath<2.0.0,>=0.7.1 in c:\\users\\charl\\anaconda3\\envs\\boneaware-ai\\lib\\site-packages (from boto3) (1.0.1)\n",
      "Requirement already satisfied: s3transfer<0.11.0,>=0.10.0 in c:\\users\\charl\\anaconda3\\envs\\boneaware-ai\\lib\\site-packages (from boto3) (0.10.1)\n",
      "Requirement already satisfied: python-dateutil<3.0.0,>=2.1 in c:\\users\\charl\\anaconda3\\envs\\boneaware-ai\\lib\\site-packages (from botocore<1.35.0,>=1.34.154->boto3) (2.9.0.post0)\n",
      "Requirement already satisfied: urllib3!=2.2.0,<3,>=1.25.4 in c:\\users\\charl\\anaconda3\\envs\\boneaware-ai\\lib\\site-packages (from botocore<1.35.0,>=1.34.154->boto3) (2.2.3)\n",
      "Requirement already satisfied: six>=1.5 in c:\\users\\charl\\anaconda3\\envs\\boneaware-ai\\lib\\site-packages (from python-dateutil<3.0.0,>=2.1->botocore<1.35.0,>=1.34.154->boto3) (1.16.0)\n",
      "Note: you may need to restart the kernel to use updated packages.\n",
      "Requirement already satisfied: configparser in c:\\users\\charl\\anaconda3\\envs\\boneaware-ai\\lib\\site-packages (5.0.2)\n",
      "Note: you may need to restart the kernel to use updated packages.\n",
      "Requirement already satisfied: torch in c:\\users\\charl\\anaconda3\\envs\\boneaware-ai\\lib\\site-packages (1.13.1)\n",
      "Requirement already satisfied: typing_extensions in c:\\users\\charl\\anaconda3\\envs\\boneaware-ai\\lib\\site-packages (from torch) (4.11.0)\n",
      "Note: you may need to restart the kernel to use updated packages.\n"
     ]
    }
   ],
   "source": [
    "%pip install pyyaml==5.4.1\n",
    "%pip install boto3\n",
    "%pip install configparser\n",
    "%pip install torch"
   ]
  },
  {
   "cell_type": "markdown",
   "metadata": {
    "id": "K6-1yUtSMe7z"
   },
   "source": [
    "### Local Setup OR Google Drive\n",
    "Run the cell below regardless of whether you are using google drive or local setup."
   ]
  },
  {
   "cell_type": "code",
   "execution_count": 48,
   "metadata": {
    "colab": {
     "base_uri": "https://localhost:8080/"
    },
    "id": "ywxpbgWIMe7z",
    "outputId": "27b5a526-e636-4bd3-8a34-61d6e0d714bd"
   },
   "outputs": [
    {
     "name": "stdout",
     "output_type": "stream",
     "text": [
      "Running locally.\n"
     ]
    }
   ],
   "source": [
    "# if running locally set GOOGLE PATH\n",
    "import sys\n",
    "isLocal = False\n",
    "if 'google.colab' in sys.modules:\n",
    "  print(f'Running in google colab. Our path is `{GOOGLE_DRIVE_PATH}`')\n",
    "else:\n",
    "  GOOGLE_DRIVE_PATH = '.'\n",
    "  print('Running locally.')\n",
    "  isLocal = True"
   ]
  },
  {
   "cell_type": "markdown",
   "metadata": {
    "id": "-CJzQJ5FMe7z"
   },
   "source": [
    "### Imports"
   ]
  },
  {
   "cell_type": "code",
   "execution_count": 49,
   "metadata": {
    "colab": {
     "base_uri": "https://localhost:8080/"
    },
    "id": "DHlDJ5n1Me7z",
    "outputId": "daabfc8a-88a9-4c75-dbbc-0350dbb52a2c"
   },
   "outputs": [
    {
     "name": "stdout",
     "output_type": "stream",
     "text": [
      "Modules added correctly, locally.\n"
     ]
    }
   ],
   "source": [
    "# RUN LOCALLY\n",
    "import sys\n",
    "if isLocal:\n",
    "    sys.path.append('../src')  # Add the 'src' folder to Python's module search path\n",
    "    sys.path.append('../datasets')  # Add the 'datasets' folder to Python's module search path\n",
    "    sys.path.append('../notebooks')  # Add the 'notebooks' folder to Python's module search path\n",
    "    print('Modules added correctly, locally.')\n",
    "else:\n",
    "    sys.path.append('src')  # Add the 'src' folder to Python's module search path\n",
    "    sys.path.append('datasets')  # Add the 'datasets' folder to Python's module search path\n",
    "    sys.path.append('notebooks')  # Add the 'notebooks' folder to Python's module search path\n",
    "    print('Modules added correctly on colab.')"
   ]
  },
  {
   "cell_type": "code",
   "execution_count": 50,
   "metadata": {
    "id": "ny2_zskeMe70"
   },
   "outputs": [],
   "source": [
    "from image_utils import set_seed, MURADataset, load_data, confirm_images_and_labels, count_body_parts, count_positive_negative, count_body_parts_with_augmentations"
   ]
  },
  {
   "cell_type": "code",
   "execution_count": 51,
   "metadata": {},
   "outputs": [],
   "source": [
    "from metrics import plot_confusion_matrix, plot_roc_curve, compute_class_weights, calculate_metrics, calculate_metrics_per_body_part, evaluate_model"
   ]
  },
  {
   "cell_type": "code",
   "execution_count": 52,
   "metadata": {
    "colab": {
     "base_uri": "https://localhost:8080/"
    },
    "id": "mDEQTUPXMe70",
    "outputId": "6dc3334a-1fab-4794-ff86-af2eb15ce7ba"
   },
   "outputs": [
    {
     "name": "stdout",
     "output_type": "stream",
     "text": [
      "Using device = cuda\n"
     ]
    }
   ],
   "source": [
    "import torch\n",
    "\n",
    "device = 'mps' if torch.backends.mps.is_available() else ('cuda' if torch.cuda.is_available() else 'cpu')\n",
    "print(\"Using device = \" + device)\n",
    "if device == 'cpu':\n",
    "    print(\"WARNING: Using CPU will cause slower train times\")\n"
   ]
  },
  {
   "cell_type": "code",
   "execution_count": 53,
   "metadata": {},
   "outputs": [],
   "source": [
    "import pandas as pd\n",
    "import matplotlib.pyplot as plt\n",
    "import numpy as np"
   ]
  },
  {
   "cell_type": "markdown",
   "metadata": {
    "id": "VjzWXLZKMe70"
   },
   "source": [
    "#### Set Seed\n",
    "\n",
    "This is so the results can be duplicated, ensure that the seed is set in the image_utils.py file, if you want a random seed, import random and set a random number"
   ]
  },
  {
   "cell_type": "code",
   "execution_count": 54,
   "metadata": {
    "id": "9WpsZa4zMe70"
   },
   "outputs": [],
   "source": [
    "set_seed(42)"
   ]
  },
  {
   "cell_type": "code",
   "execution_count": 55,
   "metadata": {
    "id": "iU--YN8_Me71"
   },
   "outputs": [],
   "source": [
    "import os\n",
    "import torch\n",
    "import random\n",
    "import numpy as np\n",
    "import pandas as pd\n",
    "from torch import nn, optim\n",
    "from torchvision.transforms import functional as F\n",
    "import matplotlib.pyplot as plt\n",
    "from tqdm import tqdm"
   ]
  },
  {
   "cell_type": "markdown",
   "metadata": {
    "id": "NGVUtueX353J"
   },
   "source": [
    "## Data Preprocessing\n",
    "Get the dataset, perform data augmentation to get finalized MURA dataset"
   ]
  },
  {
   "cell_type": "code",
   "execution_count": 56,
   "metadata": {
    "colab": {
     "base_uri": "https://localhost:8080/"
    },
    "id": "sIU_T5hM3-YD",
    "outputId": "ee8e3161-12b7-4925-cec2-5e19be84d222"
   },
   "outputs": [
    {
     "name": "stdout",
     "output_type": "stream",
     "text": [
      "MURA-v1.1.zip already exists in datasets. Skipping download.\n"
     ]
    }
   ],
   "source": [
    "# Downloading MURA dataset and unzipping the file (this one takes time)\n",
    "from data_loader import download_dataset\n",
    "from constants import DATASETS_FOLDER, MURA_DATASET\n",
    "from helpers.utils import unzip_file\n",
    "\n",
    "if (isLocal):\n",
    "    # Define the parent directory and dataset path\n",
    "    parent_dir = os.path.abspath(os.path.join(os.getcwd(), \"..\"))  # Go to the parent directory\n",
    "    datasets_folder = os.path.join(parent_dir, DATASETS_FOLDER)   # Define datasets folder in the parent directory\n",
    "    dataset_path = os.path.join(datasets_folder, MURA_DATASET)    # Full path to the dataset file\n",
    "else:\n",
    "    datasets_folder = os.path.join(GOOGLE_DRIVE_PATH, DATASETS_FOLDER) # Define datasets folder in the parent directory\n",
    "    dataset_path = os.path.join(datasets_folder, MURA_DATASET) # Full path to the dataset file\n",
    "\n",
    "# Ensure the datasets folder exists\n",
    "os.makedirs(datasets_folder, exist_ok=True)\n",
    "\n",
    "# Check if the dataset is already downloaded\n",
    "if not os.path.exists(dataset_path):\n",
    "    print(f\"{MURA_DATASET} not found in {DATASETS_FOLDER}. Downloading and extracting...\")\n",
    "    # Download and unzip the dataset\n",
    "    download_dataset(MURA_DATASET, datasets_folder)\n",
    "    unzip_file(dataset_path)\n",
    "else:\n",
    "    print(f\"{MURA_DATASET} already exists in {DATASETS_FOLDER}. Skipping download.\")"
   ]
  },
  {
   "cell_type": "code",
   "execution_count": 57,
   "metadata": {
    "colab": {
     "base_uri": "https://localhost:8080/"
    },
    "id": "e1BtlQ_dMe71",
    "outputId": "fff83bf5-2616-4228-e906-f9804619a3ad"
   },
   "outputs": [
    {
     "name": "stdout",
     "output_type": "stream",
     "text": [
      "Loaded 147232 training samples and 3197 validation samples.\n"
     ]
    }
   ],
   "source": [
    "if (isLocal):\n",
    "    data_dir = \"../datasets/MURA-v1.1\"\n",
    "else:\n",
    "    data_dir = os.path.join(datasets_folder, 'MURA-v1.1')\n",
    "\n",
    "batch_size = 32\n",
    "\n",
    "# Load training and validation data\n",
    "train_loader, valid_loader = load_data(data_dir, batch_size=batch_size)"
   ]
  },
  {
   "cell_type": "code",
   "execution_count": 58,
   "metadata": {
    "colab": {
     "base_uri": "https://localhost:8080/"
    },
    "id": "tQ8zvhHiMe71",
    "outputId": "4c03b4ee-de8a-4456-da85-e33db4380770"
   },
   "outputs": [
    {
     "name": "stdout",
     "output_type": "stream",
     "text": [
      "Training Data:\n",
      "Batch size: 32, Labels: tensor([1, 0, 1, 0, 0, 0, 1, 0, 1, 0, 0, 0, 1, 1, 0, 1, 0, 0, 0, 0, 0, 1, 0, 0,\n",
      "        0, 0, 0, 0, 1, 1, 0, 1])\n",
      "Validation Data:\n",
      "Batch size: 32, Labels: tensor([1, 1, 1, 1, 1, 1, 1, 1, 1, 1, 1, 1, 1, 1, 1, 1, 1, 1, 1, 1, 1, 1, 1, 1,\n",
      "        1, 1, 1, 1, 1, 1, 1, 1])\n"
     ]
    }
   ],
   "source": [
    "print(\"Training Data:\")\n",
    "for batch in train_loader:\n",
    "    images, labels = batch\n",
    "    print(f\"Batch size: {len(images)}, Labels: {labels}\")\n",
    "    break\n",
    "\n",
    "# Test the validation DataLoader\n",
    "print(\"Validation Data:\")\n",
    "for images, labels in valid_loader:\n",
    "    print(f\"Batch size: {len(images)}, Labels: {labels}\")\n",
    "    break"
   ]
  },
  {
   "cell_type": "code",
   "execution_count": 436,
   "metadata": {
    "colab": {
     "base_uri": "https://localhost:8080/"
    },
    "id": "9dxz7Q2vMe72",
    "outputId": "92524caf-3762-47db-c34f-460ed94fe27c"
   },
   "outputs": [
    {
     "name": "stdout",
     "output_type": "stream",
     "text": [
      "Number of samples in the training dataset: 147232\n",
      "Number of samples in the validation dataset: 3197\n"
     ]
    }
   ],
   "source": [
    "# Access the datasets from the DataLoaders\n",
    "train_dataset = train_loader.dataset\n",
    "valid_dataset = valid_loader.dataset\n",
    "\n",
    "# Example: Print the length of the datasets\n",
    "print(f\"Number of samples in the training dataset: {len(train_dataset)}\")\n",
    "print(f\"Number of samples in the validation dataset: {len(valid_dataset)}\")"
   ]
  },
  {
   "cell_type": "code",
   "execution_count": 437,
   "metadata": {
    "id": "MACZwlyXMe72"
   },
   "outputs": [],
   "source": [
    "#16 minutes to confirm on local, does not need to run as you can always use the dataset to confirm as well\n",
    "#confirm_images_and_labels(train_dataset, \"train\")\n",
    "#confirm_images_and_labels(valid_dataset, \"valid\")"
   ]
  },
  {
   "cell_type": "code",
   "execution_count": 438,
   "metadata": {
    "colab": {
     "base_uri": "https://localhost:8080/",
     "height": 556
    },
    "id": "wKC-U9oAMe72",
    "outputId": "efadada7-3521-4e98-d1d6-7492f295173e"
   },
   "outputs": [
    {
     "name": "stdout",
     "output_type": "stream",
     "text": [
      "Train dataset body part distribution:\n"
     ]
    },
    {
     "data": {
      "text/html": [
       "<div>\n",
       "<style scoped>\n",
       "    .dataframe tbody tr th:only-of-type {\n",
       "        vertical-align: middle;\n",
       "    }\n",
       "\n",
       "    .dataframe tbody tr th {\n",
       "        vertical-align: top;\n",
       "    }\n",
       "\n",
       "    .dataframe thead th {\n",
       "        text-align: right;\n",
       "    }\n",
       "</style>\n",
       "<table border=\"1\" class=\"dataframe\">\n",
       "  <thead>\n",
       "    <tr style=\"text-align: right;\">\n",
       "      <th></th>\n",
       "      <th>BodyPart</th>\n",
       "      <th>Count</th>\n",
       "    </tr>\n",
       "  </thead>\n",
       "  <tbody>\n",
       "    <tr>\n",
       "      <th>0</th>\n",
       "      <td>XR_WRIST</td>\n",
       "      <td>9752</td>\n",
       "    </tr>\n",
       "    <tr>\n",
       "      <th>1</th>\n",
       "      <td>XR_SHOULDER</td>\n",
       "      <td>8379</td>\n",
       "    </tr>\n",
       "    <tr>\n",
       "      <th>2</th>\n",
       "      <td>XR_HAND</td>\n",
       "      <td>5543</td>\n",
       "    </tr>\n",
       "    <tr>\n",
       "      <th>3</th>\n",
       "      <td>XR_FINGER</td>\n",
       "      <td>5106</td>\n",
       "    </tr>\n",
       "    <tr>\n",
       "      <th>4</th>\n",
       "      <td>XR_ELBOW</td>\n",
       "      <td>4931</td>\n",
       "    </tr>\n",
       "    <tr>\n",
       "      <th>5</th>\n",
       "      <td>XR_FOREARM</td>\n",
       "      <td>1825</td>\n",
       "    </tr>\n",
       "    <tr>\n",
       "      <th>6</th>\n",
       "      <td>XR_HUMERUS</td>\n",
       "      <td>1272</td>\n",
       "    </tr>\n",
       "  </tbody>\n",
       "</table>\n",
       "</div>"
      ],
      "text/plain": [
       "      BodyPart  Count\n",
       "0     XR_WRIST   9752\n",
       "1  XR_SHOULDER   8379\n",
       "2      XR_HAND   5543\n",
       "3    XR_FINGER   5106\n",
       "4     XR_ELBOW   4931\n",
       "5   XR_FOREARM   1825\n",
       "6   XR_HUMERUS   1272"
      ]
     },
     "metadata": {},
     "output_type": "display_data"
    },
    {
     "name": "stdout",
     "output_type": "stream",
     "text": [
      "Valid dataset body part distribution:\n"
     ]
    },
    {
     "data": {
      "text/html": [
       "<div>\n",
       "<style scoped>\n",
       "    .dataframe tbody tr th:only-of-type {\n",
       "        vertical-align: middle;\n",
       "    }\n",
       "\n",
       "    .dataframe tbody tr th {\n",
       "        vertical-align: top;\n",
       "    }\n",
       "\n",
       "    .dataframe thead th {\n",
       "        text-align: right;\n",
       "    }\n",
       "</style>\n",
       "<table border=\"1\" class=\"dataframe\">\n",
       "  <thead>\n",
       "    <tr style=\"text-align: right;\">\n",
       "      <th></th>\n",
       "      <th>BodyPart</th>\n",
       "      <th>Count</th>\n",
       "    </tr>\n",
       "  </thead>\n",
       "  <tbody>\n",
       "    <tr>\n",
       "      <th>0</th>\n",
       "      <td>XR_WRIST</td>\n",
       "      <td>659</td>\n",
       "    </tr>\n",
       "    <tr>\n",
       "      <th>1</th>\n",
       "      <td>XR_SHOULDER</td>\n",
       "      <td>563</td>\n",
       "    </tr>\n",
       "    <tr>\n",
       "      <th>2</th>\n",
       "      <td>XR_ELBOW</td>\n",
       "      <td>465</td>\n",
       "    </tr>\n",
       "    <tr>\n",
       "      <th>3</th>\n",
       "      <td>XR_FINGER</td>\n",
       "      <td>461</td>\n",
       "    </tr>\n",
       "    <tr>\n",
       "      <th>4</th>\n",
       "      <td>XR_HAND</td>\n",
       "      <td>460</td>\n",
       "    </tr>\n",
       "    <tr>\n",
       "      <th>5</th>\n",
       "      <td>XR_FOREARM</td>\n",
       "      <td>301</td>\n",
       "    </tr>\n",
       "    <tr>\n",
       "      <th>6</th>\n",
       "      <td>XR_HUMERUS</td>\n",
       "      <td>288</td>\n",
       "    </tr>\n",
       "  </tbody>\n",
       "</table>\n",
       "</div>"
      ],
      "text/plain": [
       "      BodyPart  Count\n",
       "0     XR_WRIST    659\n",
       "1  XR_SHOULDER    563\n",
       "2     XR_ELBOW    465\n",
       "3    XR_FINGER    461\n",
       "4      XR_HAND    460\n",
       "5   XR_FOREARM    301\n",
       "6   XR_HUMERUS    288"
      ]
     },
     "metadata": {},
     "output_type": "display_data"
    }
   ],
   "source": [
    "count_body_parts(train_dataset, \"train\")\n",
    "count_body_parts(valid_dataset, \"valid\")"
   ]
  },
  {
   "cell_type": "code",
   "execution_count": 439,
   "metadata": {
    "colab": {
     "base_uri": "https://localhost:8080/",
     "height": 556
    },
    "id": "2LsFOtliMe72",
    "outputId": "b738cf38-e421-4cf4-8673-7624d20967df"
   },
   "outputs": [
    {
     "name": "stdout",
     "output_type": "stream",
     "text": [
      "Train dataset body part distribution (with augmentations):\n"
     ]
    },
    {
     "data": {
      "text/html": [
       "<div>\n",
       "<style scoped>\n",
       "    .dataframe tbody tr th:only-of-type {\n",
       "        vertical-align: middle;\n",
       "    }\n",
       "\n",
       "    .dataframe tbody tr th {\n",
       "        vertical-align: top;\n",
       "    }\n",
       "\n",
       "    .dataframe thead th {\n",
       "        text-align: right;\n",
       "    }\n",
       "</style>\n",
       "<table border=\"1\" class=\"dataframe\">\n",
       "  <thead>\n",
       "    <tr style=\"text-align: right;\">\n",
       "      <th></th>\n",
       "      <th>BodyPart</th>\n",
       "      <th>OriginalCount</th>\n",
       "      <th>AugmentedCount</th>\n",
       "    </tr>\n",
       "  </thead>\n",
       "  <tbody>\n",
       "    <tr>\n",
       "      <th>0</th>\n",
       "      <td>XR_WRIST</td>\n",
       "      <td>9752</td>\n",
       "      <td>39008</td>\n",
       "    </tr>\n",
       "    <tr>\n",
       "      <th>1</th>\n",
       "      <td>XR_SHOULDER</td>\n",
       "      <td>8379</td>\n",
       "      <td>33516</td>\n",
       "    </tr>\n",
       "    <tr>\n",
       "      <th>2</th>\n",
       "      <td>XR_HAND</td>\n",
       "      <td>5543</td>\n",
       "      <td>22172</td>\n",
       "    </tr>\n",
       "    <tr>\n",
       "      <th>3</th>\n",
       "      <td>XR_FINGER</td>\n",
       "      <td>5106</td>\n",
       "      <td>20424</td>\n",
       "    </tr>\n",
       "    <tr>\n",
       "      <th>4</th>\n",
       "      <td>XR_ELBOW</td>\n",
       "      <td>4931</td>\n",
       "      <td>19724</td>\n",
       "    </tr>\n",
       "    <tr>\n",
       "      <th>5</th>\n",
       "      <td>XR_FOREARM</td>\n",
       "      <td>1825</td>\n",
       "      <td>7300</td>\n",
       "    </tr>\n",
       "    <tr>\n",
       "      <th>6</th>\n",
       "      <td>XR_HUMERUS</td>\n",
       "      <td>1272</td>\n",
       "      <td>5088</td>\n",
       "    </tr>\n",
       "  </tbody>\n",
       "</table>\n",
       "</div>"
      ],
      "text/plain": [
       "      BodyPart  OriginalCount  AugmentedCount\n",
       "0     XR_WRIST           9752           39008\n",
       "1  XR_SHOULDER           8379           33516\n",
       "2      XR_HAND           5543           22172\n",
       "3    XR_FINGER           5106           20424\n",
       "4     XR_ELBOW           4931           19724\n",
       "5   XR_FOREARM           1825            7300\n",
       "6   XR_HUMERUS           1272            5088"
      ]
     },
     "metadata": {},
     "output_type": "display_data"
    },
    {
     "name": "stdout",
     "output_type": "stream",
     "text": [
      "Valid dataset body part distribution (with augmentations):\n"
     ]
    },
    {
     "data": {
      "text/html": [
       "<div>\n",
       "<style scoped>\n",
       "    .dataframe tbody tr th:only-of-type {\n",
       "        vertical-align: middle;\n",
       "    }\n",
       "\n",
       "    .dataframe tbody tr th {\n",
       "        vertical-align: top;\n",
       "    }\n",
       "\n",
       "    .dataframe thead th {\n",
       "        text-align: right;\n",
       "    }\n",
       "</style>\n",
       "<table border=\"1\" class=\"dataframe\">\n",
       "  <thead>\n",
       "    <tr style=\"text-align: right;\">\n",
       "      <th></th>\n",
       "      <th>BodyPart</th>\n",
       "      <th>OriginalCount</th>\n",
       "      <th>AugmentedCount</th>\n",
       "    </tr>\n",
       "  </thead>\n",
       "  <tbody>\n",
       "    <tr>\n",
       "      <th>0</th>\n",
       "      <td>XR_WRIST</td>\n",
       "      <td>659</td>\n",
       "      <td>2636</td>\n",
       "    </tr>\n",
       "    <tr>\n",
       "      <th>1</th>\n",
       "      <td>XR_SHOULDER</td>\n",
       "      <td>563</td>\n",
       "      <td>2252</td>\n",
       "    </tr>\n",
       "    <tr>\n",
       "      <th>2</th>\n",
       "      <td>XR_ELBOW</td>\n",
       "      <td>465</td>\n",
       "      <td>1860</td>\n",
       "    </tr>\n",
       "    <tr>\n",
       "      <th>3</th>\n",
       "      <td>XR_FINGER</td>\n",
       "      <td>461</td>\n",
       "      <td>1844</td>\n",
       "    </tr>\n",
       "    <tr>\n",
       "      <th>4</th>\n",
       "      <td>XR_HAND</td>\n",
       "      <td>460</td>\n",
       "      <td>1840</td>\n",
       "    </tr>\n",
       "    <tr>\n",
       "      <th>5</th>\n",
       "      <td>XR_FOREARM</td>\n",
       "      <td>301</td>\n",
       "      <td>1204</td>\n",
       "    </tr>\n",
       "    <tr>\n",
       "      <th>6</th>\n",
       "      <td>XR_HUMERUS</td>\n",
       "      <td>288</td>\n",
       "      <td>1152</td>\n",
       "    </tr>\n",
       "  </tbody>\n",
       "</table>\n",
       "</div>"
      ],
      "text/plain": [
       "      BodyPart  OriginalCount  AugmentedCount\n",
       "0     XR_WRIST            659            2636\n",
       "1  XR_SHOULDER            563            2252\n",
       "2     XR_ELBOW            465            1860\n",
       "3    XR_FINGER            461            1844\n",
       "4      XR_HAND            460            1840\n",
       "5   XR_FOREARM            301            1204\n",
       "6   XR_HUMERUS            288            1152"
      ]
     },
     "metadata": {},
     "output_type": "display_data"
    }
   ],
   "source": [
    "# Example usage with 3 augmentations,  adjust the augmentations as needed\n",
    "count_body_parts_with_augmentations(train_dataset, \"train\", num_augmentations=3)\n",
    "count_body_parts_with_augmentations(valid_dataset, \"valid\", num_augmentations=3)"
   ]
  },
  {
   "cell_type": "code",
   "execution_count": 440,
   "metadata": {
    "colab": {
     "base_uri": "https://localhost:8080/",
     "height": 556
    },
    "id": "h03i-7tEMe72",
    "outputId": "2426fb6c-31ed-4c13-f2af-f390f6198484"
   },
   "outputs": [
    {
     "name": "stdout",
     "output_type": "stream",
     "text": [
      "Train dataset positive/negative distribution (with augmentations):\n"
     ]
    },
    {
     "data": {
      "text/html": [
       "<div>\n",
       "<style scoped>\n",
       "    .dataframe tbody tr th:only-of-type {\n",
       "        vertical-align: middle;\n",
       "    }\n",
       "\n",
       "    .dataframe tbody tr th {\n",
       "        vertical-align: top;\n",
       "    }\n",
       "\n",
       "    .dataframe thead th {\n",
       "        text-align: right;\n",
       "    }\n",
       "</style>\n",
       "<table border=\"1\" class=\"dataframe\">\n",
       "  <thead>\n",
       "    <tr style=\"text-align: right;\">\n",
       "      <th></th>\n",
       "      <th>BodyPart</th>\n",
       "      <th>Negative</th>\n",
       "      <th>Positive</th>\n",
       "      <th>AugmentedNegative</th>\n",
       "      <th>AugmentedPositive</th>\n",
       "    </tr>\n",
       "  </thead>\n",
       "  <tbody>\n",
       "    <tr>\n",
       "      <th>0</th>\n",
       "      <td>XR_ELBOW</td>\n",
       "      <td>2925</td>\n",
       "      <td>2006</td>\n",
       "      <td>11700</td>\n",
       "      <td>8024</td>\n",
       "    </tr>\n",
       "    <tr>\n",
       "      <th>1</th>\n",
       "      <td>XR_FINGER</td>\n",
       "      <td>3138</td>\n",
       "      <td>1968</td>\n",
       "      <td>12552</td>\n",
       "      <td>7872</td>\n",
       "    </tr>\n",
       "    <tr>\n",
       "      <th>2</th>\n",
       "      <td>XR_FOREARM</td>\n",
       "      <td>1164</td>\n",
       "      <td>661</td>\n",
       "      <td>4656</td>\n",
       "      <td>2644</td>\n",
       "    </tr>\n",
       "    <tr>\n",
       "      <th>3</th>\n",
       "      <td>XR_HAND</td>\n",
       "      <td>4059</td>\n",
       "      <td>1484</td>\n",
       "      <td>16236</td>\n",
       "      <td>5936</td>\n",
       "    </tr>\n",
       "    <tr>\n",
       "      <th>4</th>\n",
       "      <td>XR_HUMERUS</td>\n",
       "      <td>673</td>\n",
       "      <td>599</td>\n",
       "      <td>2692</td>\n",
       "      <td>2396</td>\n",
       "    </tr>\n",
       "    <tr>\n",
       "      <th>5</th>\n",
       "      <td>XR_SHOULDER</td>\n",
       "      <td>4211</td>\n",
       "      <td>4168</td>\n",
       "      <td>16844</td>\n",
       "      <td>16672</td>\n",
       "    </tr>\n",
       "    <tr>\n",
       "      <th>6</th>\n",
       "      <td>XR_WRIST</td>\n",
       "      <td>5765</td>\n",
       "      <td>3987</td>\n",
       "      <td>23060</td>\n",
       "      <td>15948</td>\n",
       "    </tr>\n",
       "  </tbody>\n",
       "</table>\n",
       "</div>"
      ],
      "text/plain": [
       "      BodyPart  Negative  Positive  AugmentedNegative  AugmentedPositive\n",
       "0     XR_ELBOW      2925      2006              11700               8024\n",
       "1    XR_FINGER      3138      1968              12552               7872\n",
       "2   XR_FOREARM      1164       661               4656               2644\n",
       "3      XR_HAND      4059      1484              16236               5936\n",
       "4   XR_HUMERUS       673       599               2692               2396\n",
       "5  XR_SHOULDER      4211      4168              16844              16672\n",
       "6     XR_WRIST      5765      3987              23060              15948"
      ]
     },
     "metadata": {},
     "output_type": "display_data"
    },
    {
     "name": "stdout",
     "output_type": "stream",
     "text": [
      "Valid dataset positive/negative distribution (with augmentations):\n"
     ]
    },
    {
     "data": {
      "text/html": [
       "<div>\n",
       "<style scoped>\n",
       "    .dataframe tbody tr th:only-of-type {\n",
       "        vertical-align: middle;\n",
       "    }\n",
       "\n",
       "    .dataframe tbody tr th {\n",
       "        vertical-align: top;\n",
       "    }\n",
       "\n",
       "    .dataframe thead th {\n",
       "        text-align: right;\n",
       "    }\n",
       "</style>\n",
       "<table border=\"1\" class=\"dataframe\">\n",
       "  <thead>\n",
       "    <tr style=\"text-align: right;\">\n",
       "      <th></th>\n",
       "      <th>BodyPart</th>\n",
       "      <th>Negative</th>\n",
       "      <th>Positive</th>\n",
       "      <th>AugmentedNegative</th>\n",
       "      <th>AugmentedPositive</th>\n",
       "    </tr>\n",
       "  </thead>\n",
       "  <tbody>\n",
       "    <tr>\n",
       "      <th>0</th>\n",
       "      <td>XR_ELBOW</td>\n",
       "      <td>235</td>\n",
       "      <td>230</td>\n",
       "      <td>940</td>\n",
       "      <td>920</td>\n",
       "    </tr>\n",
       "    <tr>\n",
       "      <th>1</th>\n",
       "      <td>XR_FINGER</td>\n",
       "      <td>214</td>\n",
       "      <td>247</td>\n",
       "      <td>856</td>\n",
       "      <td>988</td>\n",
       "    </tr>\n",
       "    <tr>\n",
       "      <th>2</th>\n",
       "      <td>XR_FOREARM</td>\n",
       "      <td>150</td>\n",
       "      <td>151</td>\n",
       "      <td>600</td>\n",
       "      <td>604</td>\n",
       "    </tr>\n",
       "    <tr>\n",
       "      <th>3</th>\n",
       "      <td>XR_HAND</td>\n",
       "      <td>271</td>\n",
       "      <td>189</td>\n",
       "      <td>1084</td>\n",
       "      <td>756</td>\n",
       "    </tr>\n",
       "    <tr>\n",
       "      <th>4</th>\n",
       "      <td>XR_HUMERUS</td>\n",
       "      <td>148</td>\n",
       "      <td>140</td>\n",
       "      <td>592</td>\n",
       "      <td>560</td>\n",
       "    </tr>\n",
       "    <tr>\n",
       "      <th>5</th>\n",
       "      <td>XR_SHOULDER</td>\n",
       "      <td>285</td>\n",
       "      <td>278</td>\n",
       "      <td>1140</td>\n",
       "      <td>1112</td>\n",
       "    </tr>\n",
       "    <tr>\n",
       "      <th>6</th>\n",
       "      <td>XR_WRIST</td>\n",
       "      <td>364</td>\n",
       "      <td>295</td>\n",
       "      <td>1456</td>\n",
       "      <td>1180</td>\n",
       "    </tr>\n",
       "  </tbody>\n",
       "</table>\n",
       "</div>"
      ],
      "text/plain": [
       "      BodyPart  Negative  Positive  AugmentedNegative  AugmentedPositive\n",
       "0     XR_ELBOW       235       230                940                920\n",
       "1    XR_FINGER       214       247                856                988\n",
       "2   XR_FOREARM       150       151                600                604\n",
       "3      XR_HAND       271       189               1084                756\n",
       "4   XR_HUMERUS       148       140                592                560\n",
       "5  XR_SHOULDER       285       278               1140               1112\n",
       "6     XR_WRIST       364       295               1456               1180"
      ]
     },
     "metadata": {},
     "output_type": "display_data"
    }
   ],
   "source": [
    "# Count positive/negative cases in the training dataset (with 3 augmentations)\n",
    "count_positive_negative(train_dataset, \"train\", num_augmentations=3)\n",
    "\n",
    "# Count positive/negative cases in the validation dataset (with 3 augmentations)\n",
    "count_positive_negative(valid_dataset, \"valid\", num_augmentations=3)"
   ]
  },
  {
   "cell_type": "markdown",
   "metadata": {
    "id": "SgQmrLwHMe73"
   },
   "source": [
    "### Other Datasets"
   ]
  },
  {
   "cell_type": "code",
   "execution_count": 21,
   "metadata": {
    "id": "ju8EWFkaMe73"
   },
   "outputs": [],
   "source": []
  },
  {
   "cell_type": "markdown",
   "metadata": {
    "id": "wlh28zGVMe73"
   },
   "source": [
    "# Model"
   ]
  },
  {
   "cell_type": "markdown",
   "metadata": {
    "id": "fmACXssNX7MM"
   },
   "source": [
    "### DenseNet"
   ]
  },
  {
   "cell_type": "code",
   "execution_count": 441,
   "metadata": {
    "id": "dH0qm718X_zy"
   },
   "outputs": [],
   "source": [
    "from models.densenet import DenseNet\n",
    "\n",
    "# Define the device\n",
    "device = torch.device(\"cuda\" if torch.cuda.is_available() else \"cpu\")\n",
    "\n",
    "# Instantiate the DenseNet\n",
    "model = DenseNet(num_blocks=3, num_layers_per_block=4, growth_rate=32, reduction=0.5).to(device)\n"
   ]
  },
  {
   "cell_type": "code",
   "execution_count": 442,
   "metadata": {
    "id": "c02N-mzEYAVe"
   },
   "outputs": [],
   "source": [
    "import torch.optim as optim\n",
    "from torch.cuda.amp import GradScaler, autocast\n",
    "from tqdm import tqdm\n",
    "\n",
    "# 6. Define Loss, Optimizer, and Scheduler\n",
    "# criterion = nn.BCEWithLogitsLoss()\n",
    "# optimizer = optim.Adam(model.parameters(), lr=0.0001)\n",
    "\n",
    "optimizer = optim.Adam(model.parameters(), lr=1e-3, weight_decay=1e-4)\n",
    "scheduler = optim.lr_scheduler.StepLR(optimizer, step_size=10, gamma=0.1)\n",
    "weights = torch.tensor([1.0, 3.0]).to(device)  # Adjust according to dataset imbalance\n",
    "criterion = nn.BCEWithLogitsLoss()\n"
   ]
  },
  {
   "cell_type": "code",
   "execution_count": 443,
   "metadata": {},
   "outputs": [],
   "source": [
    "from sklearn.metrics import (\n",
    "    confusion_matrix, roc_auc_score, classification_report,\n",
    "    precision_recall_fscore_support, cohen_kappa_score, roc_curve\n",
    ")"
   ]
  },
  {
   "cell_type": "code",
   "execution_count": 444,
   "metadata": {
    "id": "_S_08HiBYVVu"
   },
   "outputs": [],
   "source": [
    "def train_model(model, criterion, optimizer, scheduler, train_loader, valid_loader, num_epochs, device='cuda'):\n",
    "    best_model_wts = model.state_dict()\n",
    "    best_acc = 0.0\n",
    "    train_history = {'train_loss': [], 'train_acc': [], 'valid_loss': [], 'valid_acc': []}\n",
    "\n",
    "    scaler = GradScaler()\n",
    "\n",
    "    for epoch in range(num_epochs):\n",
    "        print(f\"Epoch {epoch + 1}/{num_epochs}\")\n",
    "        print('-' * 10)\n",
    "\n",
    "        for phase in ['train', 'valid']:\n",
    "            if phase == 'train':\n",
    "                model.train()\n",
    "                loader = train_loader\n",
    "            else:\n",
    "                model.eval()\n",
    "                loader = valid_loader\n",
    "\n",
    "            running_loss = 0.0\n",
    "            running_corrects = 0\n",
    "\n",
    "            progress_bar = tqdm(enumerate(loader), total=len(loader), desc=f\"{phase} Progress\")\n",
    "\n",
    "            for i, (inputs, labels) in progress_bar:\n",
    "                inputs, labels = inputs.to(device), labels.to(device).float()\n",
    "\n",
    "                optimizer.zero_grad()\n",
    "\n",
    "                with torch.set_grad_enabled(phase == 'train'):\n",
    "                    try:\n",
    "                        with autocast(enabled=torch.cuda.is_available()):  # Mixed precision\n",
    "                            outputs = model(inputs).view(-1)  # Ensure outputs have shape [batch_size]\n",
    "                            labels = labels.view(-1)          # Ensure labels have shape [batch_size]\n",
    "                            loss = criterion(outputs, labels)\n",
    "\n",
    "                        if phase == 'train':\n",
    "                            scaler.scale(loss).backward()\n",
    "                            scaler.step(optimizer)\n",
    "                            scaler.update()\n",
    "\n",
    "                        preds = (outputs > 0.5).float()  # Convert logits to predictions\n",
    "                        running_loss += loss.item() * inputs.size(0)\n",
    "                        running_corrects += torch.sum(preds == labels)\n",
    "\n",
    "                        progress_bar.set_postfix(loss=loss.item(), accuracy=(running_corrects.double() / ((i + 1) * inputs.size(0))).item())\n",
    "\n",
    "                    except Exception as e:\n",
    "                        print(f\"Error in batch {i} of {phase}: {e}\")\n",
    "                        continue\n",
    "\n",
    "            epoch_loss = running_loss / len(loader.dataset)\n",
    "            epoch_acc = running_corrects.double() / len(loader.dataset)\n",
    "\n",
    "            train_history[f'{phase}_loss'].append(epoch_loss)\n",
    "            train_history[f'{phase}_acc'].append(epoch_acc.item())\n",
    "\n",
    "            print(f\"{phase} Loss: {epoch_loss:.4f} Acc: {epoch_acc:.4f}\")\n",
    "\n",
    "            if phase == 'valid' and epoch_acc > best_acc:\n",
    "                best_acc = epoch_acc\n",
    "                best_model_wts = model.state_dict()\n",
    "                torch.save(model.state_dict(), f\"best_model_epoch_{epoch+1}.pth\")\n",
    "\n",
    "        if isinstance(scheduler, torch.optim.lr_scheduler.ReduceLROnPlateau):\n",
    "            scheduler.step(epoch_loss)\n",
    "        else:\n",
    "            scheduler.step()\n",
    "\n",
    "    print(f\"Best Validation Accuracy: {best_acc:.4f}\")\n",
    "    model.load_state_dict(best_model_wts)\n",
    "    return model, train_history"
   ]
  },
  {
   "cell_type": "code",
   "execution_count": null,
   "metadata": {
    "colab": {
     "base_uri": "https://localhost:8080/"
    },
    "id": "SfL-ipYSYYa-",
    "outputId": "d62a9554-953f-4bd6-c41d-8fe76f187eae"
   },
   "outputs": [],
   "source": [
    "# 8. Train the Model\n",
    "model, train_history = train_model(model, criterion, optimizer, scheduler, train_loader, valid_loader, num_epochs=10)"
   ]
  },
  {
   "cell_type": "code",
   "execution_count": 29,
   "metadata": {
    "id": "opU1Rx49Yajn"
   },
   "outputs": [
    {
     "name": "stderr",
     "output_type": "stream",
     "text": [
      "C:\\Users\\green\\AppData\\Local\\Temp\\ipykernel_29132\\2469493041.py:9: FutureWarning: You are using `torch.load` with `weights_only=False` (the current default value), which uses the default pickle module implicitly. It is possible to construct malicious pickle data which will execute arbitrary code during unpickling (See https://github.com/pytorch/pytorch/blob/main/SECURITY.md#untrusted-models for more details). In a future release, the default value for `weights_only` will be flipped to `True`. This limits the functions that could be executed during unpickling. Arbitrary objects will no longer be allowed to be loaded via this mode unless they are explicitly allowlisted by the user via `torch.serialization.add_safe_globals`. We recommend you start setting `weights_only=True` for any use case where you don't have full control of the loaded file. Please open an issue on GitHub for any issues related to this experimental feature.\n",
      "  model.load_state_dict(torch.load('densenet_mura.pth', map_location=torch.device('cpu')))\n"
     ]
    },
    {
     "data": {
      "text/plain": [
       "DenseNet(\n",
       "  (init_conv): Sequential(\n",
       "    (0): Conv2d(3, 64, kernel_size=(7, 7), stride=(2, 2), padding=(3, 3), bias=False)\n",
       "    (1): BatchNorm2d(64, eps=1e-05, momentum=0.1, affine=True, track_running_stats=True)\n",
       "    (2): ReLU(inplace=True)\n",
       "    (3): MaxPool2d(kernel_size=3, stride=2, padding=1, dilation=1, ceil_mode=False)\n",
       "  )\n",
       "  (features): Sequential(\n",
       "    (0): DenseBlock(\n",
       "      (block): Sequential(\n",
       "        (0): DenseLayer(\n",
       "          (layer): Sequential(\n",
       "            (0): BatchNorm2d(64, eps=1e-05, momentum=0.1, affine=True, track_running_stats=True)\n",
       "            (1): ReLU(inplace=True)\n",
       "            (2): Conv2d(64, 32, kernel_size=(3, 3), stride=(1, 1), padding=(1, 1), bias=False)\n",
       "            (3): Dropout(p=0.2, inplace=False)\n",
       "          )\n",
       "        )\n",
       "        (1): DenseLayer(\n",
       "          (layer): Sequential(\n",
       "            (0): BatchNorm2d(96, eps=1e-05, momentum=0.1, affine=True, track_running_stats=True)\n",
       "            (1): ReLU(inplace=True)\n",
       "            (2): Conv2d(96, 32, kernel_size=(3, 3), stride=(1, 1), padding=(1, 1), bias=False)\n",
       "            (3): Dropout(p=0.2, inplace=False)\n",
       "          )\n",
       "        )\n",
       "        (2): DenseLayer(\n",
       "          (layer): Sequential(\n",
       "            (0): BatchNorm2d(128, eps=1e-05, momentum=0.1, affine=True, track_running_stats=True)\n",
       "            (1): ReLU(inplace=True)\n",
       "            (2): Conv2d(128, 32, kernel_size=(3, 3), stride=(1, 1), padding=(1, 1), bias=False)\n",
       "            (3): Dropout(p=0.2, inplace=False)\n",
       "          )\n",
       "        )\n",
       "        (3): DenseLayer(\n",
       "          (layer): Sequential(\n",
       "            (0): BatchNorm2d(160, eps=1e-05, momentum=0.1, affine=True, track_running_stats=True)\n",
       "            (1): ReLU(inplace=True)\n",
       "            (2): Conv2d(160, 32, kernel_size=(3, 3), stride=(1, 1), padding=(1, 1), bias=False)\n",
       "            (3): Dropout(p=0.2, inplace=False)\n",
       "          )\n",
       "        )\n",
       "      )\n",
       "    )\n",
       "    (1): TransitionLayer(\n",
       "      (transition): Sequential(\n",
       "        (0): BatchNorm2d(192, eps=1e-05, momentum=0.1, affine=True, track_running_stats=True)\n",
       "        (1): ReLU(inplace=True)\n",
       "        (2): Conv2d(192, 96, kernel_size=(1, 1), stride=(1, 1), bias=False)\n",
       "        (3): AvgPool2d(kernel_size=2, stride=2, padding=0)\n",
       "      )\n",
       "    )\n",
       "    (2): DenseBlock(\n",
       "      (block): Sequential(\n",
       "        (0): DenseLayer(\n",
       "          (layer): Sequential(\n",
       "            (0): BatchNorm2d(96, eps=1e-05, momentum=0.1, affine=True, track_running_stats=True)\n",
       "            (1): ReLU(inplace=True)\n",
       "            (2): Conv2d(96, 32, kernel_size=(3, 3), stride=(1, 1), padding=(1, 1), bias=False)\n",
       "            (3): Dropout(p=0.2, inplace=False)\n",
       "          )\n",
       "        )\n",
       "        (1): DenseLayer(\n",
       "          (layer): Sequential(\n",
       "            (0): BatchNorm2d(128, eps=1e-05, momentum=0.1, affine=True, track_running_stats=True)\n",
       "            (1): ReLU(inplace=True)\n",
       "            (2): Conv2d(128, 32, kernel_size=(3, 3), stride=(1, 1), padding=(1, 1), bias=False)\n",
       "            (3): Dropout(p=0.2, inplace=False)\n",
       "          )\n",
       "        )\n",
       "        (2): DenseLayer(\n",
       "          (layer): Sequential(\n",
       "            (0): BatchNorm2d(160, eps=1e-05, momentum=0.1, affine=True, track_running_stats=True)\n",
       "            (1): ReLU(inplace=True)\n",
       "            (2): Conv2d(160, 32, kernel_size=(3, 3), stride=(1, 1), padding=(1, 1), bias=False)\n",
       "            (3): Dropout(p=0.2, inplace=False)\n",
       "          )\n",
       "        )\n",
       "        (3): DenseLayer(\n",
       "          (layer): Sequential(\n",
       "            (0): BatchNorm2d(192, eps=1e-05, momentum=0.1, affine=True, track_running_stats=True)\n",
       "            (1): ReLU(inplace=True)\n",
       "            (2): Conv2d(192, 32, kernel_size=(3, 3), stride=(1, 1), padding=(1, 1), bias=False)\n",
       "            (3): Dropout(p=0.2, inplace=False)\n",
       "          )\n",
       "        )\n",
       "      )\n",
       "    )\n",
       "    (3): TransitionLayer(\n",
       "      (transition): Sequential(\n",
       "        (0): BatchNorm2d(224, eps=1e-05, momentum=0.1, affine=True, track_running_stats=True)\n",
       "        (1): ReLU(inplace=True)\n",
       "        (2): Conv2d(224, 112, kernel_size=(1, 1), stride=(1, 1), bias=False)\n",
       "        (3): AvgPool2d(kernel_size=2, stride=2, padding=0)\n",
       "      )\n",
       "    )\n",
       "    (4): DenseBlock(\n",
       "      (block): Sequential(\n",
       "        (0): DenseLayer(\n",
       "          (layer): Sequential(\n",
       "            (0): BatchNorm2d(112, eps=1e-05, momentum=0.1, affine=True, track_running_stats=True)\n",
       "            (1): ReLU(inplace=True)\n",
       "            (2): Conv2d(112, 32, kernel_size=(3, 3), stride=(1, 1), padding=(1, 1), bias=False)\n",
       "            (3): Dropout(p=0.2, inplace=False)\n",
       "          )\n",
       "        )\n",
       "        (1): DenseLayer(\n",
       "          (layer): Sequential(\n",
       "            (0): BatchNorm2d(144, eps=1e-05, momentum=0.1, affine=True, track_running_stats=True)\n",
       "            (1): ReLU(inplace=True)\n",
       "            (2): Conv2d(144, 32, kernel_size=(3, 3), stride=(1, 1), padding=(1, 1), bias=False)\n",
       "            (3): Dropout(p=0.2, inplace=False)\n",
       "          )\n",
       "        )\n",
       "        (2): DenseLayer(\n",
       "          (layer): Sequential(\n",
       "            (0): BatchNorm2d(176, eps=1e-05, momentum=0.1, affine=True, track_running_stats=True)\n",
       "            (1): ReLU(inplace=True)\n",
       "            (2): Conv2d(176, 32, kernel_size=(3, 3), stride=(1, 1), padding=(1, 1), bias=False)\n",
       "            (3): Dropout(p=0.2, inplace=False)\n",
       "          )\n",
       "        )\n",
       "        (3): DenseLayer(\n",
       "          (layer): Sequential(\n",
       "            (0): BatchNorm2d(208, eps=1e-05, momentum=0.1, affine=True, track_running_stats=True)\n",
       "            (1): ReLU(inplace=True)\n",
       "            (2): Conv2d(208, 32, kernel_size=(3, 3), stride=(1, 1), padding=(1, 1), bias=False)\n",
       "            (3): Dropout(p=0.2, inplace=False)\n",
       "          )\n",
       "        )\n",
       "      )\n",
       "    )\n",
       "  )\n",
       "  (classifier): Sequential(\n",
       "    (0): AdaptiveAvgPool2d(output_size=(1, 1))\n",
       "    (1): Flatten(start_dim=1, end_dim=-1)\n",
       "    (2): Linear(in_features=240, out_features=1, bias=True)\n",
       "  )\n",
       ")"
      ]
     },
     "execution_count": 29,
     "metadata": {},
     "output_type": "execute_result"
    }
   ],
   "source": [
    "# Save the model\n",
    "#torch.save(model.state_dict(), 'densenet_mura.pth')\n",
    "# Load the model\n",
    "if device == 'cuda':\n",
    "    model.load_state_dict(torch.load('densenet_mura.pth'))\n",
    "elif device == 'mps':\n",
    "    model.load_state_dict(torch.load('densenet_mura.pth', map_location=torch.device('mps')))\n",
    "else:\n",
    "    model.load_state_dict(torch.load('densenet_mura.pth', map_location=torch.device('cpu')))\n",
    "# Evaluate on validation set\n",
    "model.eval()"
   ]
  },
  {
   "cell_type": "code",
   "execution_count": 447,
   "metadata": {},
   "outputs": [
    {
     "data": {
      "image/png": "[encoded data removed]",
      "text/plain": [
       "<Figure size 800x600 with 2 Axes>"
      ]
     },
     "metadata": {},
     "output_type": "display_data"
    },
    {
     "data": {
      "image/png": "[encoded data removed]",
      "text/plain": [
       "<Figure size 800x600 with 1 Axes>"
      ]
     },
     "metadata": {},
     "output_type": "display_data"
    },
    {
     "name": "stdout",
     "output_type": "stream",
     "text": [
      "Global Metrics:\n",
      "{'Accuracy': 0.6969033468877073, 'Precision': 0.7871033776867963, 'Recall': 0.5026143790849673, 'F1 Score': 0.6134822497008376, 'Specificity': 0.8752249550089982, 'ROC-AUC': 0.7630301390702252, \"Cohen's Kappa\": 0.3835356545801919, 'Kappa 95% CI Lower': 0.3599958727089543, 'Kappa 95% CI Upper': 0.4070754364514295, 'Loss': 0.5798552333749306}\n",
      "Classification Report:\n",
      "              precision    recall  f1-score   support\n",
      "\n",
      "         0.0       0.66      0.88      0.75      1667\n",
      "         1.0       0.79      0.50      0.61      1530\n",
      "\n",
      "    accuracy                           0.70      3197\n",
      "   macro avg       0.72      0.69      0.68      3197\n",
      "weighted avg       0.72      0.70      0.69      3197\n",
      "\n",
      "Metrics per body part:\n",
      "             Accuracy  Precision    Recall  F1 Score  Specificity   ROC-AUC  \\\n",
      "XR_WRIST     0.748103   0.844920  0.535593  0.655602     0.920330  0.816977   \n",
      "XR_FOREARM   0.707641   0.888889  0.476821  0.620690     0.940000  0.790684   \n",
      "XR_HAND      0.656522   0.762712  0.238095  0.362903     0.948339  0.671450   \n",
      "XR_HUMERUS   0.670139   0.718447  0.528571  0.609053     0.804054  0.734846   \n",
      "XR_SHOULDER  0.682060   0.700405  0.622302  0.659048     0.740351  0.737978   \n",
      "XR_ELBOW     0.746237   0.841463  0.600000  0.700508     0.889362  0.833043   \n",
      "XR_FINGER    0.642082   0.801471  0.441296  0.569191     0.873832  0.759904   \n",
      "\n",
      "             Cohen's Kappa  Kappa 95% CI Lower  Kappa 95% CI Upper      Loss  \n",
      "XR_WRIST          0.472312            0.421786            0.522837  0.517948  \n",
      "XR_FOREARM        0.416178            0.339818            0.492538  0.557708  \n",
      "XR_HAND           0.208089            0.145366            0.270813  0.670230  \n",
      "XR_HUMERUS        0.335018            0.255754            0.414283  0.612840  \n",
      "XR_SHOULDER       0.363150            0.306711            0.419590  0.590111  \n",
      "XR_ELBOW          0.490860            0.430613            0.551107  0.516554  \n",
      "XR_FINGER         0.304574            0.241357            0.367791  0.623352  \n"
     ]
    },
    {
     "data": {
      "text/html": [
       "<div>\n",
       "<style scoped>\n",
       "    .dataframe tbody tr th:only-of-type {\n",
       "        vertical-align: middle;\n",
       "    }\n",
       "\n",
       "    .dataframe tbody tr th {\n",
       "        vertical-align: top;\n",
       "    }\n",
       "\n",
       "    .dataframe thead th {\n",
       "        text-align: right;\n",
       "    }\n",
       "</style>\n",
       "<table border=\"1\" class=\"dataframe\">\n",
       "  <thead>\n",
       "    <tr style=\"text-align: right;\">\n",
       "      <th></th>\n",
       "      <th>Accuracy</th>\n",
       "      <th>Precision</th>\n",
       "      <th>Recall</th>\n",
       "      <th>F1 Score</th>\n",
       "      <th>Specificity</th>\n",
       "      <th>ROC-AUC</th>\n",
       "      <th>Cohen's Kappa</th>\n",
       "      <th>Kappa 95% CI Lower</th>\n",
       "      <th>Kappa 95% CI Upper</th>\n",
       "      <th>Loss</th>\n",
       "    </tr>\n",
       "  </thead>\n",
       "  <tbody>\n",
       "    <tr>\n",
       "      <th>0</th>\n",
       "      <td>0.696903</td>\n",
       "      <td>0.787103</td>\n",
       "      <td>0.502614</td>\n",
       "      <td>0.613482</td>\n",
       "      <td>0.875225</td>\n",
       "      <td>0.76303</td>\n",
       "      <td>0.383536</td>\n",
       "      <td>0.359996</td>\n",
       "      <td>0.407075</td>\n",
       "      <td>0.579855</td>\n",
       "    </tr>\n",
       "  </tbody>\n",
       "</table>\n",
       "</div>"
      ],
      "text/plain": [
       "   Accuracy  Precision    Recall  F1 Score  Specificity  ROC-AUC  \\\n",
       "0  0.696903   0.787103  0.502614  0.613482     0.875225  0.76303   \n",
       "\n",
       "   Cohen's Kappa  Kappa 95% CI Lower  Kappa 95% CI Upper      Loss  \n",
       "0       0.383536            0.359996            0.407075  0.579855  "
      ]
     },
     "metadata": {},
     "output_type": "display_data"
    }
   ],
   "source": [
    "# Evaluate on validation set\n",
    "metrics = evaluate_model(model, valid_loader, dataset=valid_dataset, criterion=criterion)\n",
    "display(metrics)"
   ]
  },
  {
   "cell_type": "markdown",
   "metadata": {},
   "source": [
    "## Visualizations"
   ]
  },
  {
   "cell_type": "code",
   "execution_count": null,
   "metadata": {},
   "outputs": [],
   "source": [
    "from visualizer import find_last_conv_layer, run_gradcam, GradCAM, visualize_gradcam_examples"
   ]
  },
  {
   "cell_type": "code",
   "execution_count": 38,
   "metadata": {},
   "outputs": [
    {
     "name": "stdout",
     "output_type": "stream",
     "text": [
      "features.4.block.3.layer.2\n",
      "Conv2d(208, 32, kernel_size=(3, 3), stride=(1, 1), padding=(1, 1), bias=False)\n"
     ]
    }
   ],
   "source": [
    "layer_name, target_layer = find_last_conv_layer(model)\n",
    "print(layer_name)\n",
    "print(target_layer)\n"
   ]
  },
  {
   "cell_type": "code",
   "execution_count": null,
   "metadata": {},
   "outputs": [],
   "source": [
    "body_parts = [\"XR_ELBOW\", \"XR_FINGER\", \"XR_FOREARM\"]"
   ]
  },
  {
   "cell_type": "code",
   "execution_count": 63,
   "metadata": {},
   "outputs": [
    {
     "name": "stdout",
     "output_type": "stream",
     "text": [
      "                                             image_path\n",
      "0     MURA-v1.1/valid/XR_WRIST/patient11185/study1_p...\n",
      "1     MURA-v1.1/valid/XR_WRIST/patient11185/study1_p...\n",
      "2     MURA-v1.1/valid/XR_WRIST/patient11185/study1_p...\n",
      "3     MURA-v1.1/valid/XR_WRIST/patient11185/study1_p...\n",
      "4     MURA-v1.1/valid/XR_WRIST/patient11186/study1_p...\n",
      "...                                                 ...\n",
      "3192  MURA-v1.1/valid/XR_FINGER/patient11967/study1_...\n",
      "3193  MURA-v1.1/valid/XR_FINGER/patient11967/study1_...\n",
      "3194  MURA-v1.1/valid/XR_FINGER/patient11738/study1_...\n",
      "3195  MURA-v1.1/valid/XR_FINGER/patient11738/study1_...\n",
      "3196  MURA-v1.1/valid/XR_FINGER/patient11738/study1_...\n",
      "\n",
      "[3197 rows x 1 columns]\n",
      "{'MURA-v1.1/valid/XR_WRIST/patient11185/study1_positive/': 1, 'MURA-v1.1/valid/XR_WRIST/patient11186/study1_positive/': 1, 'MURA-v1.1/valid/XR_WRIST/patient11186/study2_positive/': 1, 'MURA-v1.1/valid/XR_WRIST/patient11186/study3_positive/': 1, 'MURA-v1.1/valid/XR_WRIST/patient11187/study1_positive/': 1, 'MURA-v1.1/valid/XR_WRIST/patient11188/study1_positive/': 1, 'MURA-v1.1/valid/XR_WRIST/patient11189/study1_positive/': 1, 'MURA-v1.1/valid/XR_WRIST/patient11190/study1_positive/': 1, 'MURA-v1.1/valid/XR_WRIST/patient11191/study1_positive/': 1, 'MURA-v1.1/valid/XR_WRIST/patient11192/study1_positive/': 1, 'MURA-v1.1/valid/XR_WRIST/patient11193/study1_positive/': 1, 'MURA-v1.1/valid/XR_WRIST/patient11194/study1_positive/': 1, 'MURA-v1.1/valid/XR_WRIST/patient11195/study1_positive/': 1, 'MURA-v1.1/valid/XR_WRIST/patient11196/study1_positive/': 1, 'MURA-v1.1/valid/XR_WRIST/patient11197/study1_positive/': 1, 'MURA-v1.1/valid/XR_WRIST/patient11198/study1_positive/': 1, 'MURA-v1.1/valid/XR_WRIST/patient11199/study1_positive/': 1, 'MURA-v1.1/valid/XR_WRIST/patient11199/study2_negative/': 0, 'MURA-v1.1/valid/XR_WRIST/patient11200/study1_positive/': 1, 'MURA-v1.1/valid/XR_WRIST/patient11201/study1_positive/': 1, 'MURA-v1.1/valid/XR_WRIST/patient11202/study1_positive/': 1, 'MURA-v1.1/valid/XR_WRIST/patient11203/study1_positive/': 1, 'MURA-v1.1/valid/XR_WRIST/patient11204/study1_positive/': 1, 'MURA-v1.1/valid/XR_WRIST/patient11205/study1_positive/': 1, 'MURA-v1.1/valid/XR_WRIST/patient11206/study1_positive/': 1, 'MURA-v1.1/valid/XR_WRIST/patient11207/study1_positive/': 1, 'MURA-v1.1/valid/XR_WRIST/patient11208/study1_positive/': 1, 'MURA-v1.1/valid/XR_WRIST/patient11209/study1_positive/': 1, 'MURA-v1.1/valid/XR_WRIST/patient11210/study1_positive/': 1, 'MURA-v1.1/valid/XR_WRIST/patient11211/study1_positive/': 1, 'MURA-v1.1/valid/XR_WRIST/patient11212/study1_positive/': 1, 'MURA-v1.1/valid/XR_WRIST/patient11212/study2_negative/': 0, 'MURA-v1.1/valid/XR_WRIST/patient11213/study1_positive/': 1, 'MURA-v1.1/valid/XR_WRIST/patient11213/study2_negative/': 0, 'MURA-v1.1/valid/XR_WRIST/patient11214/study1_positive/': 1, 'MURA-v1.1/valid/XR_WRIST/patient11214/study2_positive/': 1, 'MURA-v1.1/valid/XR_WRIST/patient11215/study1_positive/': 1, 'MURA-v1.1/valid/XR_WRIST/patient11216/study1_positive/': 1, 'MURA-v1.1/valid/XR_WRIST/patient11217/study1_positive/': 1, 'MURA-v1.1/valid/XR_WRIST/patient11218/study1_positive/': 1, 'MURA-v1.1/valid/XR_WRIST/patient11219/study1_positive/': 1, 'MURA-v1.1/valid/XR_WRIST/patient11220/study1_positive/': 1, 'MURA-v1.1/valid/XR_WRIST/patient11221/study1_positive/': 1, 'MURA-v1.1/valid/XR_WRIST/patient11222/study1_positive/': 1, 'MURA-v1.1/valid/XR_WRIST/patient11222/study2_negative/': 0, 'MURA-v1.1/valid/XR_WRIST/patient11223/study1_positive/': 1, 'MURA-v1.1/valid/XR_WRIST/patient11224/study1_positive/': 1, 'MURA-v1.1/valid/XR_WRIST/patient11225/study1_positive/': 1, 'MURA-v1.1/valid/XR_WRIST/patient11226/study1_positive/': 1, 'MURA-v1.1/valid/XR_WRIST/patient11227/study1_positive/': 1, 'MURA-v1.1/valid/XR_WRIST/patient11227/study2_negative/': 0, 'MURA-v1.1/valid/XR_WRIST/patient11227/study3_negative/': 0, 'MURA-v1.1/valid/XR_WRIST/patient11228/study1_positive/': 1, 'MURA-v1.1/valid/XR_WRIST/patient11228/study2_negative/': 0, 'MURA-v1.1/valid/XR_WRIST/patient11229/study1_positive/': 1, 'MURA-v1.1/valid/XR_WRIST/patient11230/study1_positive/': 1, 'MURA-v1.1/valid/XR_WRIST/patient11230/study2_negative/': 0, 'MURA-v1.1/valid/XR_WRIST/patient11231/study1_positive/': 1, 'MURA-v1.1/valid/XR_WRIST/patient11232/study1_positive/': 1, 'MURA-v1.1/valid/XR_WRIST/patient11233/study1_positive/': 1, 'MURA-v1.1/valid/XR_WRIST/patient11233/study2_negative/': 0, 'MURA-v1.1/valid/XR_WRIST/patient11234/study1_positive/': 1, 'MURA-v1.1/valid/XR_WRIST/patient11235/study1_positive/': 1, 'MURA-v1.1/valid/XR_WRIST/patient11236/study1_positive/': 1, 'MURA-v1.1/valid/XR_WRIST/patient11237/study1_positive/': 1, 'MURA-v1.1/valid/XR_WRIST/patient11238/study1_positive/': 1, 'MURA-v1.1/valid/XR_WRIST/patient11239/study1_positive/': 1, 'MURA-v1.1/valid/XR_WRIST/patient11239/study2_negative/': 0, 'MURA-v1.1/valid/XR_WRIST/patient11240/study1_positive/': 1, 'MURA-v1.1/valid/XR_WRIST/patient11241/study1_positive/': 1, 'MURA-v1.1/valid/XR_WRIST/patient11242/study1_positive/': 1, 'MURA-v1.1/valid/XR_WRIST/patient11243/study1_positive/': 1, 'MURA-v1.1/valid/XR_WRIST/patient11244/study1_positive/': 1, 'MURA-v1.1/valid/XR_WRIST/patient11245/study1_positive/': 1, 'MURA-v1.1/valid/XR_WRIST/patient11246/study1_positive/': 1, 'MURA-v1.1/valid/XR_WRIST/patient11247/study1_positive/': 1, 'MURA-v1.1/valid/XR_WRIST/patient11248/study1_positive/': 1, 'MURA-v1.1/valid/XR_WRIST/patient11249/study1_positive/': 1, 'MURA-v1.1/valid/XR_WRIST/patient11250/study1_positive/': 1, 'MURA-v1.1/valid/XR_WRIST/patient11251/study1_positive/': 1, 'MURA-v1.1/valid/XR_WRIST/patient11252/study1_positive/': 1, 'MURA-v1.1/valid/XR_WRIST/patient11253/study1_positive/': 1, 'MURA-v1.1/valid/XR_WRIST/patient11254/study1_positive/': 1, 'MURA-v1.1/valid/XR_WRIST/patient11254/study2_negative/': 0, 'MURA-v1.1/valid/XR_WRIST/patient11255/study1_positive/': 1, 'MURA-v1.1/valid/XR_WRIST/patient11256/study1_positive/': 1, 'MURA-v1.1/valid/XR_WRIST/patient11257/study1_positive/': 1, 'MURA-v1.1/valid/XR_WRIST/patient11258/study1_positive/': 1, 'MURA-v1.1/valid/XR_WRIST/patient11259/study1_positive/': 1, 'MURA-v1.1/valid/XR_WRIST/patient11260/study1_positive/': 1, 'MURA-v1.1/valid/XR_WRIST/patient11261/study1_positive/': 1, 'MURA-v1.1/valid/XR_WRIST/patient11262/study1_positive/': 1, 'MURA-v1.1/valid/XR_WRIST/patient11263/study1_positive/': 1, 'MURA-v1.1/valid/XR_WRIST/patient11264/study1_positive/': 1, 'MURA-v1.1/valid/XR_WRIST/patient11264/study2_negative/': 0, 'MURA-v1.1/valid/XR_WRIST/patient11264/study3_negative/': 0, 'MURA-v1.1/valid/XR_WRIST/patient11265/study1_positive/': 1, 'MURA-v1.1/valid/XR_WRIST/patient11266/study1_positive/': 1, 'MURA-v1.1/valid/XR_WRIST/patient11267/study1_positive/': 1, 'MURA-v1.1/valid/XR_WRIST/patient11267/study2_negative/': 0, 'MURA-v1.1/valid/XR_WRIST/patient11268/study1_positive/': 1, 'MURA-v1.1/valid/XR_WRIST/patient11269/study1_positive/': 1, 'MURA-v1.1/valid/XR_WRIST/patient11270/study1_positive/': 1, 'MURA-v1.1/valid/XR_WRIST/patient11271/study1_positive/': 1, 'MURA-v1.1/valid/XR_WRIST/patient11272/study1_positive/': 1, 'MURA-v1.1/valid/XR_WRIST/patient11272/study2_negative/': 0, 'MURA-v1.1/valid/XR_WRIST/patient11272/study3_negative/': 0, 'MURA-v1.1/valid/XR_WRIST/patient11272/study4_negative/': 0, 'MURA-v1.1/valid/XR_WRIST/patient11273/study1_positive/': 1, 'MURA-v1.1/valid/XR_WRIST/patient11274/study1_positive/': 1, 'MURA-v1.1/valid/XR_WRIST/patient11275/study1_positive/': 1, 'MURA-v1.1/valid/XR_WRIST/patient11276/study1_positive/': 1, 'MURA-v1.1/valid/XR_WRIST/patient11277/study1_positive/': 1, 'MURA-v1.1/valid/XR_WRIST/patient11278/study1_positive/': 1, 'MURA-v1.1/valid/XR_WRIST/patient11278/study2_negative/': 0, 'MURA-v1.1/valid/XR_WRIST/patient11279/study1_negative/': 0, 'MURA-v1.1/valid/XR_WRIST/patient11280/study1_negative/': 0, 'MURA-v1.1/valid/XR_WRIST/patient11281/study1_negative/': 0, 'MURA-v1.1/valid/XR_WRIST/patient11282/study1_negative/': 0, 'MURA-v1.1/valid/XR_WRIST/patient11283/study1_negative/': 0, 'MURA-v1.1/valid/XR_WRIST/patient11283/study2_negative/': 0, 'MURA-v1.1/valid/XR_WRIST/patient11284/study1_negative/': 0, 'MURA-v1.1/valid/XR_WRIST/patient11285/study1_negative/': 0, 'MURA-v1.1/valid/XR_WRIST/patient11286/study1_negative/': 0, 'MURA-v1.1/valid/XR_WRIST/patient11287/study1_negative/': 0, 'MURA-v1.1/valid/XR_WRIST/patient11288/study1_negative/': 0, 'MURA-v1.1/valid/XR_WRIST/patient11289/study1_negative/': 0, 'MURA-v1.1/valid/XR_WRIST/patient11290/study1_negative/': 0, 'MURA-v1.1/valid/XR_WRIST/patient11291/study1_negative/': 0, 'MURA-v1.1/valid/XR_WRIST/patient11292/study1_negative/': 0, 'MURA-v1.1/valid/XR_WRIST/patient11293/study1_negative/': 0, 'MURA-v1.1/valid/XR_WRIST/patient11294/study1_negative/': 0, 'MURA-v1.1/valid/XR_WRIST/patient11295/study1_negative/': 0, 'MURA-v1.1/valid/XR_WRIST/patient11296/study1_negative/': 0, 'MURA-v1.1/valid/XR_WRIST/patient11297/study1_negative/': 0, 'MURA-v1.1/valid/XR_WRIST/patient11298/study1_negative/': 0, 'MURA-v1.1/valid/XR_WRIST/patient11299/study1_negative/': 0, 'MURA-v1.1/valid/XR_WRIST/patient11300/study1_negative/': 0, 'MURA-v1.1/valid/XR_WRIST/patient11301/study1_negative/': 0, 'MURA-v1.1/valid/XR_WRIST/patient11302/study1_negative/': 0, 'MURA-v1.1/valid/XR_WRIST/patient11303/study1_negative/': 0, 'MURA-v1.1/valid/XR_WRIST/patient11304/study1_negative/': 0, 'MURA-v1.1/valid/XR_WRIST/patient11305/study1_negative/': 0, 'MURA-v1.1/valid/XR_WRIST/patient11305/study2_negative/': 0, 'MURA-v1.1/valid/XR_WRIST/patient11306/study1_negative/': 0, 'MURA-v1.1/valid/XR_WRIST/patient11307/study1_negative/': 0, 'MURA-v1.1/valid/XR_WRIST/patient11308/study1_negative/': 0, 'MURA-v1.1/valid/XR_WRIST/patient11309/study1_negative/': 0, 'MURA-v1.1/valid/XR_WRIST/patient11310/study1_negative/': 0, 'MURA-v1.1/valid/XR_WRIST/patient11311/study1_negative/': 0, 'MURA-v1.1/valid/XR_WRIST/patient11312/study1_negative/': 0, 'MURA-v1.1/valid/XR_WRIST/patient11313/study1_negative/': 0, 'MURA-v1.1/valid/XR_WRIST/patient11314/study1_negative/': 0, 'MURA-v1.1/valid/XR_WRIST/patient11314/study2_negative/': 0, 'MURA-v1.1/valid/XR_WRIST/patient11315/study1_negative/': 0, 'MURA-v1.1/valid/XR_WRIST/patient11316/study1_negative/': 0, 'MURA-v1.1/valid/XR_WRIST/patient11317/study1_negative/': 0, 'MURA-v1.1/valid/XR_WRIST/patient11317/study2_negative/': 0, 'MURA-v1.1/valid/XR_WRIST/patient11318/study1_negative/': 0, 'MURA-v1.1/valid/XR_WRIST/patient11319/study1_negative/': 0, 'MURA-v1.1/valid/XR_WRIST/patient11320/study1_negative/': 0, 'MURA-v1.1/valid/XR_WRIST/patient11321/study1_negative/': 0, 'MURA-v1.1/valid/XR_WRIST/patient11321/study2_negative/': 0, 'MURA-v1.1/valid/XR_WRIST/patient11322/study1_negative/': 0, 'MURA-v1.1/valid/XR_WRIST/patient11323/study1_negative/': 0, 'MURA-v1.1/valid/XR_WRIST/patient11324/study1_negative/': 0, 'MURA-v1.1/valid/XR_WRIST/patient11325/study1_negative/': 0, 'MURA-v1.1/valid/XR_WRIST/patient11326/study1_negative/': 0, 'MURA-v1.1/valid/XR_WRIST/patient11327/study1_negative/': 0, 'MURA-v1.1/valid/XR_WRIST/patient11328/study1_negative/': 0, 'MURA-v1.1/valid/XR_WRIST/patient11329/study1_negative/': 0, 'MURA-v1.1/valid/XR_WRIST/patient11330/study1_negative/': 0, 'MURA-v1.1/valid/XR_WRIST/patient11330/study2_negative/': 0, 'MURA-v1.1/valid/XR_WRIST/patient11331/study1_negative/': 0, 'MURA-v1.1/valid/XR_WRIST/patient11332/study1_negative/': 0, 'MURA-v1.1/valid/XR_WRIST/patient11333/study1_negative/': 0, 'MURA-v1.1/valid/XR_WRIST/patient11333/study2_negative/': 0, 'MURA-v1.1/valid/XR_WRIST/patient11334/study1_negative/': 0, 'MURA-v1.1/valid/XR_WRIST/patient11335/study1_negative/': 0, 'MURA-v1.1/valid/XR_WRIST/patient11336/study1_negative/': 0, 'MURA-v1.1/valid/XR_WRIST/patient11337/study1_negative/': 0, 'MURA-v1.1/valid/XR_WRIST/patient11338/study1_negative/': 0, 'MURA-v1.1/valid/XR_WRIST/patient11339/study1_negative/': 0, 'MURA-v1.1/valid/XR_WRIST/patient11340/study1_negative/': 0, 'MURA-v1.1/valid/XR_WRIST/patient11341/study1_negative/': 0, 'MURA-v1.1/valid/XR_WRIST/patient11342/study1_negative/': 0, 'MURA-v1.1/valid/XR_WRIST/patient11343/study1_negative/': 0, 'MURA-v1.1/valid/XR_WRIST/patient11344/study1_negative/': 0, 'MURA-v1.1/valid/XR_WRIST/patient11345/study1_negative/': 0, 'MURA-v1.1/valid/XR_WRIST/patient11346/study1_negative/': 0, 'MURA-v1.1/valid/XR_WRIST/patient11347/study1_negative/': 0, 'MURA-v1.1/valid/XR_WRIST/patient11347/study2_negative/': 0, 'MURA-v1.1/valid/XR_WRIST/patient11348/study1_negative/': 0, 'MURA-v1.1/valid/XR_WRIST/patient11348/study2_negative/': 0, 'MURA-v1.1/valid/XR_WRIST/patient11349/study1_negative/': 0, 'MURA-v1.1/valid/XR_WRIST/patient11350/study1_negative/': 0, 'MURA-v1.1/valid/XR_WRIST/patient11351/study1_negative/': 0, 'MURA-v1.1/valid/XR_WRIST/patient11352/study1_negative/': 0, 'MURA-v1.1/valid/XR_WRIST/patient11353/study1_negative/': 0, 'MURA-v1.1/valid/XR_WRIST/patient11354/study1_negative/': 0, 'MURA-v1.1/valid/XR_WRIST/patient11355/study1_negative/': 0, 'MURA-v1.1/valid/XR_WRIST/patient11356/study1_negative/': 0, 'MURA-v1.1/valid/XR_WRIST/patient11357/study1_negative/': 0, 'MURA-v1.1/valid/XR_WRIST/patient11358/study1_negative/': 0, 'MURA-v1.1/valid/XR_WRIST/patient11359/study1_negative/': 0, 'MURA-v1.1/valid/XR_WRIST/patient11360/study1_negative/': 0, 'MURA-v1.1/valid/XR_WRIST/patient11361/study1_negative/': 0, 'MURA-v1.1/valid/XR_WRIST/patient11362/study1_negative/': 0, 'MURA-v1.1/valid/XR_WRIST/patient11363/study1_negative/': 0, 'MURA-v1.1/valid/XR_WRIST/patient11364/study1_negative/': 0, 'MURA-v1.1/valid/XR_WRIST/patient11365/study1_negative/': 0, 'MURA-v1.1/valid/XR_WRIST/patient11366/study1_negative/': 0, 'MURA-v1.1/valid/XR_WRIST/patient11367/study1_negative/': 0, 'MURA-v1.1/valid/XR_WRIST/patient11368/study1_negative/': 0, 'MURA-v1.1/valid/XR_WRIST/patient11369/study1_negative/': 0, 'MURA-v1.1/valid/XR_WRIST/patient11370/study1_negative/': 0, 'MURA-v1.1/valid/XR_WRIST/patient11371/study1_negative/': 0, 'MURA-v1.1/valid/XR_WRIST/patient11372/study1_negative/': 0, 'MURA-v1.1/valid/XR_WRIST/patient11373/study1_negative/': 0, 'MURA-v1.1/valid/XR_WRIST/patient11374/study1_negative/': 0, 'MURA-v1.1/valid/XR_WRIST/patient11375/study1_negative/': 0, 'MURA-v1.1/valid/XR_WRIST/patient11376/study1_negative/': 0, 'MURA-v1.1/valid/XR_WRIST/patient11377/study1_negative/': 0, 'MURA-v1.1/valid/XR_WRIST/patient11378/study1_negative/': 0, 'MURA-v1.1/valid/XR_WRIST/patient11379/study1_negative/': 0, 'MURA-v1.1/valid/XR_WRIST/patient11380/study1_negative/': 0, 'MURA-v1.1/valid/XR_WRIST/patient11381/study1_negative/': 0, 'MURA-v1.1/valid/XR_WRIST/patient11382/study1_negative/': 0, 'MURA-v1.1/valid/XR_WRIST/patient11383/study1_negative/': 0, 'MURA-v1.1/valid/XR_WRIST/patient11384/study1_negative/': 0, 'MURA-v1.1/valid/XR_WRIST/patient11385/study1_negative/': 0, 'MURA-v1.1/valid/XR_WRIST/patient11386/study1_negative/': 0, 'MURA-v1.1/valid/XR_WRIST/patient11387/study1_negative/': 0, 'MURA-v1.1/valid/XR_WRIST/patient11388/study1_negative/': 0, 'MURA-v1.1/valid/XR_WRIST/patient11389/study1_negative/': 0, 'MURA-v1.1/valid/XR_WRIST/patient11390/study1_negative/': 0, 'MURA-v1.1/valid/XR_WRIST/patient11391/study1_negative/': 0, 'MURA-v1.1/valid/XR_FOREARM/patient11392/study1_positive/': 1, 'MURA-v1.1/valid/XR_FOREARM/patient11393/study1_positive/': 1, 'MURA-v1.1/valid/XR_FOREARM/patient11394/study1_positive/': 1, 'MURA-v1.1/valid/XR_FOREARM/patient11395/study1_positive/': 1, 'MURA-v1.1/valid/XR_FOREARM/patient11396/study1_positive/': 1, 'MURA-v1.1/valid/XR_FOREARM/patient11397/study1_positive/': 1, 'MURA-v1.1/valid/XR_FOREARM/patient11398/study1_positive/': 1, 'MURA-v1.1/valid/XR_FOREARM/patient11328/study1_positive/': 1, 'MURA-v1.1/valid/XR_FOREARM/patient11399/study1_positive/': 1, 'MURA-v1.1/valid/XR_FOREARM/patient11399/study2_negative/': 0, 'MURA-v1.1/valid/XR_FOREARM/patient11400/study1_positive/': 1, 'MURA-v1.1/valid/XR_FOREARM/patient11248/study1_positive/': 1, 'MURA-v1.1/valid/XR_FOREARM/patient11401/study1_positive/': 1, 'MURA-v1.1/valid/XR_FOREARM/patient11402/study1_positive/': 1, 'MURA-v1.1/valid/XR_FOREARM/patient11403/study1_positive/': 1, 'MURA-v1.1/valid/XR_FOREARM/patient11404/study1_positive/': 1, 'MURA-v1.1/valid/XR_FOREARM/patient11405/study1_positive/': 1, 'MURA-v1.1/valid/XR_FOREARM/patient11220/study1_positive/': 1, 'MURA-v1.1/valid/XR_FOREARM/patient11406/study1_positive/': 1, 'MURA-v1.1/valid/XR_FOREARM/patient11407/study1_positive/': 1, 'MURA-v1.1/valid/XR_FOREARM/patient11408/study1_positive/': 1, 'MURA-v1.1/valid/XR_FOREARM/patient11409/study1_positive/': 1, 'MURA-v1.1/valid/XR_FOREARM/patient11258/study1_positive/': 1, 'MURA-v1.1/valid/XR_FOREARM/patient11410/study1_positive/': 1, 'MURA-v1.1/valid/XR_FOREARM/patient11411/study1_positive/': 1, 'MURA-v1.1/valid/XR_FOREARM/patient11412/study1_positive/': 1, 'MURA-v1.1/valid/XR_FOREARM/patient11413/study1_positive/': 1, 'MURA-v1.1/valid/XR_FOREARM/patient11414/study1_positive/': 1, 'MURA-v1.1/valid/XR_FOREARM/patient11415/study1_positive/': 1, 'MURA-v1.1/valid/XR_FOREARM/patient11416/study1_positive/': 1, 'MURA-v1.1/valid/XR_FOREARM/patient11417/study1_positive/': 1, 'MURA-v1.1/valid/XR_FOREARM/patient11418/study1_positive/': 1, 'MURA-v1.1/valid/XR_FOREARM/patient11418/study2_positive/': 1, 'MURA-v1.1/valid/XR_FOREARM/patient11418/study3_negative/': 0, 'MURA-v1.1/valid/XR_FOREARM/patient11419/study1_positive/': 1, 'MURA-v1.1/valid/XR_FOREARM/patient11420/study1_positive/': 1, 'MURA-v1.1/valid/XR_FOREARM/patient11242/study1_positive/': 1, 'MURA-v1.1/valid/XR_FOREARM/patient11421/study1_positive/': 1, 'MURA-v1.1/valid/XR_FOREARM/patient11422/study1_positive/': 1, 'MURA-v1.1/valid/XR_FOREARM/patient11423/study1_positive/': 1, 'MURA-v1.1/valid/XR_FOREARM/patient11424/study1_positive/': 1, 'MURA-v1.1/valid/XR_FOREARM/patient11425/study1_positive/': 1, 'MURA-v1.1/valid/XR_FOREARM/patient11426/study1_positive/': 1, 'MURA-v1.1/valid/XR_FOREARM/patient11427/study1_positive/': 1, 'MURA-v1.1/valid/XR_FOREARM/patient11428/study1_positive/': 1, 'MURA-v1.1/valid/XR_FOREARM/patient11429/study1_positive/': 1, 'MURA-v1.1/valid/XR_FOREARM/patient11319/study1_positive/': 1, 'MURA-v1.1/valid/XR_FOREARM/patient11430/study1_positive/': 1, 'MURA-v1.1/valid/XR_FOREARM/patient11431/study1_positive/': 1, 'MURA-v1.1/valid/XR_FOREARM/patient11432/study1_positive/': 1, 'MURA-v1.1/valid/XR_FOREARM/patient11433/study1_positive/': 1, 'MURA-v1.1/valid/XR_FOREARM/patient11434/study1_positive/': 1, 'MURA-v1.1/valid/XR_FOREARM/patient11435/study1_positive/': 1, 'MURA-v1.1/valid/XR_FOREARM/patient11359/study1_positive/': 1, 'MURA-v1.1/valid/XR_FOREARM/patient11436/study1_positive/': 1, 'MURA-v1.1/valid/XR_FOREARM/patient11365/study1_positive/': 1, 'MURA-v1.1/valid/XR_FOREARM/patient11437/study1_positive/': 1, 'MURA-v1.1/valid/XR_FOREARM/patient11355/study1_positive/': 1, 'MURA-v1.1/valid/XR_FOREARM/patient11308/study1_positive/': 1, 'MURA-v1.1/valid/XR_FOREARM/patient11438/study1_positive/': 1, 'MURA-v1.1/valid/XR_FOREARM/patient11439/study1_positive/': 1, 'MURA-v1.1/valid/XR_FOREARM/patient11440/study1_positive/': 1, 'MURA-v1.1/valid/XR_FOREARM/patient11441/study1_positive/': 1, 'MURA-v1.1/valid/XR_FOREARM/patient11442/study1_positive/': 1, 'MURA-v1.1/valid/XR_FOREARM/patient11443/study1_positive/': 1, 'MURA-v1.1/valid/XR_FOREARM/patient11444/study1_positive/': 1, 'MURA-v1.1/valid/XR_FOREARM/patient11445/study1_negative/': 0, 'MURA-v1.1/valid/XR_FOREARM/patient11446/study1_negative/': 0, 'MURA-v1.1/valid/XR_FOREARM/patient11447/study1_negative/': 0, 'MURA-v1.1/valid/XR_FOREARM/patient11448/study1_negative/': 0, 'MURA-v1.1/valid/XR_FOREARM/patient11449/study1_negative/': 0, 'MURA-v1.1/valid/XR_FOREARM/patient11283/study1_negative/': 0, 'MURA-v1.1/valid/XR_FOREARM/patient11450/study1_negative/': 0, 'MURA-v1.1/valid/XR_FOREARM/patient11451/study1_negative/': 0, 'MURA-v1.1/valid/XR_FOREARM/patient11452/study1_negative/': 0, 'MURA-v1.1/valid/XR_FOREARM/patient11453/study1_negative/': 0, 'MURA-v1.1/valid/XR_FOREARM/patient11454/study1_negative/': 0, 'MURA-v1.1/valid/XR_FOREARM/patient11455/study1_negative/': 0, 'MURA-v1.1/valid/XR_FOREARM/patient11188/study1_negative/': 0, 'MURA-v1.1/valid/XR_FOREARM/patient11456/study1_negative/': 0, 'MURA-v1.1/valid/XR_FOREARM/patient11457/study1_negative/': 0, 'MURA-v1.1/valid/XR_FOREARM/patient11458/study1_negative/': 0, 'MURA-v1.1/valid/XR_FOREARM/patient11458/study2_negative/': 0, 'MURA-v1.1/valid/XR_FOREARM/patient11459/study1_negative/': 0, 'MURA-v1.1/valid/XR_FOREARM/patient11460/study1_negative/': 0, 'MURA-v1.1/valid/XR_FOREARM/patient11461/study1_negative/': 0, 'MURA-v1.1/valid/XR_FOREARM/patient11462/study1_negative/': 0, 'MURA-v1.1/valid/XR_FOREARM/patient11463/study1_negative/': 0, 'MURA-v1.1/valid/XR_FOREARM/patient11235/study1_negative/': 0, 'MURA-v1.1/valid/XR_FOREARM/patient11464/study1_negative/': 0, 'MURA-v1.1/valid/XR_FOREARM/patient11465/study1_negative/': 0, 'MURA-v1.1/valid/XR_FOREARM/patient11466/study1_negative/': 0, 'MURA-v1.1/valid/XR_FOREARM/patient11467/study1_negative/': 0, 'MURA-v1.1/valid/XR_FOREARM/patient11468/study1_negative/': 0, 'MURA-v1.1/valid/XR_FOREARM/patient11469/study1_negative/': 0, 'MURA-v1.1/valid/XR_FOREARM/patient11470/study1_negative/': 0, 'MURA-v1.1/valid/XR_FOREARM/patient11294/study1_negative/': 0, 'MURA-v1.1/valid/XR_FOREARM/patient11471/study1_negative/': 0, 'MURA-v1.1/valid/XR_FOREARM/patient11362/study1_negative/': 0, 'MURA-v1.1/valid/XR_FOREARM/patient11277/study1_negative/': 0, 'MURA-v1.1/valid/XR_FOREARM/patient11472/study1_negative/': 0, 'MURA-v1.1/valid/XR_FOREARM/patient11473/study1_negative/': 0, 'MURA-v1.1/valid/XR_FOREARM/patient11474/study1_negative/': 0, 'MURA-v1.1/valid/XR_FOREARM/patient11475/study1_negative/': 0, 'MURA-v1.1/valid/XR_FOREARM/patient11476/study1_negative/': 0, 'MURA-v1.1/valid/XR_FOREARM/patient11477/study1_negative/': 0, 'MURA-v1.1/valid/XR_FOREARM/patient11324/study1_negative/': 0, 'MURA-v1.1/valid/XR_FOREARM/patient11478/study1_negative/': 0, 'MURA-v1.1/valid/XR_FOREARM/patient11479/study1_negative/': 0, 'MURA-v1.1/valid/XR_FOREARM/patient11480/study1_negative/': 0, 'MURA-v1.1/valid/XR_FOREARM/patient11481/study1_negative/': 0, 'MURA-v1.1/valid/XR_FOREARM/patient11482/study1_negative/': 0, 'MURA-v1.1/valid/XR_FOREARM/patient11483/study1_negative/': 0, 'MURA-v1.1/valid/XR_FOREARM/patient11369/study1_negative/': 0, 'MURA-v1.1/valid/XR_FOREARM/patient11484/study1_negative/': 0, 'MURA-v1.1/valid/XR_FOREARM/patient11485/study1_negative/': 0, 'MURA-v1.1/valid/XR_FOREARM/patient11486/study1_negative/': 0, 'MURA-v1.1/valid/XR_FOREARM/patient11487/study1_negative/': 0, 'MURA-v1.1/valid/XR_FOREARM/patient11488/study1_negative/': 0, 'MURA-v1.1/valid/XR_FOREARM/patient11489/study1_negative/': 0, 'MURA-v1.1/valid/XR_FOREARM/patient11316/study1_negative/': 0, 'MURA-v1.1/valid/XR_FOREARM/patient11490/study1_negative/': 0, 'MURA-v1.1/valid/XR_FOREARM/patient11491/study1_negative/': 0, 'MURA-v1.1/valid/XR_FOREARM/patient11492/study1_negative/': 0, 'MURA-v1.1/valid/XR_FOREARM/patient11215/study1_negative/': 0, 'MURA-v1.1/valid/XR_FOREARM/patient11214/study1_negative/': 0, 'MURA-v1.1/valid/XR_FOREARM/patient11493/study1_negative/': 0, 'MURA-v1.1/valid/XR_FOREARM/patient11494/study1_negative/': 0, 'MURA-v1.1/valid/XR_FOREARM/patient11255/study1_negative/': 0, 'MURA-v1.1/valid/XR_FOREARM/patient11495/study1_negative/': 0, 'MURA-v1.1/valid/XR_FOREARM/patient11376/study1_negative/': 0, 'MURA-v1.1/valid/XR_FOREARM/patient11191/study1_negative/': 0, 'MURA-v1.1/valid/XR_FOREARM/patient11496/study1_negative/': 0, 'MURA-v1.1/valid/XR_HAND/patient11497/study1_positive/': 1, 'MURA-v1.1/valid/XR_HAND/patient11498/study1_positive/': 1, 'MURA-v1.1/valid/XR_HAND/patient11499/study1_positive/': 1, 'MURA-v1.1/valid/XR_HAND/patient11500/study1_positive/': 1, 'MURA-v1.1/valid/XR_HAND/patient11501/study1_positive/': 1, 'MURA-v1.1/valid/XR_HAND/patient11502/study1_positive/': 1, 'MURA-v1.1/valid/XR_HAND/patient11503/study1_positive/': 1, 'MURA-v1.1/valid/XR_HAND/patient11504/study1_positive/': 1, 'MURA-v1.1/valid/XR_HAND/patient11505/study1_positive/': 1, 'MURA-v1.1/valid/XR_HAND/patient11506/study1_positive/': 1, 'MURA-v1.1/valid/XR_HAND/patient11507/study1_positive/': 1, 'MURA-v1.1/valid/XR_HAND/patient11508/study1_positive/': 1, 'MURA-v1.1/valid/XR_HAND/patient11509/study1_positive/': 1, 'MURA-v1.1/valid/XR_HAND/patient11247/study1_positive/': 1, 'MURA-v1.1/valid/XR_HAND/patient11356/study1_positive/': 1, 'MURA-v1.1/valid/XR_HAND/patient11510/study1_positive/': 1, 'MURA-v1.1/valid/XR_HAND/patient11511/study1_positive/': 1, 'MURA-v1.1/valid/XR_HAND/patient11512/study1_positive/': 1, 'MURA-v1.1/valid/XR_HAND/patient11513/study1_positive/': 1, 'MURA-v1.1/valid/XR_HAND/patient11514/study1_positive/': 1, 'MURA-v1.1/valid/XR_HAND/patient11515/study1_positive/': 1, 'MURA-v1.1/valid/XR_HAND/patient11516/study1_positive/': 1, 'MURA-v1.1/valid/XR_HAND/patient11275/study1_positive/': 1, 'MURA-v1.1/valid/XR_HAND/patient11517/study1_positive/': 1, 'MURA-v1.1/valid/XR_HAND/patient11518/study1_positive/': 1, 'MURA-v1.1/valid/XR_HAND/patient11519/study1_positive/': 1, 'MURA-v1.1/valid/XR_HAND/patient11520/study1_positive/': 1, 'MURA-v1.1/valid/XR_HAND/patient11336/study1_positive/': 1, 'MURA-v1.1/valid/XR_HAND/patient11521/study1_positive/': 1, 'MURA-v1.1/valid/XR_HAND/patient11522/study1_positive/': 1, 'MURA-v1.1/valid/XR_HAND/patient11523/study1_positive/': 1, 'MURA-v1.1/valid/XR_HAND/patient11523/study2_negative/': 0, 'MURA-v1.1/valid/XR_HAND/patient11524/study1_positive/': 1, 'MURA-v1.1/valid/XR_HAND/patient11524/study2_negative/': 0, 'MURA-v1.1/valid/XR_HAND/patient11525/study1_positive/': 1, 'MURA-v1.1/valid/XR_HAND/patient11333/study1_positive/': 1, 'MURA-v1.1/valid/XR_HAND/patient11526/study1_positive/': 1, 'MURA-v1.1/valid/XR_HAND/patient11527/study1_positive/': 1, 'MURA-v1.1/valid/XR_HAND/patient11319/study1_positive/': 1, 'MURA-v1.1/valid/XR_HAND/patient11304/study1_positive/': 1, 'MURA-v1.1/valid/XR_HAND/patient11238/study1_positive/': 1, 'MURA-v1.1/valid/XR_HAND/patient11528/study1_positive/': 1, 'MURA-v1.1/valid/XR_HAND/patient11529/study1_positive/': 1, 'MURA-v1.1/valid/XR_HAND/patient11216/study1_positive/': 1, 'MURA-v1.1/valid/XR_HAND/patient11530/study1_positive/': 1, 'MURA-v1.1/valid/XR_HAND/patient11234/study1_positive/': 1, 'MURA-v1.1/valid/XR_HAND/patient11531/study1_positive/': 1, 'MURA-v1.1/valid/XR_HAND/patient11532/study1_positive/': 1, 'MURA-v1.1/valid/XR_HAND/patient11194/study1_positive/': 1, 'MURA-v1.1/valid/XR_HAND/patient11382/study1_positive/': 1, 'MURA-v1.1/valid/XR_HAND/patient11382/study2_negative/': 0, 'MURA-v1.1/valid/XR_HAND/patient11533/study1_positive/': 1, 'MURA-v1.1/valid/XR_HAND/patient11429/study1_positive/': 1, 'MURA-v1.1/valid/XR_HAND/patient11534/study1_positive/': 1, 'MURA-v1.1/valid/XR_HAND/patient11535/study1_positive/': 1, 'MURA-v1.1/valid/XR_HAND/patient11536/study1_positive/': 1, 'MURA-v1.1/valid/XR_HAND/patient11537/study1_positive/': 1, 'MURA-v1.1/valid/XR_HAND/patient11538/study1_positive/': 1, 'MURA-v1.1/valid/XR_HAND/patient11539/study1_positive/': 1, 'MURA-v1.1/valid/XR_HAND/patient11540/study1_positive/': 1, 'MURA-v1.1/valid/XR_HAND/patient11541/study1_positive/': 1, 'MURA-v1.1/valid/XR_HAND/patient11269/study1_positive/': 1, 'MURA-v1.1/valid/XR_HAND/patient11542/study1_positive/': 1, 'MURA-v1.1/valid/XR_HAND/patient11389/study1_positive/': 1, 'MURA-v1.1/valid/XR_HAND/patient11543/study1_positive/': 1, 'MURA-v1.1/valid/XR_HAND/patient11544/study1_positive/': 1, 'MURA-v1.1/valid/XR_HAND/patient11545/study1_positive/': 1, 'MURA-v1.1/valid/XR_HAND/patient11546/study1_positive/': 1, 'MURA-v1.1/valid/XR_HAND/patient11547/study1_positive/': 1, 'MURA-v1.1/valid/XR_HAND/patient11548/study1_negative/': 0, 'MURA-v1.1/valid/XR_HAND/patient11413/study1_negative/': 0, 'MURA-v1.1/valid/XR_HAND/patient11549/study1_negative/': 0, 'MURA-v1.1/valid/XR_HAND/patient11550/study1_negative/': 0, 'MURA-v1.1/valid/XR_HAND/patient11551/study1_negative/': 0, 'MURA-v1.1/valid/XR_HAND/patient11552/study1_negative/': 0, 'MURA-v1.1/valid/XR_HAND/patient11553/study1_negative/': 0, 'MURA-v1.1/valid/XR_HAND/patient11484/study1_negative/': 0, 'MURA-v1.1/valid/XR_HAND/patient11255/study1_negative/': 0, 'MURA-v1.1/valid/XR_HAND/patient11255/study2_negative/': 0, 'MURA-v1.1/valid/XR_HAND/patient11554/study1_negative/': 0, 'MURA-v1.1/valid/XR_HAND/patient11212/study1_negative/': 0, 'MURA-v1.1/valid/XR_HAND/patient11555/study1_negative/': 0, 'MURA-v1.1/valid/XR_HAND/patient11556/study1_negative/': 0, 'MURA-v1.1/valid/XR_HAND/patient11557/study1_negative/': 0, 'MURA-v1.1/valid/XR_HAND/patient11495/study1_negative/': 0, 'MURA-v1.1/valid/XR_HAND/patient11558/study1_negative/': 0, 'MURA-v1.1/valid/XR_HAND/patient11348/study1_negative/': 0, 'MURA-v1.1/valid/XR_HAND/patient11559/study1_negative/': 0, 'MURA-v1.1/valid/XR_HAND/patient11386/study1_negative/': 0, 'MURA-v1.1/valid/XR_HAND/patient11300/study1_negative/': 0, 'MURA-v1.1/valid/XR_HAND/patient11560/study1_negative/': 0, 'MURA-v1.1/valid/XR_HAND/patient11561/study1_negative/': 0, 'MURA-v1.1/valid/XR_HAND/patient11562/study1_negative/': 0, 'MURA-v1.1/valid/XR_HAND/patient11563/study1_negative/': 0, 'MURA-v1.1/valid/XR_HAND/patient11460/study1_negative/': 0, 'MURA-v1.1/valid/XR_HAND/patient11408/study1_negative/': 0, 'MURA-v1.1/valid/XR_HAND/patient11564/study1_negative/': 0, 'MURA-v1.1/valid/XR_HAND/patient11565/study1_negative/': 0, 'MURA-v1.1/valid/XR_HAND/patient11566/study1_negative/': 0, 'MURA-v1.1/valid/XR_HAND/patient11567/study1_negative/': 0, 'MURA-v1.1/valid/XR_HAND/patient11568/study1_negative/': 0, 'MURA-v1.1/valid/XR_HAND/patient11435/study1_negative/': 0, 'MURA-v1.1/valid/XR_HAND/patient11569/study1_negative/': 0, 'MURA-v1.1/valid/XR_HAND/patient11570/study1_negative/': 0, 'MURA-v1.1/valid/XR_HAND/patient11571/study1_negative/': 0, 'MURA-v1.1/valid/XR_HAND/patient11572/study1_negative/': 0, 'MURA-v1.1/valid/XR_HAND/patient11573/study1_negative/': 0, 'MURA-v1.1/valid/XR_HAND/patient11483/study1_negative/': 0, 'MURA-v1.1/valid/XR_HAND/patient11218/study1_negative/': 0, 'MURA-v1.1/valid/XR_HAND/patient11218/study2_negative/': 0, 'MURA-v1.1/valid/XR_HAND/patient11218/study3_negative/': 0, 'MURA-v1.1/valid/XR_HAND/patient11574/study1_negative/': 0, 'MURA-v1.1/valid/XR_HAND/patient11575/study1_negative/': 0, 'MURA-v1.1/valid/XR_HAND/patient11235/study1_negative/': 0, 'MURA-v1.1/valid/XR_HAND/patient11313/study1_negative/': 0, 'MURA-v1.1/valid/XR_HAND/patient11576/study1_negative/': 0, 'MURA-v1.1/valid/XR_HAND/patient11577/study1_negative/': 0, 'MURA-v1.1/valid/XR_HAND/patient11422/study1_negative/': 0, 'MURA-v1.1/valid/XR_HAND/patient11578/study1_negative/': 0, 'MURA-v1.1/valid/XR_HAND/patient11579/study1_negative/': 0, 'MURA-v1.1/valid/XR_HAND/patient11240/study1_negative/': 0, 'MURA-v1.1/valid/XR_HAND/patient11580/study1_negative/': 0, 'MURA-v1.1/valid/XR_HAND/patient11581/study1_negative/': 0, 'MURA-v1.1/valid/XR_HAND/patient11192/study1_negative/': 0, 'MURA-v1.1/valid/XR_HAND/patient11582/study1_negative/': 0, 'MURA-v1.1/valid/XR_HAND/patient11583/study1_negative/': 0, 'MURA-v1.1/valid/XR_HAND/patient11406/study1_negative/': 0, 'MURA-v1.1/valid/XR_HAND/patient11584/study1_negative/': 0, 'MURA-v1.1/valid/XR_HAND/patient11585/study1_negative/': 0, 'MURA-v1.1/valid/XR_HAND/patient11420/study1_negative/': 0, 'MURA-v1.1/valid/XR_HAND/patient11586/study1_negative/': 0, 'MURA-v1.1/valid/XR_HAND/patient11337/study1_negative/': 0, 'MURA-v1.1/valid/XR_HAND/patient11587/study1_negative/': 0, 'MURA-v1.1/valid/XR_HAND/patient11190/study1_negative/': 0, 'MURA-v1.1/valid/XR_HAND/patient11190/study2_negative/': 0, 'MURA-v1.1/valid/XR_HAND/patient11588/study1_negative/': 0, 'MURA-v1.1/valid/XR_HAND/patient11589/study1_negative/': 0, 'MURA-v1.1/valid/XR_HAND/patient11590/study1_negative/': 0, 'MURA-v1.1/valid/XR_HAND/patient11591/study1_negative/': 0, 'MURA-v1.1/valid/XR_HAND/patient11592/study1_negative/': 0, 'MURA-v1.1/valid/XR_HAND/patient11325/study1_negative/': 0, 'MURA-v1.1/valid/XR_HAND/patient11593/study1_negative/': 0, 'MURA-v1.1/valid/XR_HAND/patient11594/study1_negative/': 0, 'MURA-v1.1/valid/XR_HAND/patient11302/study1_negative/': 0, 'MURA-v1.1/valid/XR_HAND/patient11595/study1_negative/': 0, 'MURA-v1.1/valid/XR_HAND/patient11365/study1_negative/': 0, 'MURA-v1.1/valid/XR_HAND/patient11283/study1_negative/': 0, 'MURA-v1.1/valid/XR_HAND/patient11596/study1_negative/': 0, 'MURA-v1.1/valid/XR_HAND/patient11403/study1_negative/': 0, 'MURA-v1.1/valid/XR_HAND/patient11597/study1_negative/': 0, 'MURA-v1.1/valid/XR_HAND/patient11293/study1_negative/': 0, 'MURA-v1.1/valid/XR_HAND/patient11267/study1_negative/': 0, 'MURA-v1.1/valid/XR_HAND/patient11598/study1_negative/': 0, 'MURA-v1.1/valid/XR_HAND/patient11357/study1_negative/': 0, 'MURA-v1.1/valid/XR_HAND/patient11599/study1_negative/': 0, 'MURA-v1.1/valid/XR_HAND/patient11600/study1_negative/': 0, 'MURA-v1.1/valid/XR_HAND/patient11601/study1_negative/': 0, 'MURA-v1.1/valid/XR_HAND/patient11602/study1_negative/': 0, 'MURA-v1.1/valid/XR_HAND/patient11603/study1_negative/': 0, 'MURA-v1.1/valid/XR_HAND/patient11603/study2_negative/': 0, 'MURA-v1.1/valid/XR_HAND/patient11461/study1_negative/': 0, 'MURA-v1.1/valid/XR_HAND/patient11604/study1_negative/': 0, 'MURA-v1.1/valid/XR_HAND/patient11371/study1_negative/': 0, 'MURA-v1.1/valid/XR_HAND/patient11605/study1_negative/': 0, 'MURA-v1.1/valid/XR_HAND/patient11282/study1_negative/': 0, 'MURA-v1.1/valid/XR_HAND/patient11606/study1_negative/': 0, 'MURA-v1.1/valid/XR_HAND/patient11607/study1_negative/': 0, 'MURA-v1.1/valid/XR_HUMERUS/patient11608/study1_positive/': 1, 'MURA-v1.1/valid/XR_HUMERUS/patient11214/study1_positive/': 1, 'MURA-v1.1/valid/XR_HUMERUS/patient11609/study1_positive/': 1, 'MURA-v1.1/valid/XR_HUMERUS/patient11610/study1_positive/': 1, 'MURA-v1.1/valid/XR_HUMERUS/patient11611/study1_positive/': 1, 'MURA-v1.1/valid/XR_HUMERUS/patient11391/study1_positive/': 1, 'MURA-v1.1/valid/XR_HUMERUS/patient11612/study1_positive/': 1, 'MURA-v1.1/valid/XR_HUMERUS/patient11613/study1_positive/': 1, 'MURA-v1.1/valid/XR_HUMERUS/patient11614/study1_positive/': 1, 'MURA-v1.1/valid/XR_HUMERUS/patient11248/study1_positive/': 1, 'MURA-v1.1/valid/XR_HUMERUS/patient11485/study1_positive/': 1, 'MURA-v1.1/valid/XR_HUMERUS/patient11186/study1_positive/': 1, 'MURA-v1.1/valid/XR_HUMERUS/patient11615/study1_positive/': 1, 'MURA-v1.1/valid/XR_HUMERUS/patient11616/study1_positive/': 1, 'MURA-v1.1/valid/XR_HUMERUS/patient11617/study1_positive/': 1, 'MURA-v1.1/valid/XR_HUMERUS/patient11618/study1_positive/': 1, 'MURA-v1.1/valid/XR_HUMERUS/patient11619/study1_positive/': 1, 'MURA-v1.1/valid/XR_HUMERUS/patient11620/study1_positive/': 1, 'MURA-v1.1/valid/XR_HUMERUS/patient11621/study1_positive/': 1, 'MURA-v1.1/valid/XR_HUMERUS/patient11231/study1_positive/': 1, 'MURA-v1.1/valid/XR_HUMERUS/patient11622/study1_positive/': 1, 'MURA-v1.1/valid/XR_HUMERUS/patient11623/study1_positive/': 1, 'MURA-v1.1/valid/XR_HUMERUS/patient11624/study1_positive/': 1, 'MURA-v1.1/valid/XR_HUMERUS/patient11625/study1_positive/': 1, 'MURA-v1.1/valid/XR_HUMERUS/patient11626/study1_positive/': 1, 'MURA-v1.1/valid/XR_HUMERUS/patient11627/study1_positive/': 1, 'MURA-v1.1/valid/XR_HUMERUS/patient11628/study1_positive/': 1, 'MURA-v1.1/valid/XR_HUMERUS/patient11629/study1_positive/': 1, 'MURA-v1.1/valid/XR_HUMERUS/patient11630/study1_positive/': 1, 'MURA-v1.1/valid/XR_HUMERUS/patient11631/study1_positive/': 1, 'MURA-v1.1/valid/XR_HUMERUS/patient11632/study1_positive/': 1, 'MURA-v1.1/valid/XR_HUMERUS/patient11633/study1_positive/': 1, 'MURA-v1.1/valid/XR_HUMERUS/patient11634/study1_positive/': 1, 'MURA-v1.1/valid/XR_HUMERUS/patient11635/study1_positive/': 1, 'MURA-v1.1/valid/XR_HUMERUS/patient11556/study1_positive/': 1, 'MURA-v1.1/valid/XR_HUMERUS/patient11414/study1_positive/': 1, 'MURA-v1.1/valid/XR_HUMERUS/patient11636/study1_positive/': 1, 'MURA-v1.1/valid/XR_HUMERUS/patient11637/study1_positive/': 1, 'MURA-v1.1/valid/XR_HUMERUS/patient11638/study1_positive/': 1, 'MURA-v1.1/valid/XR_HUMERUS/patient11313/study1_positive/': 1, 'MURA-v1.1/valid/XR_HUMERUS/patient11639/study1_positive/': 1, 'MURA-v1.1/valid/XR_HUMERUS/patient11640/study1_positive/': 1, 'MURA-v1.1/valid/XR_HUMERUS/patient11641/study1_positive/': 1, 'MURA-v1.1/valid/XR_HUMERUS/patient11641/study2_positive/': 1, 'MURA-v1.1/valid/XR_HUMERUS/patient11642/study1_positive/': 1, 'MURA-v1.1/valid/XR_HUMERUS/patient11643/study1_positive/': 1, 'MURA-v1.1/valid/XR_HUMERUS/patient11644/study1_positive/': 1, 'MURA-v1.1/valid/XR_HUMERUS/patient11645/study1_positive/': 1, 'MURA-v1.1/valid/XR_HUMERUS/patient11646/study1_positive/': 1, 'MURA-v1.1/valid/XR_HUMERUS/patient11647/study1_positive/': 1, 'MURA-v1.1/valid/XR_HUMERUS/patient11311/study1_positive/': 1, 'MURA-v1.1/valid/XR_HUMERUS/patient11227/study1_positive/': 1, 'MURA-v1.1/valid/XR_HUMERUS/patient11648/study1_positive/': 1, 'MURA-v1.1/valid/XR_HUMERUS/patient11649/study1_positive/': 1, 'MURA-v1.1/valid/XR_HUMERUS/patient11650/study1_positive/': 1, 'MURA-v1.1/valid/XR_HUMERUS/patient11651/study1_positive/': 1, 'MURA-v1.1/valid/XR_HUMERUS/patient11652/study1_positive/': 1, 'MURA-v1.1/valid/XR_HUMERUS/patient11653/study1_positive/': 1, 'MURA-v1.1/valid/XR_HUMERUS/patient11654/study1_positive/': 1, 'MURA-v1.1/valid/XR_HUMERUS/patient11655/study1_positive/': 1, 'MURA-v1.1/valid/XR_HUMERUS/patient11352/study1_positive/': 1, 'MURA-v1.1/valid/XR_HUMERUS/patient11656/study1_positive/': 1, 'MURA-v1.1/valid/XR_HUMERUS/patient11657/study1_positive/': 1, 'MURA-v1.1/valid/XR_HUMERUS/patient11658/study1_positive/': 1, 'MURA-v1.1/valid/XR_HUMERUS/patient11411/study1_positive/': 1, 'MURA-v1.1/valid/XR_HUMERUS/patient11659/study1_positive/': 1, 'MURA-v1.1/valid/XR_HUMERUS/patient11346/study1_positive/': 1, 'MURA-v1.1/valid/XR_HUMERUS/patient11257/study1_negative/': 0, 'MURA-v1.1/valid/XR_HUMERUS/patient11660/study1_negative/': 0, 'MURA-v1.1/valid/XR_HUMERUS/patient11661/study1_negative/': 0, 'MURA-v1.1/valid/XR_HUMERUS/patient11662/study1_negative/': 0, 'MURA-v1.1/valid/XR_HUMERUS/patient11663/study1_negative/': 0, 'MURA-v1.1/valid/XR_HUMERUS/patient11664/study1_negative/': 0, 'MURA-v1.1/valid/XR_HUMERUS/patient11665/study1_negative/': 0, 'MURA-v1.1/valid/XR_HUMERUS/patient11331/study1_negative/': 0, 'MURA-v1.1/valid/XR_HUMERUS/patient11331/study2_negative/': 0, 'MURA-v1.1/valid/XR_HUMERUS/patient11221/study1_negative/': 0, 'MURA-v1.1/valid/XR_HUMERUS/patient11666/study1_negative/': 0, 'MURA-v1.1/valid/XR_HUMERUS/patient11321/study1_negative/': 0, 'MURA-v1.1/valid/XR_HUMERUS/patient11216/study1_negative/': 0, 'MURA-v1.1/valid/XR_HUMERUS/patient11667/study1_negative/': 0, 'MURA-v1.1/valid/XR_HUMERUS/patient11550/study1_negative/': 0, 'MURA-v1.1/valid/XR_HUMERUS/patient11668/study1_negative/': 0, 'MURA-v1.1/valid/XR_HUMERUS/patient11669/study1_negative/': 0, 'MURA-v1.1/valid/XR_HUMERUS/patient11670/study1_negative/': 0, 'MURA-v1.1/valid/XR_HUMERUS/patient11671/study1_negative/': 0, 'MURA-v1.1/valid/XR_HUMERUS/patient11672/study1_negative/': 0, 'MURA-v1.1/valid/XR_HUMERUS/patient11673/study1_negative/': 0, 'MURA-v1.1/valid/XR_HUMERUS/patient11674/study1_negative/': 0, 'MURA-v1.1/valid/XR_HUMERUS/patient11675/study1_negative/': 0, 'MURA-v1.1/valid/XR_HUMERUS/patient11523/study1_negative/': 0, 'MURA-v1.1/valid/XR_HUMERUS/patient11676/study1_negative/': 0, 'MURA-v1.1/valid/XR_HUMERUS/patient11251/study1_negative/': 0, 'MURA-v1.1/valid/XR_HUMERUS/patient11579/study1_negative/': 0, 'MURA-v1.1/valid/XR_HUMERUS/patient11677/study1_negative/': 0, 'MURA-v1.1/valid/XR_HUMERUS/patient11678/study1_negative/': 0, 'MURA-v1.1/valid/XR_HUMERUS/patient11679/study1_negative/': 0, 'MURA-v1.1/valid/XR_HUMERUS/patient11289/study1_negative/': 0, 'MURA-v1.1/valid/XR_HUMERUS/patient11680/study1_negative/': 0, 'MURA-v1.1/valid/XR_HUMERUS/patient11577/study1_negative/': 0, 'MURA-v1.1/valid/XR_HUMERUS/patient11681/study1_negative/': 0, 'MURA-v1.1/valid/XR_HUMERUS/patient11200/study1_negative/': 0, 'MURA-v1.1/valid/XR_HUMERUS/patient11682/study1_negative/': 0, 'MURA-v1.1/valid/XR_HUMERUS/patient11683/study1_negative/': 0, 'MURA-v1.1/valid/XR_HUMERUS/patient11560/study1_negative/': 0, 'MURA-v1.1/valid/XR_HUMERUS/patient11459/study1_negative/': 0, 'MURA-v1.1/valid/XR_HUMERUS/patient11684/study1_negative/': 0, 'MURA-v1.1/valid/XR_HUMERUS/patient11685/study1_negative/': 0, 'MURA-v1.1/valid/XR_HUMERUS/patient11686/study1_negative/': 0, 'MURA-v1.1/valid/XR_HUMERUS/patient11393/study1_negative/': 0, 'MURA-v1.1/valid/XR_HUMERUS/patient11687/study1_negative/': 0, 'MURA-v1.1/valid/XR_HUMERUS/patient11688/study1_negative/': 0, 'MURA-v1.1/valid/XR_HUMERUS/patient11275/study1_negative/': 0, 'MURA-v1.1/valid/XR_HUMERUS/patient11689/study1_negative/': 0, 'MURA-v1.1/valid/XR_HUMERUS/patient11690/study1_negative/': 0, 'MURA-v1.1/valid/XR_HUMERUS/patient11691/study1_negative/': 0, 'MURA-v1.1/valid/XR_HUMERUS/patient11692/study1_negative/': 0, 'MURA-v1.1/valid/XR_HUMERUS/patient11693/study1_negative/': 0, 'MURA-v1.1/valid/XR_HUMERUS/patient11694/study1_negative/': 0, 'MURA-v1.1/valid/XR_HUMERUS/patient11378/study1_negative/': 0, 'MURA-v1.1/valid/XR_HUMERUS/patient11339/study1_negative/': 0, 'MURA-v1.1/valid/XR_HUMERUS/patient11340/study1_negative/': 0, 'MURA-v1.1/valid/XR_HUMERUS/patient11340/study2_negative/': 0, 'MURA-v1.1/valid/XR_HUMERUS/patient11584/study1_negative/': 0, 'MURA-v1.1/valid/XR_HUMERUS/patient11695/study1_negative/': 0, 'MURA-v1.1/valid/XR_HUMERUS/patient11396/study1_negative/': 0, 'MURA-v1.1/valid/XR_HUMERUS/patient11696/study1_negative/': 0, 'MURA-v1.1/valid/XR_HUMERUS/patient11353/study1_negative/': 0, 'MURA-v1.1/valid/XR_HUMERUS/patient11697/study1_negative/': 0, 'MURA-v1.1/valid/XR_HUMERUS/patient11698/study1_negative/': 0, 'MURA-v1.1/valid/XR_HUMERUS/patient11699/study1_negative/': 0, 'MURA-v1.1/valid/XR_HUMERUS/patient11700/study1_negative/': 0, 'MURA-v1.1/valid/XR_HUMERUS/patient11225/study1_negative/': 0, 'MURA-v1.1/valid/XR_HUMERUS/patient11701/study1_negative/': 0, 'MURA-v1.1/valid/XR_HUMERUS/patient11702/study1_negative/': 0, 'MURA-v1.1/valid/XR_SHOULDER/patient11676/study1_positive/': 1, 'MURA-v1.1/valid/XR_SHOULDER/patient11703/study1_positive/': 1, 'MURA-v1.1/valid/XR_SHOULDER/patient11344/study1_positive/': 1, 'MURA-v1.1/valid/XR_SHOULDER/patient11281/study1_positive/': 1, 'MURA-v1.1/valid/XR_SHOULDER/patient11368/study1_positive/': 1, 'MURA-v1.1/valid/XR_SHOULDER/patient11256/study1_positive/': 1, 'MURA-v1.1/valid/XR_SHOULDER/patient11301/study1_positive/': 1, 'MURA-v1.1/valid/XR_SHOULDER/patient11333/study1_positive/': 1, 'MURA-v1.1/valid/XR_SHOULDER/patient11704/study1_positive/': 1, 'MURA-v1.1/valid/XR_SHOULDER/patient11705/study1_positive/': 1, 'MURA-v1.1/valid/XR_SHOULDER/patient11283/study1_positive/': 1, 'MURA-v1.1/valid/XR_SHOULDER/patient11283/study2_negative/': 0, 'MURA-v1.1/valid/XR_SHOULDER/patient11601/study1_positive/': 1, 'MURA-v1.1/valid/XR_SHOULDER/patient11601/study2_negative/': 0, 'MURA-v1.1/valid/XR_SHOULDER/patient11706/study1_positive/': 1, 'MURA-v1.1/valid/XR_SHOULDER/patient11513/study1_positive/': 1, 'MURA-v1.1/valid/XR_SHOULDER/patient11513/study2_positive/': 1, 'MURA-v1.1/valid/XR_SHOULDER/patient11707/study1_positive/': 1, 'MURA-v1.1/valid/XR_SHOULDER/patient11707/study2_positive/': 1, 'MURA-v1.1/valid/XR_SHOULDER/patient11707/study3_negative/': 0, 'MURA-v1.1/valid/XR_SHOULDER/patient11569/study1_positive/': 1, 'MURA-v1.1/valid/XR_SHOULDER/patient11695/study1_positive/': 1, 'MURA-v1.1/valid/XR_SHOULDER/patient11578/study1_positive/': 1, 'MURA-v1.1/valid/XR_SHOULDER/patient11578/study2_positive/': 1, 'MURA-v1.1/valid/XR_SHOULDER/patient11263/study1_positive/': 1, 'MURA-v1.1/valid/XR_SHOULDER/patient11186/study1_positive/': 1, 'MURA-v1.1/valid/XR_SHOULDER/patient11708/study1_positive/': 1, 'MURA-v1.1/valid/XR_SHOULDER/patient11709/study1_positive/': 1, 'MURA-v1.1/valid/XR_SHOULDER/patient11709/study2_negative/': 0, 'MURA-v1.1/valid/XR_SHOULDER/patient11710/study1_positive/': 1, 'MURA-v1.1/valid/XR_SHOULDER/patient11711/study1_positive/': 1, 'MURA-v1.1/valid/XR_SHOULDER/patient11711/study2_negative/': 0, 'MURA-v1.1/valid/XR_SHOULDER/patient11712/study1_positive/': 1, 'MURA-v1.1/valid/XR_SHOULDER/patient11325/study1_positive/': 1, 'MURA-v1.1/valid/XR_SHOULDER/patient11380/study1_positive/': 1, 'MURA-v1.1/valid/XR_SHOULDER/patient11713/study1_positive/': 1, 'MURA-v1.1/valid/XR_SHOULDER/patient11713/study2_negative/': 0, 'MURA-v1.1/valid/XR_SHOULDER/patient11417/study1_positive/': 1, 'MURA-v1.1/valid/XR_SHOULDER/patient11417/study2_negative/': 0, 'MURA-v1.1/valid/XR_SHOULDER/patient11417/study3_negative/': 0, 'MURA-v1.1/valid/XR_SHOULDER/patient11317/study1_positive/': 1, 'MURA-v1.1/valid/XR_SHOULDER/patient11714/study1_positive/': 1, 'MURA-v1.1/valid/XR_SHOULDER/patient11715/study1_positive/': 1, 'MURA-v1.1/valid/XR_SHOULDER/patient11454/study1_positive/': 1, 'MURA-v1.1/valid/XR_SHOULDER/patient11716/study1_positive/': 1, 'MURA-v1.1/valid/XR_SHOULDER/patient11717/study1_positive/': 1, 'MURA-v1.1/valid/XR_SHOULDER/patient11718/study1_positive/': 1, 'MURA-v1.1/valid/XR_SHOULDER/patient11719/study1_positive/': 1, 'MURA-v1.1/valid/XR_SHOULDER/patient11720/study1_positive/': 1, 'MURA-v1.1/valid/XR_SHOULDER/patient11300/study1_positive/': 1, 'MURA-v1.1/valid/XR_SHOULDER/patient11300/study2_positive/': 1, 'MURA-v1.1/valid/XR_SHOULDER/patient11300/study3_negative/': 0, 'MURA-v1.1/valid/XR_SHOULDER/patient11721/study1_positive/': 1, 'MURA-v1.1/valid/XR_SHOULDER/patient11245/study1_positive/': 1, 'MURA-v1.1/valid/XR_SHOULDER/patient11549/study1_positive/': 1, 'MURA-v1.1/valid/XR_SHOULDER/patient11722/study1_positive/': 1, 'MURA-v1.1/valid/XR_SHOULDER/patient11723/study1_positive/': 1, 'MURA-v1.1/valid/XR_SHOULDER/patient11724/study1_positive/': 1, 'MURA-v1.1/valid/XR_SHOULDER/patient11485/study1_positive/': 1, 'MURA-v1.1/valid/XR_SHOULDER/patient11485/study2_negative/': 0, 'MURA-v1.1/valid/XR_SHOULDER/patient11725/study1_positive/': 1, 'MURA-v1.1/valid/XR_SHOULDER/patient11362/study1_positive/': 1, 'MURA-v1.1/valid/XR_SHOULDER/patient11726/study1_positive/': 1, 'MURA-v1.1/valid/XR_SHOULDER/patient11727/study1_positive/': 1, 'MURA-v1.1/valid/XR_SHOULDER/patient11728/study1_positive/': 1, 'MURA-v1.1/valid/XR_SHOULDER/patient11195/study1_positive/': 1, 'MURA-v1.1/valid/XR_SHOULDER/patient11729/study1_positive/': 1, 'MURA-v1.1/valid/XR_SHOULDER/patient11213/study1_positive/': 1, 'MURA-v1.1/valid/XR_SHOULDER/patient11730/study1_positive/': 1, 'MURA-v1.1/valid/XR_SHOULDER/patient11731/study1_positive/': 1, 'MURA-v1.1/valid/XR_SHOULDER/patient11732/study1_positive/': 1, 'MURA-v1.1/valid/XR_SHOULDER/patient11313/study1_positive/': 1, 'MURA-v1.1/valid/XR_SHOULDER/patient11313/study2_negative/': 0, 'MURA-v1.1/valid/XR_SHOULDER/patient11257/study1_positive/': 1, 'MURA-v1.1/valid/XR_SHOULDER/patient11733/study1_positive/': 1, 'MURA-v1.1/valid/XR_SHOULDER/patient11734/study1_positive/': 1, 'MURA-v1.1/valid/XR_SHOULDER/patient11290/study1_positive/': 1, 'MURA-v1.1/valid/XR_SHOULDER/patient11290/study2_positive/': 1, 'MURA-v1.1/valid/XR_SHOULDER/patient11586/study1_positive/': 1, 'MURA-v1.1/valid/XR_SHOULDER/patient11735/study1_positive/': 1, 'MURA-v1.1/valid/XR_SHOULDER/patient11736/study1_positive/': 1, 'MURA-v1.1/valid/XR_SHOULDER/patient11736/study2_negative/': 0, 'MURA-v1.1/valid/XR_SHOULDER/patient11737/study1_positive/': 1, 'MURA-v1.1/valid/XR_SHOULDER/patient11292/study1_positive/': 1, 'MURA-v1.1/valid/XR_SHOULDER/patient11292/study2_negative/': 0, 'MURA-v1.1/valid/XR_SHOULDER/patient11738/study1_positive/': 1, 'MURA-v1.1/valid/XR_SHOULDER/patient11739/study1_positive/': 1, 'MURA-v1.1/valid/XR_SHOULDER/patient11563/study1_positive/': 1, 'MURA-v1.1/valid/XR_SHOULDER/patient11740/study1_positive/': 1, 'MURA-v1.1/valid/XR_SHOULDER/patient11741/study1_positive/': 1, 'MURA-v1.1/valid/XR_SHOULDER/patient11742/study1_positive/': 1, 'MURA-v1.1/valid/XR_SHOULDER/patient11188/study1_positive/': 1, 'MURA-v1.1/valid/XR_SHOULDER/patient11188/study2_positive/': 1, 'MURA-v1.1/valid/XR_SHOULDER/patient11743/study1_positive/': 1, 'MURA-v1.1/valid/XR_SHOULDER/patient11267/study1_positive/': 1, 'MURA-v1.1/valid/XR_SHOULDER/patient11267/study2_negative/': 0, 'MURA-v1.1/valid/XR_SHOULDER/patient11386/study1_positive/': 1, 'MURA-v1.1/valid/XR_SHOULDER/patient11518/study1_positive/': 1, 'MURA-v1.1/valid/XR_SHOULDER/patient11579/study1_positive/': 1, 'MURA-v1.1/valid/XR_SHOULDER/patient11744/study1_positive/': 1, 'MURA-v1.1/valid/XR_SHOULDER/patient11324/study1_positive/': 1, 'MURA-v1.1/valid/XR_SHOULDER/patient11745/study1_positive/': 1, 'MURA-v1.1/valid/XR_SHOULDER/patient11746/study1_positive/': 1, 'MURA-v1.1/valid/XR_SHOULDER/patient11747/study1_positive/': 1, 'MURA-v1.1/valid/XR_SHOULDER/patient11306/study1_positive/': 1, 'MURA-v1.1/valid/XR_SHOULDER/patient11748/study1_positive/': 1, 'MURA-v1.1/valid/XR_SHOULDER/patient11749/study1_positive/': 1, 'MURA-v1.1/valid/XR_SHOULDER/patient11750/study1_positive/': 1, 'MURA-v1.1/valid/XR_SHOULDER/patient11326/study1_positive/': 1, 'MURA-v1.1/valid/XR_SHOULDER/patient11751/study1_negative/': 0, 'MURA-v1.1/valid/XR_SHOULDER/patient11332/study1_negative/': 0, 'MURA-v1.1/valid/XR_SHOULDER/patient11752/study1_negative/': 0, 'MURA-v1.1/valid/XR_SHOULDER/patient11285/study1_negative/': 0, 'MURA-v1.1/valid/XR_SHOULDER/patient11753/study1_negative/': 0, 'MURA-v1.1/valid/XR_SHOULDER/patient11754/study1_negative/': 0, 'MURA-v1.1/valid/XR_SHOULDER/patient11755/study1_negative/': 0, 'MURA-v1.1/valid/XR_SHOULDER/patient11756/study1_negative/': 0, 'MURA-v1.1/valid/XR_SHOULDER/patient11757/study1_negative/': 0, 'MURA-v1.1/valid/XR_SHOULDER/patient11758/study1_negative/': 0, 'MURA-v1.1/valid/XR_SHOULDER/patient11662/study1_negative/': 0, 'MURA-v1.1/valid/XR_SHOULDER/patient11759/study1_negative/': 0, 'MURA-v1.1/valid/XR_SHOULDER/patient11760/study1_negative/': 0, 'MURA-v1.1/valid/XR_SHOULDER/patient11761/study1_negative/': 0, 'MURA-v1.1/valid/XR_SHOULDER/patient11236/study1_negative/': 0, 'MURA-v1.1/valid/XR_SHOULDER/patient11762/study1_negative/': 0, 'MURA-v1.1/valid/XR_SHOULDER/patient11763/study1_negative/': 0, 'MURA-v1.1/valid/XR_SHOULDER/patient11764/study1_negative/': 0, 'MURA-v1.1/valid/XR_SHOULDER/patient11765/study1_negative/': 0, 'MURA-v1.1/valid/XR_SHOULDER/patient11269/study1_negative/': 0, 'MURA-v1.1/valid/XR_SHOULDER/patient11766/study1_negative/': 0, 'MURA-v1.1/valid/XR_SHOULDER/patient11455/study1_negative/': 0, 'MURA-v1.1/valid/XR_SHOULDER/patient11767/study1_negative/': 0, 'MURA-v1.1/valid/XR_SHOULDER/patient11768/study1_negative/': 0, 'MURA-v1.1/valid/XR_SHOULDER/patient11769/study1_negative/': 0, 'MURA-v1.1/valid/XR_SHOULDER/patient11770/study1_negative/': 0, 'MURA-v1.1/valid/XR_SHOULDER/patient11771/study1_negative/': 0, 'MURA-v1.1/valid/XR_SHOULDER/patient11334/study1_negative/': 0, 'MURA-v1.1/valid/XR_SHOULDER/patient11204/study1_negative/': 0, 'MURA-v1.1/valid/XR_SHOULDER/patient11312/study1_negative/': 0, 'MURA-v1.1/valid/XR_SHOULDER/patient11772/study1_negative/': 0, 'MURA-v1.1/valid/XR_SHOULDER/patient11773/study1_negative/': 0, 'MURA-v1.1/valid/XR_SHOULDER/patient11338/study1_negative/': 0, 'MURA-v1.1/valid/XR_SHOULDER/patient11636/study1_negative/': 0, 'MURA-v1.1/valid/XR_SHOULDER/patient11774/study1_negative/': 0, 'MURA-v1.1/valid/XR_SHOULDER/patient11775/study1_negative/': 0, 'MURA-v1.1/valid/XR_SHOULDER/patient11776/study1_negative/': 0, 'MURA-v1.1/valid/XR_SHOULDER/patient11777/study1_negative/': 0, 'MURA-v1.1/valid/XR_SHOULDER/patient11357/study1_negative/': 0, 'MURA-v1.1/valid/XR_SHOULDER/patient11196/study1_negative/': 0, 'MURA-v1.1/valid/XR_SHOULDER/patient11356/study1_negative/': 0, 'MURA-v1.1/valid/XR_SHOULDER/patient11778/study1_negative/': 0, 'MURA-v1.1/valid/XR_SHOULDER/patient11779/study1_negative/': 0, 'MURA-v1.1/valid/XR_SHOULDER/patient11780/study1_negative/': 0, 'MURA-v1.1/valid/XR_SHOULDER/patient11781/study1_negative/': 0, 'MURA-v1.1/valid/XR_SHOULDER/patient11466/study1_negative/': 0, 'MURA-v1.1/valid/XR_SHOULDER/patient11782/study1_negative/': 0, 'MURA-v1.1/valid/XR_SHOULDER/patient11235/study1_negative/': 0, 'MURA-v1.1/valid/XR_SHOULDER/patient11550/study1_negative/': 0, 'MURA-v1.1/valid/XR_SHOULDER/patient11550/study2_negative/': 0, 'MURA-v1.1/valid/XR_SHOULDER/patient11783/study1_negative/': 0, 'MURA-v1.1/valid/XR_SHOULDER/patient11784/study1_negative/': 0, 'MURA-v1.1/valid/XR_SHOULDER/patient11785/study1_negative/': 0, 'MURA-v1.1/valid/XR_SHOULDER/patient11255/study1_negative/': 0, 'MURA-v1.1/valid/XR_SHOULDER/patient11348/study1_negative/': 0, 'MURA-v1.1/valid/XR_SHOULDER/patient11786/study1_negative/': 0, 'MURA-v1.1/valid/XR_SHOULDER/patient11439/study1_negative/': 0, 'MURA-v1.1/valid/XR_SHOULDER/patient11353/study1_negative/': 0, 'MURA-v1.1/valid/XR_SHOULDER/patient11787/study1_negative/': 0, 'MURA-v1.1/valid/XR_SHOULDER/patient11788/study1_negative/': 0, 'MURA-v1.1/valid/XR_SHOULDER/patient11557/study1_negative/': 0, 'MURA-v1.1/valid/XR_SHOULDER/patient11789/study1_negative/': 0, 'MURA-v1.1/valid/XR_SHOULDER/patient11790/study1_negative/': 0, 'MURA-v1.1/valid/XR_SHOULDER/patient11259/study1_negative/': 0, 'MURA-v1.1/valid/XR_SHOULDER/patient11261/study1_negative/': 0, 'MURA-v1.1/valid/XR_SHOULDER/patient11791/study1_negative/': 0, 'MURA-v1.1/valid/XR_SHOULDER/patient11792/study1_negative/': 0, 'MURA-v1.1/valid/XR_SHOULDER/patient11649/study1_negative/': 0, 'MURA-v1.1/valid/XR_SHOULDER/patient11793/study1_negative/': 0, 'MURA-v1.1/valid/XR_SHOULDER/patient11794/study1_negative/': 0, 'MURA-v1.1/valid/XR_SHOULDER/patient11399/study1_negative/': 0, 'MURA-v1.1/valid/XR_SHOULDER/patient11483/study1_negative/': 0, 'MURA-v1.1/valid/XR_SHOULDER/patient11342/study1_negative/': 0, 'MURA-v1.1/valid/XR_SHOULDER/patient11795/study1_negative/': 0, 'MURA-v1.1/valid/XR_SHOULDER/patient11187/study1_negative/': 0, 'MURA-v1.1/valid/XR_SHOULDER/patient11542/study1_negative/': 0, 'MURA-v1.1/valid/XR_SHOULDER/patient11351/study1_negative/': 0, 'MURA-v1.1/valid/XR_SHOULDER/patient11796/study1_negative/': 0, 'MURA-v1.1/valid/XR_SHOULDER/patient11797/study1_negative/': 0, 'MURA-v1.1/valid/XR_SHOULDER/patient11798/study1_negative/': 0, 'MURA-v1.1/valid/XR_SHOULDER/patient11799/study1_negative/': 0, 'MURA-v1.1/valid/XR_SHOULDER/patient11302/study1_negative/': 0, 'MURA-v1.1/valid/XR_SHOULDER/patient11800/study1_negative/': 0, 'MURA-v1.1/valid/XR_SHOULDER/patient11272/study1_negative/': 0, 'MURA-v1.1/valid/XR_SHOULDER/patient11801/study1_negative/': 0, 'MURA-v1.1/valid/XR_ELBOW/patient11659/study1_positive/': 1, 'MURA-v1.1/valid/XR_ELBOW/patient11802/study1_positive/': 1, 'MURA-v1.1/valid/XR_ELBOW/patient11803/study1_positive/': 1, 'MURA-v1.1/valid/XR_ELBOW/patient11804/study1_positive/': 1, 'MURA-v1.1/valid/XR_ELBOW/patient11805/study1_positive/': 1, 'MURA-v1.1/valid/XR_ELBOW/patient11414/study1_positive/': 1, 'MURA-v1.1/valid/XR_ELBOW/patient11186/study1_positive/': 1, 'MURA-v1.1/valid/XR_ELBOW/patient11806/study1_positive/': 1, 'MURA-v1.1/valid/XR_ELBOW/patient11807/study1_positive/': 1, 'MURA-v1.1/valid/XR_ELBOW/patient11793/study1_positive/': 1, 'MURA-v1.1/valid/XR_ELBOW/patient11358/study1_positive/': 1, 'MURA-v1.1/valid/XR_ELBOW/patient11417/study1_positive/': 1, 'MURA-v1.1/valid/XR_ELBOW/patient11417/study2_positive/': 1, 'MURA-v1.1/valid/XR_ELBOW/patient11586/study1_positive/': 1, 'MURA-v1.1/valid/XR_ELBOW/patient11389/study1_positive/': 1, 'MURA-v1.1/valid/XR_ELBOW/patient11808/study1_positive/': 1, 'MURA-v1.1/valid/XR_ELBOW/patient11342/study1_positive/': 1, 'MURA-v1.1/valid/XR_ELBOW/patient11603/study1_positive/': 1, 'MURA-v1.1/valid/XR_ELBOW/patient11809/study1_positive/': 1, 'MURA-v1.1/valid/XR_ELBOW/patient11810/study1_positive/': 1, 'MURA-v1.1/valid/XR_ELBOW/patient11811/study1_positive/': 1, 'MURA-v1.1/valid/XR_ELBOW/patient11812/study1_positive/': 1, 'MURA-v1.1/valid/XR_ELBOW/patient11189/study1_positive/': 1, 'MURA-v1.1/valid/XR_ELBOW/patient11780/study1_positive/': 1, 'MURA-v1.1/valid/XR_ELBOW/patient11813/study1_positive/': 1, 'MURA-v1.1/valid/XR_ELBOW/patient11472/study1_positive/': 1, 'MURA-v1.1/valid/XR_ELBOW/patient11326/study1_positive/': 1, 'MURA-v1.1/valid/XR_ELBOW/patient11814/study1_positive/': 1, 'MURA-v1.1/valid/XR_ELBOW/patient11390/study1_positive/': 1, 'MURA-v1.1/valid/XR_ELBOW/patient11390/study2_negative/': 0, 'MURA-v1.1/valid/XR_ELBOW/patient11264/study1_positive/': 1, 'MURA-v1.1/valid/XR_ELBOW/patient11815/study1_positive/': 1, 'MURA-v1.1/valid/XR_ELBOW/patient11816/study1_positive/': 1, 'MURA-v1.1/valid/XR_ELBOW/patient11817/study1_positive/': 1, 'MURA-v1.1/valid/XR_ELBOW/patient11818/study1_positive/': 1, 'MURA-v1.1/valid/XR_ELBOW/patient11819/study1_positive/': 1, 'MURA-v1.1/valid/XR_ELBOW/patient11820/study1_positive/': 1, 'MURA-v1.1/valid/XR_ELBOW/patient11821/study1_positive/': 1, 'MURA-v1.1/valid/XR_ELBOW/patient11764/study1_positive/': 1, 'MURA-v1.1/valid/XR_ELBOW/patient11312/study1_positive/': 1, 'MURA-v1.1/valid/XR_ELBOW/patient11430/study1_positive/': 1, 'MURA-v1.1/valid/XR_ELBOW/patient11822/study1_positive/': 1, 'MURA-v1.1/valid/XR_ELBOW/patient11823/study1_positive/': 1, 'MURA-v1.1/valid/XR_ELBOW/patient11824/study1_positive/': 1, 'MURA-v1.1/valid/XR_ELBOW/patient11824/study2_negative/': 0, 'MURA-v1.1/valid/XR_ELBOW/patient11825/study1_positive/': 1, 'MURA-v1.1/valid/XR_ELBOW/patient11756/study1_positive/': 1, 'MURA-v1.1/valid/XR_ELBOW/patient11826/study1_positive/': 1, 'MURA-v1.1/valid/XR_ELBOW/patient11827/study1_positive/': 1, 'MURA-v1.1/valid/XR_ELBOW/patient11827/study2_negative/': 0, 'MURA-v1.1/valid/XR_ELBOW/patient11828/study1_positive/': 1, 'MURA-v1.1/valid/XR_ELBOW/patient11829/study1_positive/': 1, 'MURA-v1.1/valid/XR_ELBOW/patient11830/study1_positive/': 1, 'MURA-v1.1/valid/XR_ELBOW/patient11236/study1_positive/': 1, 'MURA-v1.1/valid/XR_ELBOW/patient11831/study1_positive/': 1, 'MURA-v1.1/valid/XR_ELBOW/patient11832/study1_positive/': 1, 'MURA-v1.1/valid/XR_ELBOW/patient11833/study1_positive/': 1, 'MURA-v1.1/valid/XR_ELBOW/patient11834/study1_positive/': 1, 'MURA-v1.1/valid/XR_ELBOW/patient11835/study1_positive/': 1, 'MURA-v1.1/valid/XR_ELBOW/patient11836/study1_positive/': 1, 'MURA-v1.1/valid/XR_ELBOW/patient11837/study1_positive/': 1, 'MURA-v1.1/valid/XR_ELBOW/patient11838/study1_positive/': 1, 'MURA-v1.1/valid/XR_ELBOW/patient11421/study1_positive/': 1, 'MURA-v1.1/valid/XR_ELBOW/patient11839/study1_positive/': 1, 'MURA-v1.1/valid/XR_ELBOW/patient11840/study1_positive/': 1, 'MURA-v1.1/valid/XR_ELBOW/patient11841/study1_positive/': 1, 'MURA-v1.1/valid/XR_ELBOW/patient11842/study1_positive/': 1, 'MURA-v1.1/valid/XR_ELBOW/patient11843/study1_positive/': 1, 'MURA-v1.1/valid/XR_ELBOW/patient11844/study1_positive/': 1, 'MURA-v1.1/valid/XR_ELBOW/patient11243/study1_negative/': 0, 'MURA-v1.1/valid/XR_ELBOW/patient11736/study1_negative/': 0, 'MURA-v1.1/valid/XR_ELBOW/patient11651/study1_negative/': 0, 'MURA-v1.1/valid/XR_ELBOW/patient11345/study1_negative/': 0, 'MURA-v1.1/valid/XR_ELBOW/patient11845/study1_negative/': 0, 'MURA-v1.1/valid/XR_ELBOW/patient11846/study1_negative/': 0, 'MURA-v1.1/valid/XR_ELBOW/patient11847/study1_negative/': 0, 'MURA-v1.1/valid/XR_ELBOW/patient11534/study1_negative/': 0, 'MURA-v1.1/valid/XR_ELBOW/patient11848/study1_negative/': 0, 'MURA-v1.1/valid/XR_ELBOW/patient11773/study1_negative/': 0, 'MURA-v1.1/valid/XR_ELBOW/patient11849/study1_negative/': 0, 'MURA-v1.1/valid/XR_ELBOW/patient11850/study1_negative/': 0, 'MURA-v1.1/valid/XR_ELBOW/patient11569/study1_negative/': 0, 'MURA-v1.1/valid/XR_ELBOW/patient11606/study1_negative/': 0, 'MURA-v1.1/valid/XR_ELBOW/patient11851/study1_negative/': 0, 'MURA-v1.1/valid/XR_ELBOW/patient11851/study2_negative/': 0, 'MURA-v1.1/valid/XR_ELBOW/patient11563/study1_negative/': 0, 'MURA-v1.1/valid/XR_ELBOW/patient11204/study1_negative/': 0, 'MURA-v1.1/valid/XR_ELBOW/patient11222/study1_negative/': 0, 'MURA-v1.1/valid/XR_ELBOW/patient11852/study1_negative/': 0, 'MURA-v1.1/valid/XR_ELBOW/patient11238/study1_negative/': 0, 'MURA-v1.1/valid/XR_ELBOW/patient11673/study1_negative/': 0, 'MURA-v1.1/valid/XR_ELBOW/patient11853/study1_negative/': 0, 'MURA-v1.1/valid/XR_ELBOW/patient11854/study1_negative/': 0, 'MURA-v1.1/valid/XR_ELBOW/patient11443/study1_negative/': 0, 'MURA-v1.1/valid/XR_ELBOW/patient11855/study1_negative/': 0, 'MURA-v1.1/valid/XR_ELBOW/patient11375/study1_negative/': 0, 'MURA-v1.1/valid/XR_ELBOW/patient11466/study1_negative/': 0, 'MURA-v1.1/valid/XR_ELBOW/patient11349/study1_negative/': 0, 'MURA-v1.1/valid/XR_ELBOW/patient11856/study1_negative/': 0, 'MURA-v1.1/valid/XR_ELBOW/patient11478/study1_negative/': 0, 'MURA-v1.1/valid/XR_ELBOW/patient11857/study1_negative/': 0, 'MURA-v1.1/valid/XR_ELBOW/patient11763/study1_negative/': 0, 'MURA-v1.1/valid/XR_ELBOW/patient11568/study1_negative/': 0, 'MURA-v1.1/valid/XR_ELBOW/patient11287/study1_negative/': 0, 'MURA-v1.1/valid/XR_ELBOW/patient11711/study1_negative/': 0, 'MURA-v1.1/valid/XR_ELBOW/patient11858/study1_negative/': 0, 'MURA-v1.1/valid/XR_ELBOW/patient11859/study1_negative/': 0, 'MURA-v1.1/valid/XR_ELBOW/patient11860/study1_negative/': 0, 'MURA-v1.1/valid/XR_ELBOW/patient11282/study1_negative/': 0, 'MURA-v1.1/valid/XR_ELBOW/patient11317/study1_negative/': 0, 'MURA-v1.1/valid/XR_ELBOW/patient11536/study1_negative/': 0, 'MURA-v1.1/valid/XR_ELBOW/patient11861/study1_negative/': 0, 'MURA-v1.1/valid/XR_ELBOW/patient11588/study1_negative/': 0, 'MURA-v1.1/valid/XR_ELBOW/patient11247/study1_negative/': 0, 'MURA-v1.1/valid/XR_ELBOW/patient11724/study1_negative/': 0, 'MURA-v1.1/valid/XR_ELBOW/patient11862/study1_negative/': 0, 'MURA-v1.1/valid/XR_ELBOW/patient11259/study1_negative/': 0, 'MURA-v1.1/valid/XR_ELBOW/patient11402/study1_negative/': 0, 'MURA-v1.1/valid/XR_ELBOW/patient11235/study1_negative/': 0, 'MURA-v1.1/valid/XR_ELBOW/patient11783/study1_negative/': 0, 'MURA-v1.1/valid/XR_ELBOW/patient11582/study1_negative/': 0, 'MURA-v1.1/valid/XR_ELBOW/patient11863/study1_negative/': 0, 'MURA-v1.1/valid/XR_ELBOW/patient11338/study1_negative/': 0, 'MURA-v1.1/valid/XR_ELBOW/patient11338/study2_negative/': 0, 'MURA-v1.1/valid/XR_ELBOW/patient11864/study1_negative/': 0, 'MURA-v1.1/valid/XR_ELBOW/patient11865/study1_negative/': 0, 'MURA-v1.1/valid/XR_ELBOW/patient11866/study1_negative/': 0, 'MURA-v1.1/valid/XR_ELBOW/patient11495/study1_negative/': 0, 'MURA-v1.1/valid/XR_ELBOW/patient11867/study1_negative/': 0, 'MURA-v1.1/valid/XR_ELBOW/patient11775/study1_negative/': 0, 'MURA-v1.1/valid/XR_ELBOW/patient11283/study1_negative/': 0, 'MURA-v1.1/valid/XR_ELBOW/patient11868/study1_negative/': 0, 'MURA-v1.1/valid/XR_ELBOW/patient11262/study1_negative/': 0, 'MURA-v1.1/valid/XR_ELBOW/patient11869/study1_negative/': 0, 'MURA-v1.1/valid/XR_ELBOW/patient11408/study1_negative/': 0, 'MURA-v1.1/valid/XR_ELBOW/patient11777/study1_negative/': 0, 'MURA-v1.1/valid/XR_ELBOW/patient11708/study1_negative/': 0, 'MURA-v1.1/valid/XR_ELBOW/patient11870/study1_negative/': 0, 'MURA-v1.1/valid/XR_ELBOW/patient11871/study1_negative/': 0, 'MURA-v1.1/valid/XR_ELBOW/patient11388/study1_negative/': 0, 'MURA-v1.1/valid/XR_ELBOW/patient11872/study1_negative/': 0, 'MURA-v1.1/valid/XR_ELBOW/patient11873/study1_negative/': 0, 'MURA-v1.1/valid/XR_ELBOW/patient11874/study1_negative/': 0, 'MURA-v1.1/valid/XR_ELBOW/patient11372/study1_negative/': 0, 'MURA-v1.1/valid/XR_ELBOW/patient11875/study1_negative/': 0, 'MURA-v1.1/valid/XR_ELBOW/patient11876/study1_negative/': 0, 'MURA-v1.1/valid/XR_ELBOW/patient11523/study1_negative/': 0, 'MURA-v1.1/valid/XR_ELBOW/patient11877/study1_negative/': 0, 'MURA-v1.1/valid/XR_ELBOW/patient11878/study1_negative/': 0, 'MURA-v1.1/valid/XR_ELBOW/patient11368/study1_negative/': 0, 'MURA-v1.1/valid/XR_ELBOW/patient11521/study1_negative/': 0, 'MURA-v1.1/valid/XR_ELBOW/patient11797/study1_negative/': 0, 'MURA-v1.1/valid/XR_ELBOW/patient11879/study1_negative/': 0, 'MURA-v1.1/valid/XR_ELBOW/patient11217/study1_negative/': 0, 'MURA-v1.1/valid/XR_ELBOW/patient11880/study1_negative/': 0, 'MURA-v1.1/valid/XR_ELBOW/patient11205/study1_negative/': 0, 'MURA-v1.1/valid/XR_ELBOW/patient11881/study1_negative/': 0, 'MURA-v1.1/valid/XR_ELBOW/patient11334/study1_negative/': 0, 'MURA-v1.1/valid/XR_FINGER/patient11882/study1_positive/': 1, 'MURA-v1.1/valid/XR_FINGER/patient11883/study1_positive/': 1, 'MURA-v1.1/valid/XR_FINGER/patient11884/study1_positive/': 1, 'MURA-v1.1/valid/XR_FINGER/patient11885/study1_positive/': 1, 'MURA-v1.1/valid/XR_FINGER/patient11886/study1_positive/': 1, 'MURA-v1.1/valid/XR_FINGER/patient11887/study1_positive/': 1, 'MURA-v1.1/valid/XR_FINGER/patient11888/study1_positive/': 1, 'MURA-v1.1/valid/XR_FINGER/patient11291/study1_positive/': 1, 'MURA-v1.1/valid/XR_FINGER/patient11480/study1_positive/': 1, 'MURA-v1.1/valid/XR_FINGER/patient11889/study1_positive/': 1, 'MURA-v1.1/valid/XR_FINGER/patient11446/study1_positive/': 1, 'MURA-v1.1/valid/XR_FINGER/patient11890/study1_positive/': 1, 'MURA-v1.1/valid/XR_FINGER/patient11385/study1_positive/': 1, 'MURA-v1.1/valid/XR_FINGER/patient11891/study1_positive/': 1, 'MURA-v1.1/valid/XR_FINGER/patient11220/study1_positive/': 1, 'MURA-v1.1/valid/XR_FINGER/patient11261/study1_positive/': 1, 'MURA-v1.1/valid/XR_FINGER/patient11892/study1_positive/': 1, 'MURA-v1.1/valid/XR_FINGER/patient11523/study1_positive/': 1, 'MURA-v1.1/valid/XR_FINGER/patient11523/study2_negative/': 0, 'MURA-v1.1/valid/XR_FINGER/patient11893/study1_positive/': 1, 'MURA-v1.1/valid/XR_FINGER/patient11849/study1_positive/': 1, 'MURA-v1.1/valid/XR_FINGER/patient11894/study1_positive/': 1, 'MURA-v1.1/valid/XR_FINGER/patient11895/study1_positive/': 1, 'MURA-v1.1/valid/XR_FINGER/patient11896/study1_positive/': 1, 'MURA-v1.1/valid/XR_FINGER/patient11721/study1_positive/': 1, 'MURA-v1.1/valid/XR_FINGER/patient11897/study1_positive/': 1, 'MURA-v1.1/valid/XR_FINGER/patient11898/study1_positive/': 1, 'MURA-v1.1/valid/XR_FINGER/patient11572/study1_positive/': 1, 'MURA-v1.1/valid/XR_FINGER/patient11899/study1_positive/': 1, 'MURA-v1.1/valid/XR_FINGER/patient11900/study1_positive/': 1, 'MURA-v1.1/valid/XR_FINGER/patient11901/study1_positive/': 1, 'MURA-v1.1/valid/XR_FINGER/patient11902/study1_positive/': 1, 'MURA-v1.1/valid/XR_FINGER/patient11903/study1_positive/': 1, 'MURA-v1.1/valid/XR_FINGER/patient11880/study1_positive/': 1, 'MURA-v1.1/valid/XR_FINGER/patient11723/study1_positive/': 1, 'MURA-v1.1/valid/XR_FINGER/patient11598/study1_positive/': 1, 'MURA-v1.1/valid/XR_FINGER/patient11705/study1_positive/': 1, 'MURA-v1.1/valid/XR_FINGER/patient11369/study1_positive/': 1, 'MURA-v1.1/valid/XR_FINGER/patient11904/study1_positive/': 1, 'MURA-v1.1/valid/XR_FINGER/patient11754/study1_positive/': 1, 'MURA-v1.1/valid/XR_FINGER/patient11905/study1_positive/': 1, 'MURA-v1.1/valid/XR_FINGER/patient11213/study1_positive/': 1, 'MURA-v1.1/valid/XR_FINGER/patient11213/study2_negative/': 0, 'MURA-v1.1/valid/XR_FINGER/patient11561/study1_positive/': 1, 'MURA-v1.1/valid/XR_FINGER/patient11561/study2_negative/': 0, 'MURA-v1.1/valid/XR_FINGER/patient11906/study1_positive/': 1, 'MURA-v1.1/valid/XR_FINGER/patient11253/study1_positive/': 1, 'MURA-v1.1/valid/XR_FINGER/patient11907/study1_positive/': 1, 'MURA-v1.1/valid/XR_FINGER/patient11908/study1_positive/': 1, 'MURA-v1.1/valid/XR_FINGER/patient11420/study1_positive/': 1, 'MURA-v1.1/valid/XR_FINGER/patient11909/study1_positive/': 1, 'MURA-v1.1/valid/XR_FINGER/patient11910/study1_positive/': 1, 'MURA-v1.1/valid/XR_FINGER/patient11619/study1_positive/': 1, 'MURA-v1.1/valid/XR_FINGER/patient11410/study1_positive/': 1, 'MURA-v1.1/valid/XR_FINGER/patient11911/study1_positive/': 1, 'MURA-v1.1/valid/XR_FINGER/patient11341/study1_positive/': 1, 'MURA-v1.1/valid/XR_FINGER/patient11569/study1_positive/': 1, 'MURA-v1.1/valid/XR_FINGER/patient11912/study1_positive/': 1, 'MURA-v1.1/valid/XR_FINGER/patient11913/study1_positive/': 1, 'MURA-v1.1/valid/XR_FINGER/patient11315/study1_positive/': 1, 'MURA-v1.1/valid/XR_FINGER/patient11914/study1_positive/': 1, 'MURA-v1.1/valid/XR_FINGER/patient11347/study1_positive/': 1, 'MURA-v1.1/valid/XR_FINGER/patient11915/study1_positive/': 1, 'MURA-v1.1/valid/XR_FINGER/patient11667/study1_positive/': 1, 'MURA-v1.1/valid/XR_FINGER/patient11916/study1_positive/': 1, 'MURA-v1.1/valid/XR_FINGER/patient11383/study1_positive/': 1, 'MURA-v1.1/valid/XR_FINGER/patient11466/study1_positive/': 1, 'MURA-v1.1/valid/XR_FINGER/patient11713/study1_positive/': 1, 'MURA-v1.1/valid/XR_FINGER/patient11397/study1_positive/': 1, 'MURA-v1.1/valid/XR_FINGER/patient11461/study1_positive/': 1, 'MURA-v1.1/valid/XR_FINGER/patient11546/study1_positive/': 1, 'MURA-v1.1/valid/XR_FINGER/patient11917/study1_positive/': 1, 'MURA-v1.1/valid/XR_FINGER/patient11918/study1_positive/': 1, 'MURA-v1.1/valid/XR_FINGER/patient11919/study1_positive/': 1, 'MURA-v1.1/valid/XR_FINGER/patient11920/study1_positive/': 1, 'MURA-v1.1/valid/XR_FINGER/patient11424/study1_positive/': 1, 'MURA-v1.1/valid/XR_FINGER/patient11863/study1_positive/': 1, 'MURA-v1.1/valid/XR_FINGER/patient11276/study1_positive/': 1, 'MURA-v1.1/valid/XR_FINGER/patient11330/study1_positive/': 1, 'MURA-v1.1/valid/XR_FINGER/patient11300/study1_positive/': 1, 'MURA-v1.1/valid/XR_FINGER/patient11300/study2_negative/': 0, 'MURA-v1.1/valid/XR_FINGER/patient11300/study3_negative/': 0, 'MURA-v1.1/valid/XR_FINGER/patient11272/study1_positive/': 1, 'MURA-v1.1/valid/XR_FINGER/patient11200/study1_positive/': 1, 'MURA-v1.1/valid/XR_FINGER/patient11578/study1_positive/': 1, 'MURA-v1.1/valid/XR_FINGER/patient11921/study1_positive/': 1, 'MURA-v1.1/valid/XR_FINGER/patient11833/study1_positive/': 1, 'MURA-v1.1/valid/XR_FINGER/patient11288/study1_positive/': 1, 'MURA-v1.1/valid/XR_FINGER/patient11922/study1_negative/': 0, 'MURA-v1.1/valid/XR_FINGER/patient11923/study1_negative/': 0, 'MURA-v1.1/valid/XR_FINGER/patient11603/study1_negative/': 0, 'MURA-v1.1/valid/XR_FINGER/patient11532/study1_negative/': 0, 'MURA-v1.1/valid/XR_FINGER/patient11477/study1_negative/': 0, 'MURA-v1.1/valid/XR_FINGER/patient11477/study2_negative/': 0, 'MURA-v1.1/valid/XR_FINGER/patient11924/study1_negative/': 0, 'MURA-v1.1/valid/XR_FINGER/patient11925/study1_negative/': 0, 'MURA-v1.1/valid/XR_FINGER/patient11926/study1_negative/': 0, 'MURA-v1.1/valid/XR_FINGER/patient11927/study1_negative/': 0, 'MURA-v1.1/valid/XR_FINGER/patient11234/study1_negative/': 0, 'MURA-v1.1/valid/XR_FINGER/patient11812/study1_negative/': 0, 'MURA-v1.1/valid/XR_FINGER/patient11812/study2_negative/': 0, 'MURA-v1.1/valid/XR_FINGER/patient11581/study1_negative/': 0, 'MURA-v1.1/valid/XR_FINGER/patient11928/study1_negative/': 0, 'MURA-v1.1/valid/XR_FINGER/patient11929/study1_negative/': 0, 'MURA-v1.1/valid/XR_FINGER/patient11930/study1_negative/': 0, 'MURA-v1.1/valid/XR_FINGER/patient11614/study1_negative/': 0, 'MURA-v1.1/valid/XR_FINGER/patient11596/study1_negative/': 0, 'MURA-v1.1/valid/XR_FINGER/patient11931/study1_negative/': 0, 'MURA-v1.1/valid/XR_FINGER/patient11932/study1_negative/': 0, 'MURA-v1.1/valid/XR_FINGER/patient11933/study1_negative/': 0, 'MURA-v1.1/valid/XR_FINGER/patient11934/study1_negative/': 0, 'MURA-v1.1/valid/XR_FINGER/patient11601/study1_negative/': 0, 'MURA-v1.1/valid/XR_FINGER/patient11711/study1_negative/': 0, 'MURA-v1.1/valid/XR_FINGER/patient11935/study1_negative/': 0, 'MURA-v1.1/valid/XR_FINGER/patient11935/study2_negative/': 0, 'MURA-v1.1/valid/XR_FINGER/patient11936/study1_negative/': 0, 'MURA-v1.1/valid/XR_FINGER/patient11937/study1_negative/': 0, 'MURA-v1.1/valid/XR_FINGER/patient11938/study1_negative/': 0, 'MURA-v1.1/valid/XR_FINGER/patient11513/study1_negative/': 0, 'MURA-v1.1/valid/XR_FINGER/patient11939/study1_negative/': 0, 'MURA-v1.1/valid/XR_FINGER/patient11940/study1_negative/': 0, 'MURA-v1.1/valid/XR_FINGER/patient11859/study1_negative/': 0, 'MURA-v1.1/valid/XR_FINGER/patient11941/study1_negative/': 0, 'MURA-v1.1/valid/XR_FINGER/patient11942/study1_negative/': 0, 'MURA-v1.1/valid/XR_FINGER/patient11943/study1_negative/': 0, 'MURA-v1.1/valid/XR_FINGER/patient11944/study1_negative/': 0, 'MURA-v1.1/valid/XR_FINGER/patient11647/study1_negative/': 0, 'MURA-v1.1/valid/XR_FINGER/patient11739/study1_negative/': 0, 'MURA-v1.1/valid/XR_FINGER/patient11411/study1_negative/': 0, 'MURA-v1.1/valid/XR_FINGER/patient11279/study1_negative/': 0, 'MURA-v1.1/valid/XR_FINGER/patient11576/study1_negative/': 0, 'MURA-v1.1/valid/XR_FINGER/patient11945/study1_negative/': 0, 'MURA-v1.1/valid/XR_FINGER/patient11348/study1_negative/': 0, 'MURA-v1.1/valid/XR_FINGER/patient11649/study1_negative/': 0, 'MURA-v1.1/valid/XR_FINGER/patient11374/study1_negative/': 0, 'MURA-v1.1/valid/XR_FINGER/patient11839/study1_negative/': 0, 'MURA-v1.1/valid/XR_FINGER/patient11946/study1_negative/': 0, 'MURA-v1.1/valid/XR_FINGER/patient11946/study2_negative/': 0, 'MURA-v1.1/valid/XR_FINGER/patient11947/study1_negative/': 0, 'MURA-v1.1/valid/XR_FINGER/patient11948/study1_negative/': 0, 'MURA-v1.1/valid/XR_FINGER/patient11949/study1_negative/': 0, 'MURA-v1.1/valid/XR_FINGER/patient11950/study1_negative/': 0, 'MURA-v1.1/valid/XR_FINGER/patient11951/study1_negative/': 0, 'MURA-v1.1/valid/XR_FINGER/patient11338/study1_negative/': 0, 'MURA-v1.1/valid/XR_FINGER/patient11952/study1_negative/': 0, 'MURA-v1.1/valid/XR_FINGER/patient11953/study1_negative/': 0, 'MURA-v1.1/valid/XR_FINGER/patient11954/study1_negative/': 0, 'MURA-v1.1/valid/XR_FINGER/patient11606/study1_negative/': 0, 'MURA-v1.1/valid/XR_FINGER/patient11955/study1_negative/': 0, 'MURA-v1.1/valid/XR_FINGER/patient11413/study1_negative/': 0, 'MURA-v1.1/valid/XR_FINGER/patient11475/study1_negative/': 0, 'MURA-v1.1/valid/XR_FINGER/patient11416/study1_negative/': 0, 'MURA-v1.1/valid/XR_FINGER/patient11419/study1_negative/': 0, 'MURA-v1.1/valid/XR_FINGER/patient11847/study1_negative/': 0, 'MURA-v1.1/valid/XR_FINGER/patient11956/study1_negative/': 0, 'MURA-v1.1/valid/XR_FINGER/patient11957/study1_negative/': 0, 'MURA-v1.1/valid/XR_FINGER/patient11958/study1_negative/': 0, 'MURA-v1.1/valid/XR_FINGER/patient11192/study1_negative/': 0, 'MURA-v1.1/valid/XR_FINGER/patient11959/study1_negative/': 0, 'MURA-v1.1/valid/XR_FINGER/patient11960/study1_negative/': 0, 'MURA-v1.1/valid/XR_FINGER/patient11191/study1_negative/': 0, 'MURA-v1.1/valid/XR_FINGER/patient11961/study1_negative/': 0, 'MURA-v1.1/valid/XR_FINGER/patient11962/study1_negative/': 0, 'MURA-v1.1/valid/XR_FINGER/patient11455/study1_negative/': 0, 'MURA-v1.1/valid/XR_FINGER/patient11329/study1_negative/': 0, 'MURA-v1.1/valid/XR_FINGER/patient11496/study1_negative/': 0, 'MURA-v1.1/valid/XR_FINGER/patient11354/study1_negative/': 0, 'MURA-v1.1/valid/XR_FINGER/patient11963/study1_negative/': 0, 'MURA-v1.1/valid/XR_FINGER/patient11964/study1_negative/': 0, 'MURA-v1.1/valid/XR_FINGER/patient11431/study1_negative/': 0, 'MURA-v1.1/valid/XR_FINGER/patient11965/study1_negative/': 0, 'MURA-v1.1/valid/XR_FINGER/patient11855/study1_negative/': 0, 'MURA-v1.1/valid/XR_FINGER/patient11966/study1_negative/': 0, 'MURA-v1.1/valid/XR_FINGER/patient11967/study1_negative/': 0, 'MURA-v1.1/valid/XR_FINGER/patient11738/study1_negative/': 0}\n",
      "../datasets/MURA-v1.1/valid\n"
     ]
    }
   ],
   "source": [
    "print(valid_loader.dataset.image_df)\n",
    "print(valid_loader.dataset.label_map)\n",
    "print(valid_loader.dataset.root_dir)"
   ]
  },
  {
   "cell_type": "code",
   "execution_count": 122,
   "metadata": {},
   "outputs": [
    {
     "name": "stdout",
     "output_type": "stream",
     "text": [
      "[DEBUG] Batch Inputs Shape: torch.Size([32, 3, 224, 224]), Labels: tensor([1, 1, 1, 1, 1, 1, 1, 1, 1, 1, 1, 1, 1, 1, 1, 1, 1, 1, 1, 1, 1, 1, 1, 1,\n",
      "        1, 1, 1, 1, 1, 1, 1, 1])\n"
     ]
    },
    {
     "data": {
      "image/png": "[encoded data removed]",
      "text/plain": [
       "<Figure size 1200x400 with 3 Axes>"
      ]
     },
     "metadata": {},
     "output_type": "display_data"
    }
   ],
   "source": [
    "run_gradcam(model, valid_loader, target_layer, class_names=[\"Normal\", \"Abnormal\"], device=device)"
   ]
  },
  {
   "cell_type": "code",
   "execution_count": 78,
   "metadata": {},
   "outputs": [
    {
     "ename": "KeyError",
     "evalue": "'Label not found for study path: MURA-v1.1/valid/../../../MURA-v1.1/valid/XR_WRIST/patient11185/study1_positive/'",
     "output_type": "error",
     "traceback": [
      "\u001b[1;31m---------------------------------------------------------------------------\u001b[0m",
      "\u001b[1;31mKeyError\u001b[0m                                  Traceback (most recent call last)",
      "Cell \u001b[1;32mIn[78], line 3\u001b[0m\n\u001b[0;32m      1\u001b[0m \u001b[38;5;66;03m# Example usage\u001b[39;00m\n\u001b[0;32m      2\u001b[0m \u001b[38;5;66;03m# Assume `model`, `train_dataset`, `val_dataset`, and `gradcam` are defined\u001b[39;00m\n\u001b[1;32m----> 3\u001b[0m \u001b[43mvisualize_gradcam_examples\u001b[49m\u001b[43m(\u001b[49m\n\u001b[0;32m      4\u001b[0m \u001b[43m    \u001b[49m\u001b[43mmodel\u001b[49m\u001b[38;5;241;43m=\u001b[39;49m\u001b[43mmodel\u001b[49m\u001b[43m,\u001b[49m\u001b[43m \u001b[49m\n\u001b[0;32m      5\u001b[0m \u001b[43m    \u001b[49m\u001b[43mdataset\u001b[49m\u001b[38;5;241;43m=\u001b[39;49m\u001b[43mvalid_dataset\u001b[49m\u001b[43m,\u001b[49m\u001b[43m \u001b[49m\n\u001b[0;32m      6\u001b[0m \u001b[43m    \u001b[49m\u001b[43mnum_examples\u001b[49m\u001b[38;5;241;43m=\u001b[39;49m\u001b[38;5;241;43m5\u001b[39;49m\u001b[43m,\u001b[49m\u001b[43m \u001b[49m\n\u001b[0;32m      7\u001b[0m \u001b[43m    \u001b[49m\u001b[43mdataset_type\u001b[49m\u001b[38;5;241;43m=\u001b[39;49m\u001b[38;5;124;43m\"\u001b[39;49m\u001b[38;5;124;43mvalid\u001b[39;49m\u001b[38;5;124;43m\"\u001b[39;49m\u001b[43m,\u001b[49m\u001b[43m \u001b[49m\n\u001b[0;32m      8\u001b[0m \u001b[43m    \u001b[49m\u001b[43mbody_part\u001b[49m\u001b[38;5;241;43m=\u001b[39;49m\u001b[38;5;124;43m\"\u001b[39;49m\u001b[38;5;124;43mXR_ELBOW\u001b[39;49m\u001b[38;5;124;43m\"\u001b[39;49m\u001b[43m,\u001b[49m\u001b[43m \u001b[49m\n\u001b[0;32m      9\u001b[0m \u001b[43m    \u001b[49m\u001b[38;5;66;43;03m#patient_name=\"patient123\"\u001b[39;49;00m\n\u001b[0;32m     10\u001b[0m \u001b[43m)\u001b[49m\n",
      "File \u001b[1;32mc:\\code\\BoneawareAI\\notebooks\\../src\\visualizer.py:197\u001b[0m, in \u001b[0;36mvisualize_gradcam_examples\u001b[1;34m(model, dataset, num_examples, dataset_type, body_part, patient_name)\u001b[0m\n\u001b[0;32m    186\u001b[0m \u001b[38;5;28;01mdef\u001b[39;00m \u001b[38;5;21mvisualize_gradcam_examples\u001b[39m(\n\u001b[0;32m    187\u001b[0m     model, dataset, num_examples\u001b[38;5;241m=\u001b[39m\u001b[38;5;241m5\u001b[39m, dataset_type\u001b[38;5;241m=\u001b[39m\u001b[38;5;124m\"\u001b[39m\u001b[38;5;124mvalid\u001b[39m\u001b[38;5;124m\"\u001b[39m, \n\u001b[0;32m    188\u001b[0m     body_part\u001b[38;5;241m=\u001b[39m\u001b[38;5;28;01mNone\u001b[39;00m, patient_name\u001b[38;5;241m=\u001b[39m\u001b[38;5;28;01mNone\u001b[39;00m\n\u001b[0;32m    189\u001b[0m ):\n\u001b[0;32m    190\u001b[0m \u001b[38;5;250m    \u001b[39m\u001b[38;5;124;03m\"\"\"\u001b[39;00m\n\u001b[0;32m    191\u001b[0m \u001b[38;5;124;03m    Visualize Grad-CAM examples for a model and dataset.\u001b[39;00m\n\u001b[0;32m    192\u001b[0m \n\u001b[0;32m    193\u001b[0m \u001b[38;5;124;03m    Args:\u001b[39;00m\n\u001b[0;32m    194\u001b[0m \u001b[38;5;124;03m        model (nn.Module): The trained model.\u001b[39;00m\n\u001b[0;32m    195\u001b[0m \u001b[38;5;124;03m        dataset (Dataset): Dataset object (train/validation).\u001b[39;00m\n\u001b[0;32m    196\u001b[0m \u001b[38;5;124;03m        gradcam (GradCam): Grad-CAM instance.\u001b[39;00m\n\u001b[1;32m--> 197\u001b[0m \u001b[38;5;124;03m        num_examples (int): Number of examples to display.\u001b[39;00m\n\u001b[0;32m    198\u001b[0m \u001b[38;5;124;03m        dataset_type (str): \"train\" or \"validation\".\u001b[39;00m\n\u001b[0;32m    199\u001b[0m \u001b[38;5;124;03m        body_part (str): Filter by body part type.\u001b[39;00m\n\u001b[0;32m    200\u001b[0m \u001b[38;5;124;03m        patient_name (str): Filter by patient name.\u001b[39;00m\n\u001b[0;32m    201\u001b[0m \u001b[38;5;124;03m    \"\"\"\u001b[39;00m\n\u001b[0;32m    202\u001b[0m     \u001b[38;5;66;03m# Filter dataset by dataset_type\u001b[39;00m\n\u001b[0;32m    203\u001b[0m     dataset_filtered \u001b[38;5;241m=\u001b[39m [\n\u001b[0;32m    204\u001b[0m         item \u001b[38;5;28;01mfor\u001b[39;00m item \u001b[38;5;129;01min\u001b[39;00m dataset \u001b[38;5;28;01mif\u001b[39;00m dataset_type \u001b[38;5;129;01min\u001b[39;00m item[\u001b[38;5;124m'\u001b[39m\u001b[38;5;124mimage_path\u001b[39m\u001b[38;5;124m'\u001b[39m]\n\u001b[0;32m    205\u001b[0m     ]\n",
      "File \u001b[1;32mc:\\code\\BoneawareAI\\notebooks\\../src\\visualizer.py:197\u001b[0m, in \u001b[0;36m<listcomp>\u001b[1;34m(.0)\u001b[0m\n\u001b[0;32m    186\u001b[0m \u001b[38;5;28;01mdef\u001b[39;00m \u001b[38;5;21mvisualize_gradcam_examples\u001b[39m(\n\u001b[0;32m    187\u001b[0m     model, dataset, num_examples\u001b[38;5;241m=\u001b[39m\u001b[38;5;241m5\u001b[39m, dataset_type\u001b[38;5;241m=\u001b[39m\u001b[38;5;124m\"\u001b[39m\u001b[38;5;124mvalid\u001b[39m\u001b[38;5;124m\"\u001b[39m, \n\u001b[0;32m    188\u001b[0m     body_part\u001b[38;5;241m=\u001b[39m\u001b[38;5;28;01mNone\u001b[39;00m, patient_name\u001b[38;5;241m=\u001b[39m\u001b[38;5;28;01mNone\u001b[39;00m\n\u001b[0;32m    189\u001b[0m ):\n\u001b[0;32m    190\u001b[0m \u001b[38;5;250m    \u001b[39m\u001b[38;5;124;03m\"\"\"\u001b[39;00m\n\u001b[0;32m    191\u001b[0m \u001b[38;5;124;03m    Visualize Grad-CAM examples for a model and dataset.\u001b[39;00m\n\u001b[0;32m    192\u001b[0m \n\u001b[0;32m    193\u001b[0m \u001b[38;5;124;03m    Args:\u001b[39;00m\n\u001b[0;32m    194\u001b[0m \u001b[38;5;124;03m        model (nn.Module): The trained model.\u001b[39;00m\n\u001b[0;32m    195\u001b[0m \u001b[38;5;124;03m        dataset (Dataset): Dataset object (train/validation).\u001b[39;00m\n\u001b[0;32m    196\u001b[0m \u001b[38;5;124;03m        gradcam (GradCam): Grad-CAM instance.\u001b[39;00m\n\u001b[1;32m--> 197\u001b[0m \u001b[38;5;124;03m        num_examples (int): Number of examples to display.\u001b[39;00m\n\u001b[0;32m    198\u001b[0m \u001b[38;5;124;03m        dataset_type (str): \"train\" or \"validation\".\u001b[39;00m\n\u001b[0;32m    199\u001b[0m \u001b[38;5;124;03m        body_part (str): Filter by body part type.\u001b[39;00m\n\u001b[0;32m    200\u001b[0m \u001b[38;5;124;03m        patient_name (str): Filter by patient name.\u001b[39;00m\n\u001b[0;32m    201\u001b[0m \u001b[38;5;124;03m    \"\"\"\u001b[39;00m\n\u001b[0;32m    202\u001b[0m     \u001b[38;5;66;03m# Filter dataset by dataset_type\u001b[39;00m\n\u001b[0;32m    203\u001b[0m     dataset_filtered \u001b[38;5;241m=\u001b[39m [\n\u001b[0;32m    204\u001b[0m         item \u001b[38;5;28;01mfor\u001b[39;00m item \u001b[38;5;129;01min\u001b[39;00m dataset \u001b[38;5;28;01mif\u001b[39;00m dataset_type \u001b[38;5;129;01min\u001b[39;00m item[\u001b[38;5;124m'\u001b[39m\u001b[38;5;124mimage_path\u001b[39m\u001b[38;5;124m'\u001b[39m]\n\u001b[0;32m    205\u001b[0m     ]\n",
      "File \u001b[1;32mc:\\code\\BoneawareAI\\notebooks\\../src\\image_utils.py:92\u001b[0m, in \u001b[0;36mMURADataset.__getitem__\u001b[1;34m(self, idx)\u001b[0m\n\u001b[0;32m     90\u001b[0m label \u001b[38;5;241m=\u001b[39m \u001b[38;5;28mself\u001b[39m\u001b[38;5;241m.\u001b[39mlabel_map\u001b[38;5;241m.\u001b[39mget(full_study_dir_key, \u001b[38;5;241m-\u001b[39m\u001b[38;5;241m1\u001b[39m)\n\u001b[0;32m     91\u001b[0m \u001b[38;5;28;01mif\u001b[39;00m label \u001b[38;5;241m==\u001b[39m \u001b[38;5;241m-\u001b[39m\u001b[38;5;241m1\u001b[39m:\n\u001b[1;32m---> 92\u001b[0m     \u001b[38;5;28;01mraise\u001b[39;00m \u001b[38;5;167;01mKeyError\u001b[39;00m(\u001b[38;5;124mf\u001b[39m\u001b[38;5;124m\"\u001b[39m\u001b[38;5;124mLabel not found for study path: \u001b[39m\u001b[38;5;132;01m{\u001b[39;00mfull_study_dir_key\u001b[38;5;132;01m}\u001b[39;00m\u001b[38;5;124m\"\u001b[39m)\n\u001b[0;32m     94\u001b[0m \u001b[38;5;66;03m# Load the image\u001b[39;00m\n\u001b[0;32m     95\u001b[0m image \u001b[38;5;241m=\u001b[39m Image\u001b[38;5;241m.\u001b[39mopen(full_img_path)\u001b[38;5;241m.\u001b[39mconvert(\u001b[38;5;124m\"\u001b[39m\u001b[38;5;124mRGB\u001b[39m\u001b[38;5;124m\"\u001b[39m)\n",
      "\u001b[1;31mKeyError\u001b[0m: 'Label not found for study path: MURA-v1.1/valid/../../../MURA-v1.1/valid/XR_WRIST/patient11185/study1_positive/'"
     ]
    }
   ],
   "source": [
    "# Example usage\n",
    "# Assume `model`, `train_dataset`, `val_dataset`, and `gradcam` are defined\n",
    "visualize_gradcam_examples(\n",
    "    model=model, \n",
    "    dataset=valid_dataset, \n",
    "    num_examples=5, \n",
    "    dataset_type=\"valid\", \n",
    "    body_part=\"XR_ELBOW\", \n",
    "    #patient_name=\"patient123\"\n",
    ")"
   ]
  },
  {
   "cell_type": "code",
   "execution_count": 34,
   "metadata": {},
   "outputs": [
    {
     "ename": "NameError",
     "evalue": "name 'input_batch' is not defined",
     "output_type": "error",
     "traceback": [
      "\u001b[1;31m---------------------------------------------------------------------------\u001b[0m",
      "\u001b[1;31mNameError\u001b[0m                                 Traceback (most recent call last)",
      "Cell \u001b[1;32mIn[34], line 3\u001b[0m\n\u001b[0;32m      1\u001b[0m gradcam \u001b[38;5;241m=\u001b[39m GradCAM(model, target_layer)\n\u001b[1;32m----> 3\u001b[0m heatmap, predicted_class_idx, predicted_prob \u001b[38;5;241m=\u001b[39m gradcam\u001b[38;5;241m.\u001b[39mcompute_heatmap(\u001b[43minput_batch\u001b[49m)\n",
      "\u001b[1;31mNameError\u001b[0m: name 'input_batch' is not defined"
     ]
    }
   ],
   "source": [
    "gradcam = GradCAM(model, target_layer)\n",
    "\n",
    "heatmap, predicted_class_idx, predicted_prob = gradcam.compute_heatmap(input_batch)"
   ]
  },
  {
   "cell_type": "code",
   "execution_count": null,
   "metadata": {},
   "outputs": [],
   "source": [
    "predicted_class_name = class_labels[predicted_class_idx]\n",
    "print(f\"Predicted class: {predicted_class_name} (index: {predicted_class_idx}, probability: {predicted_prob:.2%})\")\n"
   ]
  }
 ],
 "metadata": {
  "accelerator": "GPU",
  "colab": {
   "gpuType": "L4",
   "machine_shape": "hm",
   "provenance": []
  },
  "kernelspec": {
   "display_name": "Python 3",
   "name": "python3"
  },
  "language_info": {
   "codemirror_mode": {
    "name": "ipython",
    "version": 3
   },
   "file_extension": ".py",
   "mimetype": "text/x-python",
   "name": "python",
   "nbconvert_exporter": "python",
   "pygments_lexer": "ipython3",
   "version": "3.12.0"
  }
 },
 "nbformat": 4,
 "nbformat_minor": 0
}
